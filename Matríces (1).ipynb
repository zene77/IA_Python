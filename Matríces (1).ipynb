{
 "cells": [
  {
   "cell_type": "code",
   "execution_count": 3,
   "id": "1bfa2c0b-f0aa-41dc-a6f1-3a8ab1254d88",
   "metadata": {},
   "outputs": [],
   "source": [
    "# Querido estudiante,\n",
    "#\n",
    "#Bienvenido al mundo de los datos del Basketball!\n",
    "#Estoy seguro de que vas a disfrutar esta sección del curso de Programación en Python\n",
    "#\n",
    "#Instrucciones para este set de datos: \n",
    "#Simplemente copia TODAS las líneas en este archivo presionando \n",
    "#CTRL+A en Windows o CMND+A en Mac, pega en un Jupyter Notebook y corre la celda del Jupyter Notebook \n",
    "#Una vez que hayas ejecutado los comandos, los siguientes objetos serán creados: \n",
    "#Matrices:\n",
    "# - sueldo\n",
    "# - juegos\n",
    "# - minutos_jugados\n",
    "# - tiros_anotados\n",
    "# - tiros_intentados\n",
    "# - puntos\n",
    "# Listas:\n",
    "# - jugadores\n",
    "# - temporadas\n",
    "# Diccionarios (este concepto lo vamos a aprender durante la sección):\n",
    "# - dic_temp\n",
    "# - dic_jug\n",
    "#\n",
    "# Sinceramente\n",
    "# Diego López\n",
    "#www.superdatascience.com\n",
    "#\n",
    "#Copyright: Estos sets de datos fueron creados usando información disponible al público\n",
    "#\tSin embargo, estos scripts están protegidos por leyes de Derecho de Autor\n",
    "#\tSi deseas usar este script de Python fuera del curso de Programación en Python,\n",
    "#\tcreado por Kirill Eremenko, lo puedes hacer siempre y cuando hagas referencia a \n",
    "#\twww.superdatascience.com en tu trabajo\n",
    "#\n",
    "#Comentarios: \n",
    "#Las temporadas están etiquetadas con el primer año de la temporada\n",
    "#Ejemplo: la temporada 2012-2013 es presentada como 2012\n",
    "#\n",
    "# Notas adicionales:\n",
    "#Kevin Durant: 2006 - Datos de temporada universitaria\n",
    "#Kevin Durant: 2005 – Creada con datos  del 2006\n",
    "#Derrick Rose: 2012 – No jugó\n",
    "#Derrick Rose: 2007 - Datos de temporada universitaria\n",
    "#Derrick Rose: 2006 – Creada con datos de temporada 2007\n",
    "#Derrick Rose: 2005 – Creada con datos de temporada 2007\n",
    "\n",
    "\n",
    "#Importar numpy\n",
    "import numpy as np\n",
    "\n",
    "#Temporadas\n",
    "temporadas = [\"2005\",\"2006\",\"2007\",\"2008\",\"2009\",\"2010\",\"2011\",\"2012\",\"2013\",\"2014\"]\n",
    "dic_temp = {\"2005\":0,\"2006\":1,\"2007\":2,\"2008\":3,\"2009\":4,\"2010\":5,\"2011\":6,\"2012\":7,\"2013\":8,\"2014\":9}\n",
    "\n",
    "#Jugadores\n",
    "jugadores = [\"KobeBryant\",\"JoeJohnson\",\"LeBronJames\",\"CarmeloAnthony\",\"DwightHoward\",\"ChrisBosh\",\"ChrisPaul\",\"KevinDurant\",\"DerrickRose\",\"DwayneWade\"]\n",
    "dic_jug = {\"KobeBryant\":0,\"JoeJohnson\":1,\"LeBronJames\":2,\"CarmeloAnthony\":3,\"DwightHoward\":4,\"ChrisBosh\":5,\"ChrisPaul\":6,\"KevinDurant\":7,\"DerrickRose\":8,\"DwayneWade\":9}\n",
    "\n",
    "#Sueldo\n",
    "KobeBryant_sueldo = [15946875,17718750,19490625,21262500,23034375,24806250,25244493,27849149,30453805,23500000]\n",
    "JoeJohnson_sueldo = [12000000,12744189,13488377,14232567,14976754,16324500,18038573,19752645,21466718,23180790]\n",
    "LeBronJames_sueldo = [4621800,5828090,13041250,14410581,15779912,14500000,16022500,17545000,19067500,20644400]\n",
    "CarmeloAnthony_sueldo = [3713640,4694041,13041250,14410581,15779912,17149243,18518574,19450000,22407474,22458000]\n",
    "DwightHoward_sueldo = [4493160,4806720,6061274,13758000,15202590,16647180,18091770,19536360,20513178,21436271]\n",
    "ChrisBosh_sueldo = [3348000,4235220,12455000,14410581,15779912,14500000,16022500,17545000,19067500,20644400]\n",
    "ChrisPaul_sueldo = [3144240,3380160,3615960,4574189,13520500,14940153,16359805,17779458,18668431,20068563]\n",
    "KevinDurant_sueldo = [0,0,4171200,4484040,4796880,6053663,15506632,16669630,17832627,18995624]\n",
    "DerrickRose_sueldo = [0,0,0,4822800,5184480,5546160,6993708,16402500,17632688,18862875]\n",
    "DwayneWade_sueldo = [3031920,3841443,13041250,14410581,15779912,14200000,15691000,17182000,18673000,15000000]\n",
    "#Matriz\n",
    "sueldo = np.array([KobeBryant_sueldo, JoeJohnson_sueldo, LeBronJames_sueldo, CarmeloAnthony_sueldo, DwightHoward_sueldo, ChrisBosh_sueldo, ChrisPaul_sueldo, KevinDurant_sueldo, DerrickRose_sueldo, DwayneWade_sueldo])\n",
    "\n",
    "#Juegos \n",
    "KobeBryant_j = [80,77,82,82,73,82,58,78,6,35]\n",
    "JoeJohnson_j = [82,57,82,79,76,72,60,72,79,80]\n",
    "LeBronJames_j = [79,78,75,81,76,79,62,76,77,69]\n",
    "CarmeloAnthony_j = [80,65,77,66,69,77,55,67,77,40]\n",
    "DwightHoward_j = [82,82,82,79,82,78,54,76,71,41]\n",
    "ChrisBosh_j = [70,69,67,77,70,77,57,74,79,44]\n",
    "ChrisPaul_j = [78,64,80,78,45,80,60,70,62,82]\n",
    "KevinDurant_j = [35,35,80,74,82,78,66,81,81,27]\n",
    "DerrickRose_j = [40,40,40,81,78,81,39,0,10,51]\n",
    "DwayneWade_j = [75,51,51,79,77,76,49,69,54,62]\n",
    "#Matrix\n",
    "juegos = np.array([KobeBryant_j, JoeJohnson_j, LeBronJames_j, CarmeloAnthony_j, DwightHoward_j, ChrisBosh_j, ChrisPaul_j, KevinDurant_j, DerrickRose_j, DwayneWade_j])\n",
    "\n",
    "#Minutos Jugados\n",
    "KobeBryant_mj = [3277,3140,3192,2960,2835,2779,2232,3013,177,1207]\n",
    "JoeJohnson_mj = [3340,2359,3343,3124,2886,2554,2127,2642,2575,2791]\n",
    "LeBronJames_mj = [3361,3190,3027,3054,2966,3063,2326,2877,2902,2493]\n",
    "CarmeloAnthony_mj = [2941,2486,2806,2277,2634,2751,1876,2482,2982,1428]\n",
    "DwightHoward_mj = [3021,3023,3088,2821,2843,2935,2070,2722,2396,1223]\n",
    "ChrisBosh_mj = [2751,2658,2425,2928,2526,2795,2007,2454,2531,1556]\n",
    "ChrisPaul_mj = [2808,2353,3006,3002,1712,2880,2181,2335,2171,2857]\n",
    "KevinDurant_mj = [1255,1255,2768,2885,3239,3038,2546,3119,3122,913]\n",
    "DerrickRose_mj = [1168,1168,1168,3000,2871,3026,1375,0,311,1530]\n",
    "DwayneWade_mj = [2892,1931,1954,3048,2792,2823,1625,2391,1775,1971]\n",
    "#Matriz\n",
    "minutos_jugados = np.array([KobeBryant_mj, JoeJohnson_mj, LeBronJames_mj, CarmeloAnthony_mj, DwightHoward_mj, ChrisBosh_mj, ChrisPaul_mj, KevinDurant_mj, DerrickRose_mj, DwayneWade_mj])\n",
    "\n",
    "#Tiros Anotados\n",
    "KobeBryant_ta = [978,813,775,800,716,740,574,738,31,266]\n",
    "JoeJohnson_ta = [632,536,647,620,635,514,423,445,462,446]\n",
    "LeBronJames_ta = [875,772,794,789,768,758,621,765,767,624]\n",
    "CarmeloAnthony_ta = [756,691,728,535,688,684,441,669,743,358]\n",
    "DwightHoward_ta = [468,526,583,560,510,619,416,470,473,251]\n",
    "ChrisBosh_ta = [549,543,507,615,600,524,393,485,492,343]\n",
    "ChrisPaul_ta = [407,381,630,631,314,430,425,412,406,568]\n",
    "KevinDurant_ta = [306,306,587,661,794,711,643,731,849,238]\n",
    "DerrickRose_ta = [208,208,208,574,672,711,302,0,58,338]\n",
    "DwayneWade_ta = [699,472,439,854,719,692,416,569,415,509]\n",
    "#Matriz\n",
    "tiros_anotados  = np.array([KobeBryant_ta, JoeJohnson_ta, LeBronJames_ta, CarmeloAnthony_ta, DwightHoward_ta, ChrisBosh_ta, ChrisPaul_ta, KevinDurant_ta, DerrickRose_ta, DwayneWade_ta])\n",
    "\n",
    "#Tiros Intentados \n",
    "KobeBryant_ti = [2173,1757,1690,1712,1569,1639,1336,1595,73,713]\n",
    "JoeJohnson_ti = [1395,1139,1497,1420,1386,1161,931,1052,1018,1025]\n",
    "LeBronJames_ti = [1823,1621,1642,1613,1528,1485,1169,1354,1353,1279]\n",
    "CarmeloAnthony_ti = [1572,1453,1481,1207,1502,1503,1025,1489,1643,806]\n",
    "DwightHoward_ti = [881,873,974,979,834,1044,726,813,800,423]\n",
    "ChrisBosh_ti = [1087,1094,1027,1263,1158,1056,807,907,953,745]\n",
    "ChrisPaul_ti = [947,871,1291,1255,637,928,890,856,870,1170]\n",
    "KevinDurant_ti = [647,647,1366,1390,1668,1538,1297,1433,1688,467]\n",
    "DerrickRose_ti = [436,436,436,1208,1373,1597,695,0,164,835]\n",
    "DwayneWade_ti = [1413,962,937,1739,1511,1384,837,1093,761,1084]\n",
    "#Matriz\n",
    "tiros_intentados = np.array([KobeBryant_ti, JoeJohnson_ti, LeBronJames_ti, CarmeloAnthony_ti, DwightHoward_ti, ChrisBosh_ti, ChrisPaul_ti, KevinDurant_ti, DerrickRose_ti, DwayneWade_ti])\n",
    "\n",
    "#Puntos\n",
    "KobeBryant_puntos = [2832,2430,2323,2201,1970,2078,1616,2133,83,782]\n",
    "JoeJohnson_puntos = [1653,1426,1779,1688,1619,1312,1129,1170,1245,1154]\n",
    "LeBronJames_puntos = [2478,2132,2250,2304,2258,2111,1683,2036,2089,1743]\n",
    "CarmeloAnthony_puntos = [2122,1881,1978,1504,1943,1970,1245,1920,2112,966]\n",
    "DwightHoward_puntos = [1292,1443,1695,1624,1503,1784,1113,1296,1297,646]\n",
    "ChrisBosh_puntos = [1572,1561,1496,1746,1678,1438,1025,1232,1281,928]\n",
    "ChrisPaul_puntos = [1258,1104,1684,1781,841,1268,1189,1186,1185,1564]\n",
    "KevinDurant_puntos = [903,903,1624,1871,2472,2161,1850,2280,2593,686]\n",
    "DerrickRose_puntos = [597,597,597,1361,1619,2026,852,0,159,904]\n",
    "DwayneWade_puntos = [2040,1397,1254,2386,2045,1941,1082,1463,1028,1331]\n",
    "#Matriz\n",
    "puntos = np.array([KobeBryant_puntos, JoeJohnson_puntos, LeBronJames_puntos, CarmeloAnthony_puntos, DwightHoward_puntos, ChrisBosh_puntos, ChrisPaul_puntos, KevinDurant_ti, DerrickRose_ti, DwayneWade_ti])"
   ]
  },
  {
   "cell_type": "code",
   "execution_count": 5,
   "id": "e34790ca-ccb7-4d75-a161-1f54bb53a5ae",
   "metadata": {},
   "outputs": [
    {
     "name": "stdout",
     "output_type": "stream",
     "text": [
      "[[15946875 17718750 19490625 21262500 23034375 24806250 25244493 27849149\n",
      "  30453805 23500000]\n",
      " [12000000 12744189 13488377 14232567 14976754 16324500 18038573 19752645\n",
      "  21466718 23180790]\n",
      " [ 4621800  5828090 13041250 14410581 15779912 14500000 16022500 17545000\n",
      "  19067500 20644400]\n",
      " [ 3713640  4694041 13041250 14410581 15779912 17149243 18518574 19450000\n",
      "  22407474 22458000]\n",
      " [ 4493160  4806720  6061274 13758000 15202590 16647180 18091770 19536360\n",
      "  20513178 21436271]\n",
      " [ 3348000  4235220 12455000 14410581 15779912 14500000 16022500 17545000\n",
      "  19067500 20644400]\n",
      " [ 3144240  3380160  3615960  4574189 13520500 14940153 16359805 17779458\n",
      "  18668431 20068563]\n",
      " [       0        0  4171200  4484040  4796880  6053663 15506632 16669630\n",
      "  17832627 18995624]\n",
      " [       0        0        0  4822800  5184480  5546160  6993708 16402500\n",
      "  17632688 18862875]\n",
      " [ 3031920  3841443 13041250 14410581 15779912 14200000 15691000 17182000\n",
      "  18673000 15000000]]\n"
     ]
    }
   ],
   "source": [
    "print(sueldo)\n"
   ]
  },
  {
   "cell_type": "code",
   "execution_count": 7,
   "id": "627edbea-3344-44e6-8180-5db17d22efa5",
   "metadata": {},
   "outputs": [
    {
     "data": {
      "text/plain": [
       "array([[2832, 2430, 2323, 2201, 1970, 2078, 1616, 2133,   83,  782],\n",
       "       [1653, 1426, 1779, 1688, 1619, 1312, 1129, 1170, 1245, 1154],\n",
       "       [2478, 2132, 2250, 2304, 2258, 2111, 1683, 2036, 2089, 1743],\n",
       "       [2122, 1881, 1978, 1504, 1943, 1970, 1245, 1920, 2112,  966],\n",
       "       [1292, 1443, 1695, 1624, 1503, 1784, 1113, 1296, 1297,  646],\n",
       "       [1572, 1561, 1496, 1746, 1678, 1438, 1025, 1232, 1281,  928],\n",
       "       [1258, 1104, 1684, 1781,  841, 1268, 1189, 1186, 1185, 1564],\n",
       "       [ 647,  647, 1366, 1390, 1668, 1538, 1297, 1433, 1688,  467],\n",
       "       [ 436,  436,  436, 1208, 1373, 1597,  695,    0,  164,  835],\n",
       "       [1413,  962,  937, 1739, 1511, 1384,  837, 1093,  761, 1084]])"
      ]
     },
     "execution_count": 7,
     "metadata": {},
     "output_type": "execute_result"
    }
   ],
   "source": [
    "\n",
    "puntos"
   ]
  },
  {
   "cell_type": "code",
   "execution_count": 9,
   "id": "938486fe-e096-4482-af36-848669508367",
   "metadata": {},
   "outputs": [],
   "source": [
    "import numpy as np\n",
    "mis_datos = np.arange(0,20)"
   ]
  },
  {
   "cell_type": "code",
   "execution_count": 11,
   "id": "c624e4ba-ecf9-4d74-a674-2230d07594b8",
   "metadata": {},
   "outputs": [
    {
     "name": "stdout",
     "output_type": "stream",
     "text": [
      "[ 0  1  2  3  4  5  6  7  8  9 10 11 12 13 14 15 16 17 18 19]\n"
     ]
    }
   ],
   "source": [
    "print(mis_datos)"
   ]
  },
  {
   "cell_type": "code",
   "execution_count": 13,
   "id": "625e5487-85bc-45b6-8614-773e631a3d80",
   "metadata": {},
   "outputs": [
    {
     "data": {
      "text/plain": [
       "array([[ 0,  1,  2,  3],\n",
       "       [ 4,  5,  6,  7],\n",
       "       [ 8,  9, 10, 11],\n",
       "       [12, 13, 14, 15],\n",
       "       [16, 17, 18, 19]])"
      ]
     },
     "execution_count": 13,
     "metadata": {},
     "output_type": "execute_result"
    }
   ],
   "source": [
    "np.reshape(mis_datos,(5,4))"
   ]
  },
  {
   "cell_type": "code",
   "execution_count": 15,
   "id": "31fb7385-cac4-4689-aa71-5b6f4f2bade0",
   "metadata": {},
   "outputs": [
    {
     "data": {
      "text/plain": [
       "array([[ 0,  1,  2,  3],\n",
       "       [ 4,  5,  6,  7],\n",
       "       [ 8,  9, 10, 11],\n",
       "       [12, 13, 14, 15],\n",
       "       [16, 17, 18, 19]])"
      ]
     },
     "execution_count": 15,
     "metadata": {},
     "output_type": "execute_result"
    }
   ],
   "source": [
    "# nota: El default es opuesto a R\n",
    "np.reshape(mis_datos,(5,4), order = 'C')"
   ]
  },
  {
   "cell_type": "code",
   "execution_count": 17,
   "id": "732421f2-9462-4278-bbe1-9002d211817c",
   "metadata": {},
   "outputs": [],
   "source": [
    "matr1 = np.reshape(mis_datos,(5,4), order = 'C')"
   ]
  },
  {
   "cell_type": "code",
   "execution_count": 19,
   "id": "eb287a97-8d68-4a83-b03d-9c084bab0a0e",
   "metadata": {},
   "outputs": [
    {
     "data": {
      "text/plain": [
       "array([[ 0,  1,  2,  3],\n",
       "       [ 4,  5,  6,  7],\n",
       "       [ 8,  9, 10, 11],\n",
       "       [12, 13, 14, 15],\n",
       "       [16, 17, 18, 19]])"
      ]
     },
     "execution_count": 19,
     "metadata": {},
     "output_type": "execute_result"
    }
   ],
   "source": [
    "matr1"
   ]
  },
  {
   "cell_type": "code",
   "execution_count": null,
   "id": "4e5faefd-614e-4132-a6c1-c3b3c0b3eedf",
   "metadata": {},
   "outputs": [],
   "source": [
    "# Ejercicio: Llegar al número 9"
   ]
  },
  {
   "cell_type": "code",
   "execution_count": 27,
   "id": "f60f9a95-98ed-46aa-a4ee-6754d4fd3ccc",
   "metadata": {},
   "outputs": [],
   "source": [
    "matr2 = np.reshape(mis_datos,(5,4), order = 'F')"
   ]
  },
  {
   "cell_type": "code",
   "execution_count": 29,
   "id": "1c97b4b2-935e-4339-b2d6-f8693205f080",
   "metadata": {},
   "outputs": [
    {
     "data": {
      "text/plain": [
       "array([[ 0,  5, 10, 15],\n",
       "       [ 1,  6, 11, 16],\n",
       "       [ 2,  7, 12, 17],\n",
       "       [ 3,  8, 13, 18],\n",
       "       [ 4,  9, 14, 19]])"
      ]
     },
     "execution_count": 29,
     "metadata": {},
     "output_type": "execute_result"
    }
   ],
   "source": [
    "matr2 "
   ]
  },
  {
   "cell_type": "code",
   "execution_count": 31,
   "id": "e6293d15-1214-42ef-adb1-2b3c8bb640ba",
   "metadata": {},
   "outputs": [
    {
     "data": {
      "text/plain": [
       "9"
      ]
     },
     "execution_count": 31,
     "metadata": {},
     "output_type": "execute_result"
    }
   ],
   "source": [
    "matr2[4,1]"
   ]
  },
  {
   "cell_type": "code",
   "execution_count": 33,
   "id": "1e7a2840-80fe-467c-adf5-27d3367d6e35",
   "metadata": {},
   "outputs": [],
   "source": [
    "# Concepto POO\n",
    "# np.reshape(mis_datos,(5,4))"
   ]
  },
  {
   "cell_type": "code",
   "execution_count": 35,
   "id": "012a5c26-6eb2-4b0f-b722-78e042b0f3fa",
   "metadata": {},
   "outputs": [
    {
     "data": {
      "text/plain": [
       "numpy.ndarray"
      ]
     },
     "execution_count": 35,
     "metadata": {},
     "output_type": "execute_result"
    }
   ],
   "source": [
    "type(mis_datos)"
   ]
  },
  {
   "cell_type": "code",
   "execution_count": 39,
   "id": "1602b594-0f53-4545-a361-d7151dcf6052",
   "metadata": {},
   "outputs": [
    {
     "data": {
      "text/plain": [
       "array([[ 0,  1,  2,  3],\n",
       "       [ 4,  5,  6,  7],\n",
       "       [ 8,  9, 10, 11],\n",
       "       [12, 13, 14, 15],\n",
       "       [16, 17, 18, 19]])"
      ]
     },
     "execution_count": 39,
     "metadata": {},
     "output_type": "execute_result"
    }
   ],
   "source": [
    "mis_datos.reshape(5,4)"
   ]
  },
  {
   "cell_type": "code",
   "execution_count": 44,
   "id": "353f45d3-40cb-46c5-9baf-31937093254f",
   "metadata": {},
   "outputs": [
    {
     "data": {
      "text/plain": [
       "[['Soy', 'muy', 'feliz'], ['Que', 'gran', 'día'], [1, 2, 3]]"
      ]
     },
     "execution_count": 44,
     "metadata": {},
     "output_type": "execute_result"
    }
   ],
   "source": [
    "r1 = [\"Soy\",\"muy\",\"feliz\"]\n",
    "r2 = [\"Que\",\"gran\",\"día\"]\n",
    "r3 = [1,2,3]\n",
    "[r1,r2,r3]"
   ]
  },
  {
   "cell_type": "code",
   "execution_count": 46,
   "id": "a303f1f9-5bfd-4ca6-9ecf-2a23d4d3a881",
   "metadata": {},
   "outputs": [
    {
     "data": {
      "text/plain": [
       "array([['Soy', 'muy', 'feliz'],\n",
       "       ['Que', 'gran', 'día'],\n",
       "       ['1', '2', '3']], dtype='<U11')"
      ]
     },
     "execution_count": 46,
     "metadata": {},
     "output_type": "execute_result"
    }
   ],
   "source": [
    "np.array([r1,r2,r3])"
   ]
  },
  {
   "cell_type": "code",
   "execution_count": 52,
   "id": "a463f0b6-2695-4b6e-8220-ce74f5ab77a0",
   "metadata": {},
   "outputs": [
    {
     "name": "stdout",
     "output_type": "stream",
     "text": [
      "[['Soy' 'muy' 'feliz']\n",
      " ['Que' 'gran' 'día']\n",
      " ['1' '2' '3']]\n"
     ]
    }
   ],
   "source": [
    "print(np.array([r1,r2,r3]))"
   ]
  }
 ],
 "metadata": {
  "kernelspec": {
   "display_name": "Python 3 (ipykernel)",
   "language": "python",
   "name": "python3"
  },
  "language_info": {
   "codemirror_mode": {
    "name": "ipython",
    "version": 3
   },
   "file_extension": ".py",
   "mimetype": "text/x-python",
   "name": "python",
   "nbconvert_exporter": "python",
   "pygments_lexer": "ipython3",
   "version": "3.11.7"
  }
 },
 "nbformat": 4,
 "nbformat_minor": 5
}
