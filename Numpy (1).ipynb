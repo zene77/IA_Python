{
 "cells": [
  {
   "cell_type": "markdown",
   "id": "4f4e4e13-9568-4192-8013-9f40e5f557d4",
   "metadata": {},
   "source": [
    "---"
   ]
  },
  {
   "cell_type": "markdown",
   "id": "ae14f5ed-cbd7-4bd6-a676-086a0595d84c",
   "metadata": {},
   "source": [
    "# Numpy para análisis de datos"
   ]
  },
  {
   "cell_type": "markdown",
   "id": "8976964a-f2e1-4717-8ef3-54bef6f647f0",
   "metadata": {},
   "source": [
    "Numpy para trabajar con arrays:\n",
    "Los arrays puere ser de dos tipos:\n",
    "vectores - son arrays de 1 dimención (una sola fila) y matrices - son arrays de 2 dimeciones (1, o más filas y 1 o más columnas)\n"
   ]
  },
  {
   "cell_type": "markdown",
   "id": "2f0f6a86-57c7-41bd-84a0-bef4f3f51beb",
   "metadata": {},
   "source": [
    "Un array en programación, especialmente en Python con numpy, es una estructura de datos utilizada para almacenar múltiples elementos del mismo tipo, organizados en una secuencia ordenada.\n",
    "\n",
    "Eficiencia: Arrays permiten realizar operaciones matemáticas y estadísticas de manera rápida y eficiente.\n",
    "\n",
    "Manipulación: Facilitan la manipulación y análisis de grandes conjuntos de datos.\n",
    "\n",
    "Funciones: Permiten usar funciones específicas como reshape para cambiar su forma sin cambiar sus datos."
   ]
  },
  {
   "cell_type": "code",
   "execution_count": 157,
   "id": "f7788ef6-3e8a-4853-a02f-00369c27015b",
   "metadata": {},
   "outputs": [],
   "source": [
    "#1. Eficiencia\n",
    "#Los arrays de numpy son más eficientes en términos de memoria y velocidad que las listas de Python. Esto se debe a que numpy \n",
    "#almacena los datos de manera contigua en memoria, lo que permite operaciones más rápidas y uso eficiente del caché del CPU.\n",
    "\n",
    "#2. Manipulación\n",
    "#Slicing: Permite extraer subconjuntos de datos. Ejemplo:\n",
    "\n",
    "#python\n",
    "\n",
    "\n",
    "array = np.array([1, 2, 3, 4, 5])\n",
    "sub_array = array[1:4]  # Resultado: [2, 3, 4]\n",
    "#Reshape: Cambia la forma del array sin alterar sus datos.\n",
    "\n",
    "#python\n",
    "\n",
    "\n",
    "array = np.array([1, 2, 3, 4, 5, 6])\n",
    "matrix = array.reshape(2, 3)  # Resultado: array([[1, 2, 3], [4, 5, 6]])\n",
    "#Concatenation: Combina múltiples arrays.\n",
    "\n",
    "#python\n",
    "\n",
    "array1 = np.array([1, 2, 3])\n",
    "array2 = np.array([4, 5, 6])\n",
    "combined = np.concatenate((array1, array2))  # Resultado: [1, 2, 3, 4, 5, 6]\n",
    "#3.Funciones"
   ]
  },
  {
   "cell_type": "code",
   "execution_count": 159,
   "id": "1ffb4a79-41b4-4f02-b70f-1f7b2d6cc430",
   "metadata": {},
   "outputs": [],
   "source": [
    "array = np.array([1, 2, 3, 4, 5])\n",
    "sub_array = array[1:4]"
   ]
  },
  {
   "cell_type": "code",
   "execution_count": 161,
   "id": "e12bb780-e979-40c8-abab-2e0eb845b12d",
   "metadata": {},
   "outputs": [
    {
     "data": {
      "text/plain": [
       "array([2, 3, 4])"
      ]
     },
     "execution_count": 161,
     "metadata": {},
     "output_type": "execute_result"
    }
   ],
   "source": [
    "sub_array"
   ]
  },
  {
   "cell_type": "code",
   "execution_count": 163,
   "id": "2d374014-7250-4899-abba-b3ca4e593b9d",
   "metadata": {},
   "outputs": [],
   "source": [
    "array = np.array([1, 2, 3, 4, 5, 6])\n",
    "matrix = array.reshape(2, 3)"
   ]
  },
  {
   "cell_type": "code",
   "execution_count": 165,
   "id": "7c784e58-758e-4658-867e-2c3af4f510c8",
   "metadata": {},
   "outputs": [
    {
     "data": {
      "text/plain": [
       "array([[1, 2, 3],\n",
       "       [4, 5, 6]])"
      ]
     },
     "execution_count": 165,
     "metadata": {},
     "output_type": "execute_result"
    }
   ],
   "source": [
    "matrix"
   ]
  },
  {
   "cell_type": "code",
   "execution_count": null,
   "id": "6be59c04-c774-4c75-954f-c1c06af7ca5e",
   "metadata": {},
   "outputs": [],
   "source": [
    "array1 = np.array([1, 2, 3])\n",
    "array2 = np.array([4, 5, 6])\n",
    "combined = np.concatenate((array1, array2))"
   ]
  },
  {
   "cell_type": "code",
   "execution_count": 167,
   "id": "8759b756-822b-4da1-8ea2-65866b320a5a",
   "metadata": {},
   "outputs": [
    {
     "data": {
      "text/plain": [
       "array([1, 2, 3, 4, 5, 6])"
      ]
     },
     "execution_count": 167,
     "metadata": {},
     "output_type": "execute_result"
    }
   ],
   "source": [
    "combined "
   ]
  },
  {
   "cell_type": "markdown",
   "id": "94641783-164a-4063-8669-2e6189b76fca",
   "metadata": {},
   "source": [
    "## Numpy con listas"
   ]
  },
  {
   "cell_type": "code",
   "execution_count": 6,
   "id": "843f1669-7f82-48cd-9b21-46e9da9235fc",
   "metadata": {},
   "outputs": [],
   "source": [
    "# Numpy arrays"
   ]
  },
  {
   "cell_type": "code",
   "execution_count": 8,
   "id": "322475d8-ee48-406d-a811-21a004a94bfe",
   "metadata": {},
   "outputs": [],
   "source": [
    "import numpy as np"
   ]
  },
  {
   "cell_type": "code",
   "execution_count": 10,
   "id": "0cb2ce16-6e84-4575-946d-a6cb4d1f26f3",
   "metadata": {},
   "outputs": [],
   "source": [
    "lista = [1,2,3,4]"
   ]
  },
  {
   "cell_type": "code",
   "execution_count": 12,
   "id": "f7906fc5-e953-4454-bcbf-b1b39e26e062",
   "metadata": {},
   "outputs": [],
   "source": [
    "array = np.array(lista) # array una dimención"
   ]
  },
  {
   "cell_type": "code",
   "execution_count": 14,
   "id": "48b08a12-2a61-43eb-810c-e4db172810e6",
   "metadata": {},
   "outputs": [
    {
     "data": {
      "text/plain": [
       "array([1, 2, 3, 4])"
      ]
     },
     "execution_count": 14,
     "metadata": {},
     "output_type": "execute_result"
    }
   ],
   "source": [
    "array"
   ]
  },
  {
   "cell_type": "code",
   "execution_count": 18,
   "id": "ec5f8bc4-4e64-42f7-a5ea-04517f67e005",
   "metadata": {},
   "outputs": [],
   "source": [
    "lista2 = ([1,2,3],[4,5,6], [7,8,9])"
   ]
  },
  {
   "cell_type": "code",
   "execution_count": 20,
   "id": "10c6bfc8-ec29-445b-893b-755a978930ce",
   "metadata": {},
   "outputs": [
    {
     "data": {
      "text/plain": [
       "([1, 2, 3], [4, 5, 6], [7, 8, 9])"
      ]
     },
     "execution_count": 20,
     "metadata": {},
     "output_type": "execute_result"
    }
   ],
   "source": [
    "lista2"
   ]
  },
  {
   "cell_type": "code",
   "execution_count": 22,
   "id": "be9ca0de-fea4-4896-929e-b34024e10ecd",
   "metadata": {},
   "outputs": [],
   "source": [
    "array2 = np.array(lista2) # array de dos dimenciónes"
   ]
  },
  {
   "cell_type": "code",
   "execution_count": 24,
   "id": "4734a4f2-dd2f-4281-8037-4bf72171bd49",
   "metadata": {},
   "outputs": [
    {
     "data": {
      "text/plain": [
       "array([[1, 2, 3],\n",
       "       [4, 5, 6],\n",
       "       [7, 8, 9]])"
      ]
     },
     "execution_count": 24,
     "metadata": {},
     "output_type": "execute_result"
    }
   ],
   "source": [
    "array2"
   ]
  },
  {
   "cell_type": "markdown",
   "id": "95476a53-447c-4943-8960-93e392bbf39d",
   "metadata": {},
   "source": [
    "## Numpy arrays -  funcciónes arange , ones, zeros y linspace"
   ]
  },
  {
   "cell_type": "code",
   "execution_count": 30,
   "id": "006aea2c-c37f-4bda-9519-e8517e436e1c",
   "metadata": {},
   "outputs": [],
   "source": [
    "arrays = np.arange(5)"
   ]
  },
  {
   "cell_type": "code",
   "execution_count": 32,
   "id": "4b929a56-eac1-4fb5-9d5d-90ea064dbbef",
   "metadata": {},
   "outputs": [
    {
     "data": {
      "text/plain": [
       "array([1, 2, 3, 4])"
      ]
     },
     "execution_count": 32,
     "metadata": {},
     "output_type": "execute_result"
    }
   ],
   "source": [
    "array"
   ]
  },
  {
   "cell_type": "code",
   "execution_count": 34,
   "id": "2bcac144-ee98-4dad-b5e2-0379f11e93cd",
   "metadata": {},
   "outputs": [
    {
     "data": {
      "text/plain": [
       "array([2, 3, 4, 5, 6, 7, 8, 9])"
      ]
     },
     "execution_count": 34,
     "metadata": {},
     "output_type": "execute_result"
    }
   ],
   "source": [
    "np.arange(2,10)"
   ]
  },
  {
   "cell_type": "code",
   "execution_count": 36,
   "id": "3cf2b640-953a-416f-b307-92841a90e4e4",
   "metadata": {},
   "outputs": [
    {
     "data": {
      "text/plain": [
       "array([2, 4, 6, 8])"
      ]
     },
     "execution_count": 36,
     "metadata": {},
     "output_type": "execute_result"
    }
   ],
   "source": [
    "np.arange(2,10,2)"
   ]
  },
  {
   "cell_type": "code",
   "execution_count": 38,
   "id": "e5fb4446-b577-4d55-bc3e-ca36cceaaf5b",
   "metadata": {},
   "outputs": [
    {
     "data": {
      "text/plain": [
       "array([ 2,  4,  6,  8, 10, 12, 14, 16, 18])"
      ]
     },
     "execution_count": 38,
     "metadata": {},
     "output_type": "execute_result"
    }
   ],
   "source": [
    "np.arange(2,20,2)"
   ]
  },
  {
   "cell_type": "code",
   "execution_count": 40,
   "id": "d11c369e-cab8-48fe-8698-c0c096568ae3",
   "metadata": {},
   "outputs": [
    {
     "data": {
      "text/plain": [
       "array([ 0,  1,  2,  3,  4,  5,  6,  7,  8,  9, 10, 11, 12, 13, 14, 15, 16,\n",
       "       17, 18, 19])"
      ]
     },
     "execution_count": 40,
     "metadata": {},
     "output_type": "execute_result"
    }
   ],
   "source": [
    "np.arange(20)"
   ]
  },
  {
   "cell_type": "code",
   "execution_count": 42,
   "id": "2cb92953-fc09-46da-ac61-6ea00be0f913",
   "metadata": {},
   "outputs": [
    {
     "data": {
      "text/plain": [
       "array([2, 3, 4, 5, 6, 7, 8, 9])"
      ]
     },
     "execution_count": 42,
     "metadata": {},
     "output_type": "execute_result"
    }
   ],
   "source": [
    "np.arange(2,10)"
   ]
  },
  {
   "cell_type": "code",
   "execution_count": 44,
   "id": "a48c740b-e411-4077-b4ec-fb9505e854de",
   "metadata": {},
   "outputs": [
    {
     "data": {
      "text/plain": [
       "array([0., 0., 0.])"
      ]
     },
     "execution_count": 44,
     "metadata": {},
     "output_type": "execute_result"
    }
   ],
   "source": [
    "np.zeros(3)"
   ]
  },
  {
   "cell_type": "code",
   "execution_count": 46,
   "id": "9c9ead3a-8d24-43c4-87f9-34fd82f72b1c",
   "metadata": {},
   "outputs": [
    {
     "data": {
      "text/plain": [
       "array([[0., 0., 0., 0.],\n",
       "       [0., 0., 0., 0.],\n",
       "       [0., 0., 0., 0.]])"
      ]
     },
     "execution_count": 46,
     "metadata": {},
     "output_type": "execute_result"
    }
   ],
   "source": [
    "np.zeros((3,4)) # tres filas y cuatro columnas"
   ]
  },
  {
   "cell_type": "code",
   "execution_count": 48,
   "id": "c9969196-4ec2-459b-a408-93a7fd02d9db",
   "metadata": {},
   "outputs": [
    {
     "data": {
      "text/plain": [
       "array([1., 1., 1.])"
      ]
     },
     "execution_count": 48,
     "metadata": {},
     "output_type": "execute_result"
    }
   ],
   "source": [
    "np.ones(3)"
   ]
  },
  {
   "cell_type": "code",
   "execution_count": 50,
   "id": "eba65315-ea40-43da-97bc-477541997886",
   "metadata": {},
   "outputs": [
    {
     "data": {
      "text/plain": [
       "array([[1., 1., 1., 1., 1.],\n",
       "       [1., 1., 1., 1., 1.]])"
      ]
     },
     "execution_count": 50,
     "metadata": {},
     "output_type": "execute_result"
    }
   ],
   "source": [
    "np.ones((2,5))"
   ]
  },
  {
   "cell_type": "code",
   "execution_count": 54,
   "id": "3c5be3e2-9f55-45d6-9a01-b0840563e976",
   "metadata": {},
   "outputs": [
    {
     "data": {
      "text/plain": [
       "array([5.        , 5.06122449, 5.12244898, 5.18367347, 5.24489796,\n",
       "       5.30612245, 5.36734694, 5.42857143, 5.48979592, 5.55102041,\n",
       "       5.6122449 , 5.67346939, 5.73469388, 5.79591837, 5.85714286,\n",
       "       5.91836735, 5.97959184, 6.04081633, 6.10204082, 6.16326531,\n",
       "       6.2244898 , 6.28571429, 6.34693878, 6.40816327, 6.46938776,\n",
       "       6.53061224, 6.59183673, 6.65306122, 6.71428571, 6.7755102 ,\n",
       "       6.83673469, 6.89795918, 6.95918367, 7.02040816, 7.08163265,\n",
       "       7.14285714, 7.20408163, 7.26530612, 7.32653061, 7.3877551 ,\n",
       "       7.44897959, 7.51020408, 7.57142857, 7.63265306, 7.69387755,\n",
       "       7.75510204, 7.81632653, 7.87755102, 7.93877551, 8.        ])"
      ]
     },
     "execution_count": 54,
     "metadata": {},
     "output_type": "execute_result"
    }
   ],
   "source": [
    "np.linspace(5,8,50) # desde primero elemento 5, generado 50 elementos hasta ,ultimo 8"
   ]
  },
  {
   "cell_type": "code",
   "execution_count": 56,
   "id": "c4e1b05d-2cc8-49bc-a74a-5b6fd0d96651",
   "metadata": {},
   "outputs": [
    {
     "data": {
      "text/plain": [
       "array([3.        , 3.31578947, 3.63157895, 3.94736842, 4.26315789,\n",
       "       4.57894737, 4.89473684, 5.21052632, 5.52631579, 5.84210526,\n",
       "       6.15789474, 6.47368421, 6.78947368, 7.10526316, 7.42105263,\n",
       "       7.73684211, 8.05263158, 8.36842105, 8.68421053, 9.        ])"
      ]
     },
     "execution_count": 56,
     "metadata": {},
     "output_type": "execute_result"
    }
   ],
   "source": [
    "np.linspace(3,9,20)"
   ]
  },
  {
   "cell_type": "code",
   "execution_count": 58,
   "id": "f6328847-a99a-4dc9-9bdf-50586412908f",
   "metadata": {},
   "outputs": [
    {
     "data": {
      "text/plain": [
       "array([[1., 0., 0., 0., 0.],\n",
       "       [0., 1., 0., 0., 0.],\n",
       "       [0., 0., 1., 0., 0.],\n",
       "       [0., 0., 0., 1., 0.],\n",
       "       [0., 0., 0., 0., 1.]])"
      ]
     },
     "execution_count": 58,
     "metadata": {},
     "output_type": "execute_result"
    }
   ],
   "source": [
    "np.eye(5)"
   ]
  },
  {
   "cell_type": "code",
   "execution_count": 60,
   "id": "baa8ec66-210c-4f85-9af3-f2cc8d0c4c3f",
   "metadata": {},
   "outputs": [
    {
     "data": {
      "text/plain": [
       "array([[1., 0., 0.],\n",
       "       [0., 1., 0.],\n",
       "       [0., 0., 1.]])"
      ]
     },
     "execution_count": 60,
     "metadata": {},
     "output_type": "execute_result"
    }
   ],
   "source": [
    "np.eye(3)"
   ]
  },
  {
   "cell_type": "markdown",
   "id": "4e6b0ee4-5f81-4eb5-85d7-ea427cef6740",
   "metadata": {},
   "source": [
    "## Numpy arrays - números aleatorios - rand y randn"
   ]
  },
  {
   "cell_type": "code",
   "execution_count": 63,
   "id": "ad279b76-7dc1-417b-9059-4a2cc838cc75",
   "metadata": {},
   "outputs": [
    {
     "data": {
      "text/plain": [
       "array([0.8791526 , 0.13220312, 0.8674016 , 0.87514674, 0.82819999])"
      ]
     },
     "execution_count": 63,
     "metadata": {},
     "output_type": "execute_result"
    }
   ],
   "source": [
    "np.random.rand(5)"
   ]
  },
  {
   "cell_type": "code",
   "execution_count": 65,
   "id": "8e16f106-9fd6-420f-b484-12c908f421fb",
   "metadata": {},
   "outputs": [
    {
     "data": {
      "text/plain": [
       "array([[0.07596111, 0.09680597, 0.44362503],\n",
       "       [0.62746536, 0.95840222, 0.0267556 ]])"
      ]
     },
     "execution_count": 65,
     "metadata": {},
     "output_type": "execute_result"
    }
   ],
   "source": [
    "np.random.rand(2,3)"
   ]
  },
  {
   "cell_type": "code",
   "execution_count": 67,
   "id": "9b9951a5-f27e-4c3c-9118-bf5687539747",
   "metadata": {},
   "outputs": [
    {
     "data": {
      "text/plain": [
       "array([[ 1.5569954 , -1.18667701,  0.02911528],\n",
       "       [ 0.63271381, -1.27953475,  0.85023566]])"
      ]
     },
     "execution_count": 67,
     "metadata": {},
     "output_type": "execute_result"
    }
   ],
   "source": [
    "np.random.randn(2,3)"
   ]
  },
  {
   "cell_type": "code",
   "execution_count": 69,
   "id": "512be680-64fb-4377-bf2b-1d6ac9c22582",
   "metadata": {},
   "outputs": [
    {
     "data": {
      "text/plain": [
       "array([-0.81934215, -1.34450399,  0.29587359, -0.04880444])"
      ]
     },
     "execution_count": 69,
     "metadata": {},
     "output_type": "execute_result"
    }
   ],
   "source": [
    "np.random.randn(4)"
   ]
  },
  {
   "cell_type": "code",
   "execution_count": 71,
   "id": "944d465a-d1c8-40cc-8b52-36548d8878ae",
   "metadata": {},
   "outputs": [
    {
     "data": {
      "text/plain": [
       "array([[-1.74195571, -0.05002248, -2.60067418,  0.75499849, -0.40348446],\n",
       "       [-0.4843167 ,  0.46581747,  1.09212822,  0.38975057,  0.80742188],\n",
       "       [-0.01549408, -0.86605236,  0.56565891, -0.08129522, -0.93908619],\n",
       "       [-1.47720222,  1.47608076,  0.64052738,  0.02559371,  1.4385157 ]])"
      ]
     },
     "execution_count": 71,
     "metadata": {},
     "output_type": "execute_result"
    }
   ],
   "source": [
    "np.random.randn(4,5)"
   ]
  },
  {
   "cell_type": "markdown",
   "id": "01e851e0-efba-483c-8609-d684e1a2a317",
   "metadata": {},
   "source": [
    "## Numpy array - números aleatorios enteros, randint"
   ]
  },
  {
   "cell_type": "code",
   "execution_count": 78,
   "id": "965dee5f-ef40-4f46-af42-454098c01438",
   "metadata": {},
   "outputs": [
    {
     "data": {
      "text/plain": [
       "15"
      ]
     },
     "execution_count": 78,
     "metadata": {},
     "output_type": "execute_result"
    }
   ],
   "source": [
    "np.random.randint(1,20)"
   ]
  },
  {
   "cell_type": "code",
   "execution_count": 80,
   "id": "8acff3d1-9237-4e40-9162-8d2a21c2f9a7",
   "metadata": {},
   "outputs": [
    {
     "data": {
      "text/plain": [
       "3"
      ]
     },
     "execution_count": 80,
     "metadata": {},
     "output_type": "execute_result"
    }
   ],
   "source": [
    "np.random.randint(1,20)"
   ]
  },
  {
   "cell_type": "code",
   "execution_count": 82,
   "id": "547c2dc2-fbb0-4a3e-8abf-88bd324187f1",
   "metadata": {},
   "outputs": [
    {
     "data": {
      "text/plain": [
       "array([ 5, 11,  3, 13,  2])"
      ]
     },
     "execution_count": 82,
     "metadata": {},
     "output_type": "execute_result"
    }
   ],
   "source": [
    "np.random.randint(1,20,5)"
   ]
  },
  {
   "cell_type": "markdown",
   "id": "35c916fe-2f19-4d8d-9d2d-ad9de81143cc",
   "metadata": {},
   "source": [
    "## Numpy array - reshape - cambio de tamaño"
   ]
  },
  {
   "cell_type": "code",
   "execution_count": 88,
   "id": "c2c96191-0b07-4a46-beb2-8f735d04d44d",
   "metadata": {},
   "outputs": [],
   "source": [
    "array = np.random.randint(1,100,25)"
   ]
  },
  {
   "cell_type": "code",
   "execution_count": 90,
   "id": "869d21a0-bb08-4ce1-8175-853fadbba2ba",
   "metadata": {},
   "outputs": [
    {
     "data": {
      "text/plain": [
       "array([87, 78, 52,  6, 83, 60, 94, 19, 48, 27, 18, 60, 61, 61, 98, 91, 36,\n",
       "       58, 31, 80, 30, 51, 35, 55, 16])"
      ]
     },
     "execution_count": 90,
     "metadata": {},
     "output_type": "execute_result"
    }
   ],
   "source": [
    "array"
   ]
  },
  {
   "cell_type": "code",
   "execution_count": 92,
   "id": "3f8fb9af-9cff-4b9f-9352-fc25d6ecc50e",
   "metadata": {},
   "outputs": [],
   "source": [
    "matriz = array.reshape(5,5)"
   ]
  },
  {
   "cell_type": "code",
   "execution_count": 94,
   "id": "76b8d9e3-e62e-46ab-ad0c-c5b6b44f8232",
   "metadata": {},
   "outputs": [
    {
     "data": {
      "text/plain": [
       "array([[87, 78, 52,  6, 83],\n",
       "       [60, 94, 19, 48, 27],\n",
       "       [18, 60, 61, 61, 98],\n",
       "       [91, 36, 58, 31, 80],\n",
       "       [30, 51, 35, 55, 16]])"
      ]
     },
     "execution_count": 94,
     "metadata": {},
     "output_type": "execute_result"
    }
   ],
   "source": [
    "matriz"
   ]
  },
  {
   "cell_type": "code",
   "execution_count": 108,
   "id": "7eabf4d6-89ac-48ff-9402-439fc9c3c17e",
   "metadata": {},
   "outputs": [],
   "source": [
    "array = np.random.randint(1,100,25)"
   ]
  },
  {
   "cell_type": "code",
   "execution_count": 108,
   "id": "1314044f-b8ce-4152-ba35-db9dbafb56b6",
   "metadata": {},
   "outputs": [],
   "source": [
    "array = np.random.randint(1,100,25)"
   ]
  },
  {
   "cell_type": "code",
   "execution_count": 110,
   "id": "04b9cb47-6c5c-4d5d-8e41-db060a57f662",
   "metadata": {},
   "outputs": [
    {
     "data": {
      "text/plain": [
       "array([40,  4, 33, 91, 97, 24,  3, 28, 42, 27, 31, 81, 24, 55, 99, 74, 70,\n",
       "       56, 40, 90, 87, 54, 36, 55, 98])"
      ]
     },
     "execution_count": 110,
     "metadata": {},
     "output_type": "execute_result"
    }
   ],
   "source": [
    "array"
   ]
  },
  {
   "cell_type": "code",
   "execution_count": 118,
   "id": "60617b31-32d4-405a-b962-bb14967e9f68",
   "metadata": {},
   "outputs": [
    {
     "data": {
      "text/plain": [
       "array([[12, 55, 20, 92, 57, 88, 22],\n",
       "       [ 7, 90, 49, 71, 65, 31, 85],\n",
       "       [82,  4, 23,  2, 50, 71, 51]])"
      ]
     },
     "execution_count": 118,
     "metadata": {},
     "output_type": "execute_result"
    }
   ],
   "source": [
    "matriz = array.reshape(3,7)\n",
    "matriz"
   ]
  },
  {
   "cell_type": "code",
   "execution_count": 116,
   "id": "973314f2-c9fa-440c-9b8a-1c138edd206a",
   "metadata": {},
   "outputs": [
    {
     "name": "stdout",
     "output_type": "stream",
     "text": [
      "[[12 55 20 92 57 88 22]\n",
      " [ 7 90 49 71 65 31 85]\n",
      " [82  4 23  2 50 71 51]]\n"
     ]
    }
   ],
   "source": [
    "array = np.random.randint(1, 100, 21)  # 3x7 = 21\n",
    "matriz = array.reshape(3, 7)\n",
    "\n",
    "print(matriz)\n"
   ]
  },
  {
   "cell_type": "markdown",
   "id": "7066a534-6d45-49fa-9178-975361168b39",
   "metadata": {},
   "source": [
    "## Numpy arrays - valor max y min"
   ]
  },
  {
   "cell_type": "code",
   "execution_count": 122,
   "id": "925f27ba-8e28-45b4-b9ba-ba93720fa50c",
   "metadata": {},
   "outputs": [],
   "source": [
    "array = np.random.randint(1,100,50)"
   ]
  },
  {
   "cell_type": "code",
   "execution_count": 124,
   "id": "2013af54-1bfe-4914-a16a-62a7010dcaff",
   "metadata": {},
   "outputs": [
    {
     "data": {
      "text/plain": [
       "array([48, 93, 83, 97,  3, 26, 99, 16,  6, 55, 54, 68, 60, 54, 32, 95, 58,\n",
       "       69, 63, 66, 66, 43, 78, 61, 19, 78, 62, 93, 84,  5, 80, 21, 85, 47,\n",
       "       73, 54,  7, 57, 63, 89, 57, 46, 87, 28, 67, 14, 18, 19, 92, 22])"
      ]
     },
     "execution_count": 124,
     "metadata": {},
     "output_type": "execute_result"
    }
   ],
   "source": [
    "array"
   ]
  },
  {
   "cell_type": "code",
   "execution_count": 126,
   "id": "3f7c212d-a98c-4eea-9ae4-a20aa7cc7123",
   "metadata": {},
   "outputs": [],
   "source": [
    "valor_maximo = array.max()"
   ]
  },
  {
   "cell_type": "code",
   "execution_count": 128,
   "id": "5dfda528-f5a0-4481-82be-560ebeda798a",
   "metadata": {},
   "outputs": [
    {
     "data": {
      "text/plain": [
       "99"
      ]
     },
     "execution_count": 128,
     "metadata": {},
     "output_type": "execute_result"
    }
   ],
   "source": [
    "valor_maximo"
   ]
  },
  {
   "cell_type": "code",
   "execution_count": 132,
   "id": "e10d52a5-87fb-4f91-ace5-39840a606eb5",
   "metadata": {},
   "outputs": [],
   "source": [
    "posicion_valor_maximo = array.argmax()"
   ]
  },
  {
   "cell_type": "code",
   "execution_count": 134,
   "id": "7863d77d-e23b-4f34-94bc-96a7af067d71",
   "metadata": {},
   "outputs": [
    {
     "data": {
      "text/plain": [
       "6"
      ]
     },
     "execution_count": 134,
     "metadata": {},
     "output_type": "execute_result"
    }
   ],
   "source": [
    "posicion_valor_maximo"
   ]
  },
  {
   "cell_type": "code",
   "execution_count": 142,
   "id": "da43d760-9047-4225-941b-3612b2e69603",
   "metadata": {},
   "outputs": [
    {
     "data": {
      "text/plain": [
       "3"
      ]
     },
     "execution_count": 142,
     "metadata": {},
     "output_type": "execute_result"
    }
   ],
   "source": [
    "valor_minimo = array.min()\n",
    "valor_minimo "
   ]
  },
  {
   "cell_type": "code",
   "execution_count": 144,
   "id": "a9c1f8cf-8d84-4ab6-b2d4-dfbb8efd33b0",
   "metadata": {},
   "outputs": [],
   "source": [
    "posicion_valor_minimo = array.argmin()\n"
   ]
  },
  {
   "cell_type": "code",
   "execution_count": 146,
   "id": "b14f0298-033f-4eb5-abb2-5dd65b3c0176",
   "metadata": {},
   "outputs": [
    {
     "data": {
      "text/plain": [
       "4"
      ]
     },
     "execution_count": 146,
     "metadata": {},
     "output_type": "execute_result"
    }
   ],
   "source": [
    "posicion_valor_minimo "
   ]
  },
  {
   "cell_type": "markdown",
   "id": "eedef151-1669-41f3-8028-a838bdd03519",
   "metadata": {},
   "source": [
    "## Numpy - indexación en array (1 dimención)"
   ]
  },
  {
   "cell_type": "code",
   "execution_count": 171,
   "id": "f102c5e6-a2d6-414b-9020-c9ae4f476c0e",
   "metadata": {},
   "outputs": [],
   "source": [
    "array = np.arange(0,10)"
   ]
  },
  {
   "cell_type": "code",
   "execution_count": 173,
   "id": "e0472c78-85a6-4758-a958-4f6e76a7ab09",
   "metadata": {},
   "outputs": [
    {
     "data": {
      "text/plain": [
       "array([0, 1, 2, 3, 4, 5, 6, 7, 8, 9])"
      ]
     },
     "execution_count": 173,
     "metadata": {},
     "output_type": "execute_result"
    }
   ],
   "source": [
    "array"
   ]
  },
  {
   "cell_type": "code",
   "execution_count": 175,
   "id": "996f79ee-5367-4966-9549-2cbfc67ecb62",
   "metadata": {},
   "outputs": [
    {
     "data": {
      "text/plain": [
       "0"
      ]
     },
     "execution_count": 175,
     "metadata": {},
     "output_type": "execute_result"
    }
   ],
   "source": [
    "array[0]"
   ]
  },
  {
   "cell_type": "code",
   "execution_count": 177,
   "id": "bf8bd88d-aeb2-48f6-ba4f-646e870365b0",
   "metadata": {},
   "outputs": [
    {
     "data": {
      "text/plain": [
       "1"
      ]
     },
     "execution_count": 177,
     "metadata": {},
     "output_type": "execute_result"
    }
   ],
   "source": [
    "array[1]"
   ]
  },
  {
   "cell_type": "code",
   "execution_count": 181,
   "id": "b34d940b-0d3a-4f23-885d-02027744a2d2",
   "metadata": {},
   "outputs": [
    {
     "data": {
      "text/plain": [
       "9"
      ]
     },
     "execution_count": 181,
     "metadata": {},
     "output_type": "execute_result"
    }
   ],
   "source": [
    "array[-1]"
   ]
  },
  {
   "cell_type": "code",
   "execution_count": 183,
   "id": "072539fd-81ef-40cc-b5c7-5c199a77a560",
   "metadata": {},
   "outputs": [
    {
     "data": {
      "text/plain": [
       "array([2, 3])"
      ]
     },
     "execution_count": 183,
     "metadata": {},
     "output_type": "execute_result"
    }
   ],
   "source": [
    "array[2:4]"
   ]
  },
  {
   "cell_type": "code",
   "execution_count": 185,
   "id": "8d18fc21-09ba-4aaa-ba6f-81514c27c643",
   "metadata": {},
   "outputs": [
    {
     "data": {
      "text/plain": [
       "array([0, 1, 2, 3, 4, 5, 6, 7, 8, 9])"
      ]
     },
     "execution_count": 185,
     "metadata": {},
     "output_type": "execute_result"
    }
   ],
   "source": [
    "array[:]"
   ]
  },
  {
   "cell_type": "code",
   "execution_count": 187,
   "id": "1bb2b592-dfb4-40d3-8a88-0395b8439559",
   "metadata": {},
   "outputs": [
    {
     "data": {
      "text/plain": [
       "array([5, 6, 7, 8, 9])"
      ]
     },
     "execution_count": 187,
     "metadata": {},
     "output_type": "execute_result"
    }
   ],
   "source": [
    "array[5:]"
   ]
  },
  {
   "cell_type": "code",
   "execution_count": 189,
   "id": "44174f6b-2db8-48df-b6b1-36013f74ef31",
   "metadata": {},
   "outputs": [
    {
     "data": {
      "text/plain": [
       "array([0, 1, 2, 3])"
      ]
     },
     "execution_count": 189,
     "metadata": {},
     "output_type": "execute_result"
    }
   ],
   "source": [
    "array[:4]"
   ]
  },
  {
   "cell_type": "code",
   "execution_count": 191,
   "id": "6306ee2c-4d81-4dca-bdb4-3ac2bb1f774c",
   "metadata": {},
   "outputs": [],
   "source": [
    "array2 = array.copy()"
   ]
  },
  {
   "cell_type": "code",
   "execution_count": 193,
   "id": "12f9c4bd-eb98-4cd0-9e38-a6d18c6b71aa",
   "metadata": {},
   "outputs": [
    {
     "data": {
      "text/plain": [
       "array([0, 1, 2, 3, 4, 5, 6, 7, 8, 9])"
      ]
     },
     "execution_count": 193,
     "metadata": {},
     "output_type": "execute_result"
    }
   ],
   "source": [
    "array2"
   ]
  },
  {
   "cell_type": "code",
   "execution_count": 197,
   "id": "d55079e9-3ff4-491c-9ff6-0a535039857e",
   "metadata": {},
   "outputs": [],
   "source": [
    "array2[0] = 100"
   ]
  },
  {
   "cell_type": "code",
   "execution_count": 199,
   "id": "639c3419-adf5-4913-8307-86c14ae288f8",
   "metadata": {},
   "outputs": [
    {
     "data": {
      "text/plain": [
       "array([100,   1,   2,   3,   4,   5,   6,   7,   8,   9])"
      ]
     },
     "execution_count": 199,
     "metadata": {},
     "output_type": "execute_result"
    }
   ],
   "source": [
    "array2"
   ]
  },
  {
   "cell_type": "code",
   "execution_count": 201,
   "id": "12d46973-9303-4003-a77b-fa28145275e2",
   "metadata": {},
   "outputs": [
    {
     "data": {
      "text/plain": [
       "array([0, 1, 2, 3, 4, 5, 6, 7, 8, 9])"
      ]
     },
     "execution_count": 201,
     "metadata": {},
     "output_type": "execute_result"
    }
   ],
   "source": [
    "array"
   ]
  },
  {
   "cell_type": "markdown",
   "id": "f66bd8e7-76f7-4665-8737-c8dfae37bd97",
   "metadata": {},
   "source": [
    "## Numpy - Indexación en arrays (2 o más dimenciónes)"
   ]
  },
  {
   "cell_type": "code",
   "execution_count": 204,
   "id": "ef6d11a6-0bd8-40bb-b8f6-e2af7466fb39",
   "metadata": {},
   "outputs": [],
   "source": [
    "array = np.array([[1,2,3], [4,5,6], [7,8,9]])"
   ]
  },
  {
   "cell_type": "code",
   "execution_count": 206,
   "id": "ac88d4ea-0a47-475e-b77c-9bd5a36334d0",
   "metadata": {},
   "outputs": [
    {
     "data": {
      "text/plain": [
       "array([[1, 2, 3],\n",
       "       [4, 5, 6],\n",
       "       [7, 8, 9]])"
      ]
     },
     "execution_count": 206,
     "metadata": {},
     "output_type": "execute_result"
    }
   ],
   "source": [
    "array"
   ]
  },
  {
   "cell_type": "code",
   "execution_count": 208,
   "id": "411b37d6-f75c-454a-8fdc-85454b2a78e6",
   "metadata": {},
   "outputs": [
    {
     "data": {
      "text/plain": [
       "array([1, 2, 3])"
      ]
     },
     "execution_count": 208,
     "metadata": {},
     "output_type": "execute_result"
    }
   ],
   "source": [
    "array [0]"
   ]
  },
  {
   "cell_type": "code",
   "execution_count": 214,
   "id": "e7358846-c36a-4bb6-993a-6c43786feffd",
   "metadata": {},
   "outputs": [],
   "source": [
    "array2 = array[:2]"
   ]
  },
  {
   "cell_type": "code",
   "execution_count": 216,
   "id": "4fc83736-f54b-40a6-af1d-2898cbbcb2a1",
   "metadata": {},
   "outputs": [
    {
     "data": {
      "text/plain": [
       "array([[1, 2, 3],\n",
       "       [4, 5, 6]])"
      ]
     },
     "execution_count": 216,
     "metadata": {},
     "output_type": "execute_result"
    }
   ],
   "source": [
    "array2"
   ]
  },
  {
   "cell_type": "code",
   "execution_count": 218,
   "id": "3513086c-16a1-4c61-9841-fe0b21899e00",
   "metadata": {},
   "outputs": [
    {
     "data": {
      "text/plain": [
       "array([[1, 2, 3],\n",
       "       [4, 5, 6],\n",
       "       [7, 8, 9]])"
      ]
     },
     "execution_count": 218,
     "metadata": {},
     "output_type": "execute_result"
    }
   ],
   "source": [
    "array"
   ]
  },
  {
   "cell_type": "code",
   "execution_count": 220,
   "id": "e7435836-5b07-4c5c-ae1d-9ba9a8d3d122",
   "metadata": {},
   "outputs": [
    {
     "data": {
      "text/plain": [
       "1"
      ]
     },
     "execution_count": 220,
     "metadata": {},
     "output_type": "execute_result"
    }
   ],
   "source": [
    "array[0][0]"
   ]
  },
  {
   "cell_type": "code",
   "execution_count": 222,
   "id": "6d0c1be2-13c2-47b1-9713-729b1d69ad43",
   "metadata": {},
   "outputs": [
    {
     "data": {
      "text/plain": [
       "1"
      ]
     },
     "execution_count": 222,
     "metadata": {},
     "output_type": "execute_result"
    }
   ],
   "source": [
    "array[0,0]"
   ]
  },
  {
   "cell_type": "code",
   "execution_count": 224,
   "id": "446e52a5-7724-413f-aa35-85270d712e68",
   "metadata": {},
   "outputs": [
    {
     "data": {
      "text/plain": [
       "5"
      ]
     },
     "execution_count": 224,
     "metadata": {},
     "output_type": "execute_result"
    }
   ],
   "source": [
    "array[1,1]"
   ]
  },
  {
   "cell_type": "code",
   "execution_count": 226,
   "id": "12a7cb00-bfd6-42e4-b6f9-1c6aae345002",
   "metadata": {},
   "outputs": [
    {
     "data": {
      "text/plain": [
       "array([1, 4, 7])"
      ]
     },
     "execution_count": 226,
     "metadata": {},
     "output_type": "execute_result"
    }
   ],
   "source": [
    "array[:,0]"
   ]
  },
  {
   "cell_type": "code",
   "execution_count": 228,
   "id": "0be316c5-738b-407b-84eb-d6c2fa7362ca",
   "metadata": {},
   "outputs": [
    {
     "data": {
      "text/plain": [
       "array([[1, 2],\n",
       "       [4, 5],\n",
       "       [7, 8]])"
      ]
     },
     "execution_count": 228,
     "metadata": {},
     "output_type": "execute_result"
    }
   ],
   "source": [
    "array[:,:2]"
   ]
  },
  {
   "cell_type": "markdown",
   "id": "2363f344-32a1-45da-98fd-d210c2534224",
   "metadata": {},
   "source": [
    "## Numpy - Selecciónar elementos de un array según una condición"
   ]
  },
  {
   "cell_type": "code",
   "execution_count": 243,
   "id": "e4a86926-a5ba-4b0e-9db7-37d4b492d47b",
   "metadata": {},
   "outputs": [],
   "source": [
    "array = np.arange(1,10)"
   ]
  },
  {
   "cell_type": "code",
   "execution_count": 245,
   "id": "8282f854-ef36-4ab4-b20c-22b28267aa48",
   "metadata": {},
   "outputs": [
    {
     "data": {
      "text/plain": [
       "array([1, 2, 3, 4, 5, 6, 7, 8, 9])"
      ]
     },
     "execution_count": 245,
     "metadata": {},
     "output_type": "execute_result"
    }
   ],
   "source": [
    "array"
   ]
  },
  {
   "cell_type": "code",
   "execution_count": 247,
   "id": "13bc456f-1667-4688-b8a1-9989b9c3017f",
   "metadata": {},
   "outputs": [],
   "source": [
    "condicion = array > 5"
   ]
  },
  {
   "cell_type": "code",
   "execution_count": 249,
   "id": "702d4a36-5537-4ecf-9061-208cba04c006",
   "metadata": {},
   "outputs": [
    {
     "data": {
      "text/plain": [
       "array([False, False, False, False, False,  True,  True,  True,  True])"
      ]
     },
     "execution_count": 249,
     "metadata": {},
     "output_type": "execute_result"
    }
   ],
   "source": [
    "condicion"
   ]
  },
  {
   "cell_type": "code",
   "execution_count": 251,
   "id": "54e7290f-5ba3-4054-a9c4-3c2d3382347d",
   "metadata": {},
   "outputs": [
    {
     "data": {
      "text/plain": [
       "array([6, 7, 8, 9])"
      ]
     },
     "execution_count": 251,
     "metadata": {},
     "output_type": "execute_result"
    }
   ],
   "source": [
    "array[condicion]"
   ]
  },
  {
   "cell_type": "code",
   "execution_count": 253,
   "id": "d71011e2-ad88-40be-9ff5-71b6278006f3",
   "metadata": {},
   "outputs": [],
   "source": [
    "array6 = array[condición]"
   ]
  },
  {
   "cell_type": "code",
   "execution_count": 255,
   "id": "af3e9a85-42c8-4127-b149-df13647c8fa7",
   "metadata": {},
   "outputs": [
    {
     "data": {
      "text/plain": [
       "array([6, 7, 8, 9])"
      ]
     },
     "execution_count": 255,
     "metadata": {},
     "output_type": "execute_result"
    }
   ],
   "source": [
    "array6"
   ]
  },
  {
   "cell_type": "code",
   "execution_count": 257,
   "id": "286cf890-b012-4c66-a4fc-95f5c9227b8a",
   "metadata": {},
   "outputs": [
    {
     "data": {
      "text/plain": [
       "array([6, 7, 8, 9])"
      ]
     },
     "execution_count": 257,
     "metadata": {},
     "output_type": "execute_result"
    }
   ],
   "source": [
    "array[array > 5]"
   ]
  },
  {
   "cell_type": "code",
   "execution_count": 261,
   "id": "9af1ce38-4e65-4b0c-b89b-bff37e5e833f",
   "metadata": {},
   "outputs": [
    {
     "data": {
      "text/plain": [
       "array([1, 2, 3, 4, 5])"
      ]
     },
     "execution_count": 261,
     "metadata": {},
     "output_type": "execute_result"
    }
   ],
   "source": [
    "array[array < 6]"
   ]
  },
  {
   "cell_type": "code",
   "execution_count": 263,
   "id": "c467918e-12b9-426b-9799-78cb767cf21c",
   "metadata": {},
   "outputs": [
    {
     "data": {
      "text/plain": [
       "array([2, 4, 6, 8])"
      ]
     },
     "execution_count": 263,
     "metadata": {},
     "output_type": "execute_result"
    }
   ],
   "source": [
    "array[array % 2 == 0]"
   ]
  },
  {
   "cell_type": "code",
   "execution_count": 265,
   "id": "3fbf8644-4c34-438c-a5c8-d4eb24db537a",
   "metadata": {},
   "outputs": [
    {
     "data": {
      "text/plain": [
       "array([1, 2, 3, 4, 5, 6, 7, 8, 9])"
      ]
     },
     "execution_count": 265,
     "metadata": {},
     "output_type": "execute_result"
    }
   ],
   "source": [
    "array"
   ]
  },
  {
   "cell_type": "markdown",
   "id": "647a0fb2-b626-4796-b35f-f75fc4603db4",
   "metadata": {},
   "source": [
    "## Operaciónes con arrays"
   ]
  },
  {
   "cell_type": "code",
   "execution_count": 268,
   "id": "fb7162f6-19de-4c1c-88af-bef3eb7d5749",
   "metadata": {},
   "outputs": [],
   "source": [
    "array = np.arange(0,10)"
   ]
  },
  {
   "cell_type": "code",
   "execution_count": 270,
   "id": "8a1540d2-321a-4e7c-aaef-a5f991bec7e2",
   "metadata": {},
   "outputs": [
    {
     "data": {
      "text/plain": [
       "array([0, 1, 2, 3, 4, 5, 6, 7, 8, 9])"
      ]
     },
     "execution_count": 270,
     "metadata": {},
     "output_type": "execute_result"
    }
   ],
   "source": [
    "array"
   ]
  },
  {
   "cell_type": "code",
   "execution_count": 272,
   "id": "34ca58a4-5ebd-45c9-bda1-e29ef0f61cd7",
   "metadata": {},
   "outputs": [
    {
     "data": {
      "text/plain": [
       "array([ 0,  2,  4,  6,  8, 10, 12, 14, 16, 18])"
      ]
     },
     "execution_count": 272,
     "metadata": {},
     "output_type": "execute_result"
    }
   ],
   "source": [
    "array + array"
   ]
  },
  {
   "cell_type": "code",
   "execution_count": 274,
   "id": "bec6310d-a9ac-4b23-bb1a-889e82f81067",
   "metadata": {},
   "outputs": [
    {
     "data": {
      "text/plain": [
       "array([  0, 100, 200, 300, 400, 500, 600, 700, 800, 900])"
      ]
     },
     "execution_count": 274,
     "metadata": {},
     "output_type": "execute_result"
    }
   ],
   "source": [
    "array * 100"
   ]
  },
  {
   "cell_type": "code",
   "execution_count": 276,
   "id": "b741ca57-842d-43be-a712-730a3e483cff",
   "metadata": {},
   "outputs": [
    {
     "data": {
      "text/plain": [
       "array([40, 41, 42, 43, 44, 45, 46, 47, 48, 49])"
      ]
     },
     "execution_count": 276,
     "metadata": {},
     "output_type": "execute_result"
    }
   ],
   "source": [
    "array + 40"
   ]
  },
  {
   "cell_type": "code",
   "execution_count": 278,
   "id": "06c26378-51fd-4194-9e25-abe639ea4bda",
   "metadata": {},
   "outputs": [
    {
     "data": {
      "text/plain": [
       "array([-1,  0,  1,  2,  3,  4,  5,  6,  7,  8])"
      ]
     },
     "execution_count": 278,
     "metadata": {},
     "output_type": "execute_result"
    }
   ],
   "source": [
    "array - 1"
   ]
  },
  {
   "cell_type": "code",
   "execution_count": 282,
   "id": "eb985dcd-89f3-41d3-b07b-902deaea84e8",
   "metadata": {},
   "outputs": [],
   "source": [
    "array2 = np.arange(5,15)"
   ]
  },
  {
   "cell_type": "code",
   "execution_count": 284,
   "id": "77f3a934-f806-4ef6-a08c-0cbb0b8fdf09",
   "metadata": {},
   "outputs": [
    {
     "data": {
      "text/plain": [
       "array([ 5,  6,  7,  8,  9, 10, 11, 12, 13, 14])"
      ]
     },
     "execution_count": 284,
     "metadata": {},
     "output_type": "execute_result"
    }
   ],
   "source": [
    "array2"
   ]
  },
  {
   "cell_type": "code",
   "execution_count": 286,
   "id": "606d768c-f0de-4765-8901-085f118df020",
   "metadata": {},
   "outputs": [
    {
     "data": {
      "text/plain": [
       "array([0, 1, 2, 3, 4, 5, 6, 7, 8, 9])"
      ]
     },
     "execution_count": 286,
     "metadata": {},
     "output_type": "execute_result"
    }
   ],
   "source": [
    "array"
   ]
  },
  {
   "cell_type": "code",
   "execution_count": 290,
   "id": "a0bdbb55-aa43-4d27-9861-2b032c09f3ec",
   "metadata": {},
   "outputs": [
    {
     "data": {
      "text/plain": [
       "array([5, 5, 5, 5, 5, 5, 5, 5, 5, 5])"
      ]
     },
     "execution_count": 290,
     "metadata": {},
     "output_type": "execute_result"
    }
   ],
   "source": [
    "array2 - array"
   ]
  },
  {
   "cell_type": "code",
   "execution_count": 292,
   "id": "95406e6f-ff01-4114-9448-16e1146b172f",
   "metadata": {},
   "outputs": [
    {
     "data": {
      "text/plain": [
       "array([  0,   6,  14,  24,  36,  50,  66,  84, 104, 126])"
      ]
     },
     "execution_count": 292,
     "metadata": {},
     "output_type": "execute_result"
    }
   ],
   "source": [
    "array2 * array"
   ]
  },
  {
   "cell_type": "code",
   "execution_count": 294,
   "id": "df8ad776-bff9-48cb-9c27-6a8f6c806bdd",
   "metadata": {},
   "outputs": [
    {
     "data": {
      "text/plain": [
       "array([2.23606798, 2.44948974, 2.64575131, 2.82842712, 3.        ,\n",
       "       3.16227766, 3.31662479, 3.46410162, 3.60555128, 3.74165739])"
      ]
     },
     "execution_count": 294,
     "metadata": {},
     "output_type": "execute_result"
    }
   ],
   "source": [
    "np.sqrt(array2)"
   ]
  },
  {
   "cell_type": "code",
   "execution_count": 296,
   "id": "c2e92b7c-bf16-4e8c-bb81-4023cb916584",
   "metadata": {},
   "outputs": [
    {
     "data": {
      "text/plain": [
       "9"
      ]
     },
     "execution_count": 296,
     "metadata": {},
     "output_type": "execute_result"
    }
   ],
   "source": [
    "np.max(array)"
   ]
  },
  {
   "cell_type": "code",
   "execution_count": 298,
   "id": "84c20a3e-c504-4fe5-a217-94fabe3fb0f1",
   "metadata": {},
   "outputs": [
    {
     "data": {
      "text/plain": [
       "array([0, 1, 2, 3, 4, 5, 6, 7, 8, 9])"
      ]
     },
     "execution_count": 298,
     "metadata": {},
     "output_type": "execute_result"
    }
   ],
   "source": [
    "array"
   ]
  },
  {
   "cell_type": "code",
   "execution_count": 302,
   "id": "a0caa76b-0b2f-4d39-8f8d-568fd98cdabb",
   "metadata": {},
   "outputs": [
    {
     "data": {
      "text/plain": [
       "0"
      ]
     },
     "execution_count": 302,
     "metadata": {},
     "output_type": "execute_result"
    }
   ],
   "source": [
    "np.min(array)"
   ]
  },
  {
   "cell_type": "markdown",
   "id": "3c60bd3c-b3b8-4c10-8fda-f165867fdde6",
   "metadata": {},
   "source": [
    "## Ejercicios"
   ]
  },
  {
   "cell_type": "markdown",
   "id": "b8a37318-5656-4dfb-b949-0794e434859d",
   "metadata": {},
   "source": [
    "### 1.Ejercicio"
   ]
  },
  {
   "cell_type": "markdown",
   "id": "3ba46524-6113-4203-8ebb-c3ee2d6d8547",
   "metadata": {},
   "source": [
    "Crea una lista de números secuenciales con l valor minimo de 10 y el valor maximo 39\n",
    "Convierte esta lista en una lista o matriz de 2 dimenciónes (3 filas por 10 columnas)\n",
    "Muestra por pantalla el valor del elemento de la esquina superior derecha de la matriz"
   ]
  },
  {
   "cell_type": "code",
   "execution_count": 7,
   "id": "783e65a3-2ffe-4843-9f7f-21d6fe1eafa2",
   "metadata": {},
   "outputs": [],
   "source": [
    "import numpy as np"
   ]
  },
  {
   "cell_type": "code",
   "execution_count": 9,
   "id": "ad4e8d3d-6331-4186-ba7b-2754f7789dfa",
   "metadata": {},
   "outputs": [],
   "source": [
    "lista = np.arange(10, 40)"
   ]
  },
  {
   "cell_type": "code",
   "execution_count": 11,
   "id": "4757b4b4-73db-4e56-bd5e-264212960d2c",
   "metadata": {},
   "outputs": [
    {
     "data": {
      "text/plain": [
       "array([10, 11, 12, 13, 14, 15, 16, 17, 18, 19, 20, 21, 22, 23, 24, 25, 26,\n",
       "       27, 28, 29, 30, 31, 32, 33, 34, 35, 36, 37, 38, 39])"
      ]
     },
     "execution_count": 11,
     "metadata": {},
     "output_type": "execute_result"
    }
   ],
   "source": [
    "lista"
   ]
  },
  {
   "cell_type": "code",
   "execution_count": 13,
   "id": "024aff5c-a7ec-4f27-b95e-a7feadec966d",
   "metadata": {},
   "outputs": [],
   "source": [
    "lista = lista.reshape(3,10)"
   ]
  },
  {
   "cell_type": "code",
   "execution_count": 15,
   "id": "aef68adc-75d1-4e5f-b04d-f2f40a2088c2",
   "metadata": {},
   "outputs": [
    {
     "data": {
      "text/plain": [
       "array([[10, 11, 12, 13, 14, 15, 16, 17, 18, 19],\n",
       "       [20, 21, 22, 23, 24, 25, 26, 27, 28, 29],\n",
       "       [30, 31, 32, 33, 34, 35, 36, 37, 38, 39]])"
      ]
     },
     "execution_count": 15,
     "metadata": {},
     "output_type": "execute_result"
    }
   ],
   "source": [
    "lista"
   ]
  },
  {
   "cell_type": "code",
   "execution_count": 22,
   "id": "c60a2057-5265-481e-a993-8a1f02b61f49",
   "metadata": {},
   "outputs": [
    {
     "data": {
      "text/plain": [
       "19"
      ]
     },
     "execution_count": 22,
     "metadata": {},
     "output_type": "execute_result"
    }
   ],
   "source": [
    "lista[0][9]"
   ]
  },
  {
   "cell_type": "markdown",
   "id": "95984f9f-8552-43d7-8b25-fbcadaa24fce",
   "metadata": {},
   "source": [
    "### 2.Ejercicio"
   ]
  },
  {
   "cell_type": "markdown",
   "id": "e874bae5-c967-42f9-af4f-04419ffbdf64",
   "metadata": {},
   "source": [
    "Crea un array de una dimención con 9 valores enteros aleatorios entre 0 y 100\n",
    "Convierte ese array en un matriz de 2 dimenciónes (3 filas y 3 columnas)\n",
    "Muestra por pantalla el valor del elemento de la matriz, de la esquina inferior derecha"
   ]
  },
  {
   "cell_type": "code",
   "execution_count": 28,
   "id": "9d6090d5-d47b-45a6-bc1c-5ebce9e5bf42",
   "metadata": {},
   "outputs": [],
   "source": [
    "array = np.random.randint(0,100,9)"
   ]
  },
  {
   "cell_type": "code",
   "execution_count": 30,
   "id": "e6609a2c-0a6b-4d18-9a52-ebc91b5735f5",
   "metadata": {},
   "outputs": [
    {
     "data": {
      "text/plain": [
       "array([16,  4,  9,  2, 54, 12, 39, 45, 69])"
      ]
     },
     "execution_count": 30,
     "metadata": {},
     "output_type": "execute_result"
    }
   ],
   "source": [
    "array"
   ]
  },
  {
   "cell_type": "code",
   "execution_count": 32,
   "id": "31c6291f-5f37-4af7-b213-a104811a97cb",
   "metadata": {},
   "outputs": [],
   "source": [
    "matriz = array.reshape(3,3)"
   ]
  },
  {
   "cell_type": "code",
   "execution_count": 40,
   "id": "ca8e7046-f1dd-4637-bdb6-771615757438",
   "metadata": {},
   "outputs": [
    {
     "data": {
      "text/plain": [
       "array([[16,  4,  9],\n",
       "       [ 2, 54, 12],\n",
       "       [39, 45, 69]])"
      ]
     },
     "execution_count": 40,
     "metadata": {},
     "output_type": "execute_result"
    }
   ],
   "source": [
    "matriz"
   ]
  },
  {
   "cell_type": "code",
   "execution_count": 44,
   "id": "d195d874-17bd-404e-b776-7fd9f6c148d3",
   "metadata": {},
   "outputs": [
    {
     "data": {
      "text/plain": [
       "69"
      ]
     },
     "execution_count": 44,
     "metadata": {},
     "output_type": "execute_result"
    }
   ],
   "source": [
    "matriz[2][2]"
   ]
  },
  {
   "cell_type": "markdown",
   "id": "9f1e7da8-5ba2-489f-afc6-23bc529d5e8c",
   "metadata": {},
   "source": [
    "### 3.Ejercicio"
   ]
  },
  {
   "cell_type": "markdown",
   "id": "ee25b09a-4819-4358-87ca-653f37c06e2a",
   "metadata": {},
   "source": [
    "#Desarrolla una función llamada generar_numeros_enteros_aleatorios que tome como entrada el número de elementos N, un valor mínimo minimo y un valor máximo maximo, y utilice NumPy para generar una lista de N números enteros aleatorios en el rango [minimo, maximo].\n",
    "\n",
    "\n",
    "\n",
    "def generar_numeros_enteros_aleatorios(N, minimo, maximo):\n",
    "\n",
    "\n",
    "\n",
    "#### Ejemplo de uso\n",
    "N = 5\n",
    "minimo = 1\n",
    "maximo = 10\n",
    "resultado = generar_numeros_enteros_aleatorios(N, minimo, maximo)\n",
    "print(resultado)\n",
    " "
   ]
  },
  {
   "cell_type": "code",
   "execution_count": 181,
   "id": "3a2cea9d-3caa-4218-b533-c9728e1a8365",
   "metadata": {},
   "outputs": [
    {
     "data": {
      "text/plain": [
       "[8, 7, 4, 6, 6]"
      ]
     },
     "execution_count": 181,
     "metadata": {},
     "output_type": "execute_result"
    }
   ],
   "source": [
    "import numpy as np\n",
    "\n",
    "def generar_numeros_enteros_aleatorios(N, minimo, maximo):\n",
    "    return list(np.random.randint(minimo  , maximo , N ))\n",
    "\n",
    "# Ejemplo de uso\n",
    "N = 5\n",
    "minimo =1\n",
    "maximo =10\n",
    "resultado = generar_numeros_enteros_aleatorios(N, minimo, maximo)\n",
    "resultado "
   ]
  },
  {
   "cell_type": "code",
   "execution_count": 178,
   "id": "67ad913b-9b51-41f2-b1d8-24a0887e9353",
   "metadata": {},
   "outputs": [
    {
     "name": "stdout",
     "output_type": "stream",
     "text": [
      "[4, 1, 7, 10, 4]\n"
     ]
    }
   ],
   "source": [
    "import numpy as np\n",
    "\n",
    "def generar_numeros_enteros_aleatorios(N, minimo, maximo):\n",
    "    return list(np.random.randint(minimo, maximo + 1, N))\n",
    "\n",
    "# Ejemplo de uso\n",
    "N = 5\n",
    "minimo = 1\n",
    "maximo = 10\n",
    "resultado = generar_numeros_enteros_aleatorios(N, minimo, maximo)\n",
    "print(resultado)  \n"
   ]
  },
  {
   "cell_type": "code",
   "execution_count": 183,
   "id": "ab507271-4b01-4bf1-a362-fef37978dd8f",
   "metadata": {},
   "outputs": [
    {
     "name": "stdout",
     "output_type": "stream",
     "text": [
      "[7, 4, 8, 5, 7]\n"
     ]
    }
   ],
   "source": [
    "import numpy as np\n",
    "\n",
    "def generar_numeros_enteros_aleatorios(N, minimo, maximo, semilla=None):\n",
    "    if semilla is not None:\n",
    "        np.random.seed(semilla)\n",
    "    return list(np.random.randint(minimo, maximo + 1, N))\n",
    "\n",
    "# Ejemplo de uso con semilla\n",
    "N = 5\n",
    "minimo = 1\n",
    "maximo = 10\n",
    "semilla = 42  # Puedes elegir cualquier número entero como semilla\n",
    "resultado = generar_numeros_enteros_aleatorios(N, minimo, maximo, semilla)\n",
    "print(resultado)  # Resultado: será el mismo cada vez que ejecutes el código con la misma semilla\n"
   ]
  },
  {
   "cell_type": "markdown",
   "id": "d63330e4-647d-4f8d-995c-45098360d7b8",
   "metadata": {},
   "source": [
    "## 4.Ejercicio"
   ]
  },
  {
   "cell_type": "markdown",
   "id": "dcc08d4d-8728-48c0-bda0-4963025f4cfa",
   "metadata": {},
   "source": [
    "Generar una Secuencia de Números\n",
    "Desarrolla una función llamada generar_secuencia_numerica que tome como entrada un valor mínimo minimo, un valor máximo maximo y un paso paso, y utilice NumPy para generar una secuencia de números en el rango [minimo, maximo) con el paso especificado.\n",
    "\n",
    "\n",
    "\n",
    "def generar_secuencia_numerica(minimo, maximo, paso):\n",
    "\n",
    "   \n",
    "\n",
    "#### Ejemplo de uso\n",
    "minimo = 0\n",
    "maximo = 10\n",
    "paso = 2\n",
    "resultado = generar_secuencia_numerica(minimo, maximo, paso)\n",
    "print(resultado)\n",
    "\n",
    "\n",
    "Resultado\n",
    "\n",
    "[0 2 4 6 8]"
   ]
  },
  {
   "cell_type": "code",
   "execution_count": 145,
   "id": "48fb4147-f5f8-499c-8b8e-d10e03547a49",
   "metadata": {},
   "outputs": [
    {
     "name": "stdout",
     "output_type": "stream",
     "text": [
      "[0 2 4 6 8]\n"
     ]
    }
   ],
   "source": [
    "import numpy as np\n",
    "\n",
    "def generar_secuencia_numerica(minimo, maximo, paso):\n",
    "    return np.arange(minimo, maximo, paso)\n",
    "\n",
    "# Ejemplo de uso\n",
    "minimo = 0\n",
    "maximo = 10\n",
    "paso = 2\n",
    "resultado = generar_secuencia_numerica(minimo, maximo, paso)\n",
    "\n",
    "print(resultado)  \n"
   ]
  }
 ],
 "metadata": {
  "kernelspec": {
   "display_name": "Python 3 (ipykernel)",
   "language": "python",
   "name": "python3"
  },
  "language_info": {
   "codemirror_mode": {
    "name": "ipython",
    "version": 3
   },
   "file_extension": ".py",
   "mimetype": "text/x-python",
   "name": "python",
   "nbconvert_exporter": "python",
   "pygments_lexer": "ipython3",
   "version": "3.11.7"
  }
 },
 "nbformat": 4,
 "nbformat_minor": 5
}
