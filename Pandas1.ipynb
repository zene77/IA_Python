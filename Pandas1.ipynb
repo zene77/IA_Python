{
 "cells": [
  {
   "cell_type": "markdown",
   "id": "93966743-b13b-428b-8f58-7f3f88ea6514",
   "metadata": {},
   "source": [
    "## DataFrame: Modificación de los nombres de filas"
   ]
  },
  {
   "cell_type": "code",
   "execution_count": null,
   "id": "e5bf31a5-0fd5-4a92-8f90-7404fd18ec9d",
   "metadata": {},
   "outputs": [],
   "source": []
  },
  {
   "cell_type": "code",
   "execution_count": 384,
   "id": "d3e1ac87-2823-4bc5-b42f-af21f8e29788",
   "metadata": {},
   "outputs": [],
   "source": [
    "import pandas as pd"
   ]
  },
  {
   "cell_type": "code",
   "execution_count": 386,
   "id": "ad586b3a-3285-4d75-8136-0224b370f010",
   "metadata": {},
   "outputs": [],
   "source": [
    "filas = 'ventas1 ventas2 ventas3'. split()\n",
    "columnas = 'zonaA zonaB zonaC'. split()\n",
    "datos = [[100, 200, 250], [210, 300, 425], [250, 310, 124]]\n",
    "dataframe = pd.DataFrame(datos, filas, columnas)"
   ]
  },
  {
   "cell_type": "code",
   "execution_count": 388,
   "id": "c73a0fb9-b4ce-4f35-a022-6504569739fb",
   "metadata": {},
   "outputs": [
    {
     "data": {
      "text/html": [
       "<div>\n",
       "<style scoped>\n",
       "    .dataframe tbody tr th:only-of-type {\n",
       "        vertical-align: middle;\n",
       "    }\n",
       "\n",
       "    .dataframe tbody tr th {\n",
       "        vertical-align: top;\n",
       "    }\n",
       "\n",
       "    .dataframe thead th {\n",
       "        text-align: right;\n",
       "    }\n",
       "</style>\n",
       "<table border=\"1\" class=\"dataframe\">\n",
       "  <thead>\n",
       "    <tr style=\"text-align: right;\">\n",
       "      <th></th>\n",
       "      <th>zonaA</th>\n",
       "      <th>zonaB</th>\n",
       "      <th>zonaC</th>\n",
       "    </tr>\n",
       "  </thead>\n",
       "  <tbody>\n",
       "    <tr>\n",
       "      <th>ventas1</th>\n",
       "      <td>100</td>\n",
       "      <td>200</td>\n",
       "      <td>250</td>\n",
       "    </tr>\n",
       "    <tr>\n",
       "      <th>ventas2</th>\n",
       "      <td>210</td>\n",
       "      <td>300</td>\n",
       "      <td>425</td>\n",
       "    </tr>\n",
       "    <tr>\n",
       "      <th>ventas3</th>\n",
       "      <td>250</td>\n",
       "      <td>310</td>\n",
       "      <td>124</td>\n",
       "    </tr>\n",
       "  </tbody>\n",
       "</table>\n",
       "</div>"
      ],
      "text/plain": [
       "         zonaA  zonaB  zonaC\n",
       "ventas1    100    200    250\n",
       "ventas2    210    300    425\n",
       "ventas3    250    310    124"
      ]
     },
     "execution_count": 388,
     "metadata": {},
     "output_type": "execute_result"
    }
   ],
   "source": [
    "dataframe"
   ]
  },
  {
   "cell_type": "code",
   "execution_count": 390,
   "id": "5da05696-7d5a-4412-bb1f-47306d38b9c1",
   "metadata": {},
   "outputs": [
    {
     "data": {
      "text/plain": [
       "['dia1,', 'dia2,', 'dia3']"
      ]
     },
     "execution_count": 390,
     "metadata": {},
     "output_type": "execute_result"
    }
   ],
   "source": [
    "nuevas_filas = 'dia1, dia2, dia3'.split()\n",
    "nuevas_filas"
   ]
  },
  {
   "cell_type": "code",
   "execution_count": 392,
   "id": "b286ed6c-6de1-43c9-902c-0686ce663646",
   "metadata": {},
   "outputs": [
    {
     "data": {
      "text/html": [
       "<div>\n",
       "<style scoped>\n",
       "    .dataframe tbody tr th:only-of-type {\n",
       "        vertical-align: middle;\n",
       "    }\n",
       "\n",
       "    .dataframe tbody tr th {\n",
       "        vertical-align: top;\n",
       "    }\n",
       "\n",
       "    .dataframe thead th {\n",
       "        text-align: right;\n",
       "    }\n",
       "</style>\n",
       "<table border=\"1\" class=\"dataframe\">\n",
       "  <thead>\n",
       "    <tr style=\"text-align: right;\">\n",
       "      <th></th>\n",
       "      <th>zonaA</th>\n",
       "      <th>zonaB</th>\n",
       "      <th>zonaC</th>\n",
       "      <th>dias</th>\n",
       "    </tr>\n",
       "  </thead>\n",
       "  <tbody>\n",
       "    <tr>\n",
       "      <th>ventas1</th>\n",
       "      <td>100</td>\n",
       "      <td>200</td>\n",
       "      <td>250</td>\n",
       "      <td>dia1,</td>\n",
       "    </tr>\n",
       "    <tr>\n",
       "      <th>ventas2</th>\n",
       "      <td>210</td>\n",
       "      <td>300</td>\n",
       "      <td>425</td>\n",
       "      <td>dia2,</td>\n",
       "    </tr>\n",
       "    <tr>\n",
       "      <th>ventas3</th>\n",
       "      <td>250</td>\n",
       "      <td>310</td>\n",
       "      <td>124</td>\n",
       "      <td>dia3</td>\n",
       "    </tr>\n",
       "  </tbody>\n",
       "</table>\n",
       "</div>"
      ],
      "text/plain": [
       "         zonaA  zonaB  zonaC   dias\n",
       "ventas1    100    200    250  dia1,\n",
       "ventas2    210    300    425  dia2,\n",
       "ventas3    250    310    124   dia3"
      ]
     },
     "execution_count": 392,
     "metadata": {},
     "output_type": "execute_result"
    }
   ],
   "source": [
    "dataframe['dias'] = nuevas_filas\n",
    "dataframe"
   ]
  },
  {
   "cell_type": "code",
   "execution_count": 394,
   "id": "2b0a1cee-ab23-4d65-9b47-99930675b3bd",
   "metadata": {},
   "outputs": [
    {
     "data": {
      "text/html": [
       "<div>\n",
       "<style scoped>\n",
       "    .dataframe tbody tr th:only-of-type {\n",
       "        vertical-align: middle;\n",
       "    }\n",
       "\n",
       "    .dataframe tbody tr th {\n",
       "        vertical-align: top;\n",
       "    }\n",
       "\n",
       "    .dataframe thead th {\n",
       "        text-align: right;\n",
       "    }\n",
       "</style>\n",
       "<table border=\"1\" class=\"dataframe\">\n",
       "  <thead>\n",
       "    <tr style=\"text-align: right;\">\n",
       "      <th></th>\n",
       "      <th>zonaA</th>\n",
       "      <th>zonaB</th>\n",
       "      <th>zonaC</th>\n",
       "    </tr>\n",
       "    <tr>\n",
       "      <th>dias</th>\n",
       "      <th></th>\n",
       "      <th></th>\n",
       "      <th></th>\n",
       "    </tr>\n",
       "  </thead>\n",
       "  <tbody>\n",
       "    <tr>\n",
       "      <th>dia1,</th>\n",
       "      <td>100</td>\n",
       "      <td>200</td>\n",
       "      <td>250</td>\n",
       "    </tr>\n",
       "    <tr>\n",
       "      <th>dia2,</th>\n",
       "      <td>210</td>\n",
       "      <td>300</td>\n",
       "      <td>425</td>\n",
       "    </tr>\n",
       "    <tr>\n",
       "      <th>dia3</th>\n",
       "      <td>250</td>\n",
       "      <td>310</td>\n",
       "      <td>124</td>\n",
       "    </tr>\n",
       "  </tbody>\n",
       "</table>\n",
       "</div>"
      ],
      "text/plain": [
       "       zonaA  zonaB  zonaC\n",
       "dias                      \n",
       "dia1,    100    200    250\n",
       "dia2,    210    300    425\n",
       "dia3     250    310    124"
      ]
     },
     "execution_count": 394,
     "metadata": {},
     "output_type": "execute_result"
    }
   ],
   "source": [
    "dataframe.set_index('dias')"
   ]
  },
  {
   "cell_type": "code",
   "execution_count": 396,
   "id": "74cacd8b-cf32-4cf9-b582-0a97898543d6",
   "metadata": {},
   "outputs": [
    {
     "data": {
      "text/html": [
       "<div>\n",
       "<style scoped>\n",
       "    .dataframe tbody tr th:only-of-type {\n",
       "        vertical-align: middle;\n",
       "    }\n",
       "\n",
       "    .dataframe tbody tr th {\n",
       "        vertical-align: top;\n",
       "    }\n",
       "\n",
       "    .dataframe thead th {\n",
       "        text-align: right;\n",
       "    }\n",
       "</style>\n",
       "<table border=\"1\" class=\"dataframe\">\n",
       "  <thead>\n",
       "    <tr style=\"text-align: right;\">\n",
       "      <th></th>\n",
       "      <th>zonaA</th>\n",
       "      <th>zonaB</th>\n",
       "      <th>zonaC</th>\n",
       "      <th>dias</th>\n",
       "    </tr>\n",
       "  </thead>\n",
       "  <tbody>\n",
       "    <tr>\n",
       "      <th>ventas1</th>\n",
       "      <td>100</td>\n",
       "      <td>200</td>\n",
       "      <td>250</td>\n",
       "      <td>dia1,</td>\n",
       "    </tr>\n",
       "    <tr>\n",
       "      <th>ventas2</th>\n",
       "      <td>210</td>\n",
       "      <td>300</td>\n",
       "      <td>425</td>\n",
       "      <td>dia2,</td>\n",
       "    </tr>\n",
       "    <tr>\n",
       "      <th>ventas3</th>\n",
       "      <td>250</td>\n",
       "      <td>310</td>\n",
       "      <td>124</td>\n",
       "      <td>dia3</td>\n",
       "    </tr>\n",
       "  </tbody>\n",
       "</table>\n",
       "</div>"
      ],
      "text/plain": [
       "         zonaA  zonaB  zonaC   dias\n",
       "ventas1    100    200    250  dia1,\n",
       "ventas2    210    300    425  dia2,\n",
       "ventas3    250    310    124   dia3"
      ]
     },
     "execution_count": 396,
     "metadata": {},
     "output_type": "execute_result"
    }
   ],
   "source": [
    "dataframe"
   ]
  },
  {
   "cell_type": "code",
   "execution_count": 398,
   "id": "eaee1eea-f14e-4ea6-a522-3256aaa6aab1",
   "metadata": {},
   "outputs": [],
   "source": [
    "dataframe = dataframe.set_index('dias')"
   ]
  },
  {
   "cell_type": "code",
   "execution_count": 400,
   "id": "17a35e45-2de7-4061-8f4e-1560fef9322d",
   "metadata": {},
   "outputs": [
    {
     "data": {
      "text/html": [
       "<div>\n",
       "<style scoped>\n",
       "    .dataframe tbody tr th:only-of-type {\n",
       "        vertical-align: middle;\n",
       "    }\n",
       "\n",
       "    .dataframe tbody tr th {\n",
       "        vertical-align: top;\n",
       "    }\n",
       "\n",
       "    .dataframe thead th {\n",
       "        text-align: right;\n",
       "    }\n",
       "</style>\n",
       "<table border=\"1\" class=\"dataframe\">\n",
       "  <thead>\n",
       "    <tr style=\"text-align: right;\">\n",
       "      <th></th>\n",
       "      <th>zonaA</th>\n",
       "      <th>zonaB</th>\n",
       "      <th>zonaC</th>\n",
       "    </tr>\n",
       "    <tr>\n",
       "      <th>dias</th>\n",
       "      <th></th>\n",
       "      <th></th>\n",
       "      <th></th>\n",
       "    </tr>\n",
       "  </thead>\n",
       "  <tbody>\n",
       "    <tr>\n",
       "      <th>dia1,</th>\n",
       "      <td>100</td>\n",
       "      <td>200</td>\n",
       "      <td>250</td>\n",
       "    </tr>\n",
       "    <tr>\n",
       "      <th>dia2,</th>\n",
       "      <td>210</td>\n",
       "      <td>300</td>\n",
       "      <td>425</td>\n",
       "    </tr>\n",
       "    <tr>\n",
       "      <th>dia3</th>\n",
       "      <td>250</td>\n",
       "      <td>310</td>\n",
       "      <td>124</td>\n",
       "    </tr>\n",
       "  </tbody>\n",
       "</table>\n",
       "</div>"
      ],
      "text/plain": [
       "       zonaA  zonaB  zonaC\n",
       "dias                      \n",
       "dia1,    100    200    250\n",
       "dia2,    210    300    425\n",
       "dia3     250    310    124"
      ]
     },
     "execution_count": 400,
     "metadata": {},
     "output_type": "execute_result"
    }
   ],
   "source": [
    "dataframe"
   ]
  },
  {
   "cell_type": "markdown",
   "id": "6d00fed1-cd25-4e4c-bf4c-89c5c9dadd7f",
   "metadata": {},
   "source": [
    "## Pandas: Tratamiento datos nulos o sin valor"
   ]
  },
  {
   "cell_type": "code",
   "execution_count": 403,
   "id": "6616dc2c-09c8-4b8f-953a-70e948191c2d",
   "metadata": {},
   "outputs": [],
   "source": [
    "import  numpy as np\n",
    "import pandas as pd"
   ]
  },
  {
   "cell_type": "code",
   "execution_count": 405,
   "id": "1083f110-8325-45dc-9716-85fb16fb7eca",
   "metadata": {},
   "outputs": [],
   "source": [
    "diccionario = {'A':[4,5, np.nan], 'B':[6,1,5], 'C':[np.nan, 4, np.nan]}"
   ]
  },
  {
   "cell_type": "code",
   "execution_count": 407,
   "id": "82bdb053-c370-43c1-9629-4c4e69539a3e",
   "metadata": {},
   "outputs": [],
   "source": [
    "dataframe = pd.DataFrame(diccionario)"
   ]
  },
  {
   "cell_type": "code",
   "execution_count": 409,
   "id": "83f6a75c-f9d6-47db-8985-4ea7dbf9819b",
   "metadata": {},
   "outputs": [
    {
     "data": {
      "text/html": [
       "<div>\n",
       "<style scoped>\n",
       "    .dataframe tbody tr th:only-of-type {\n",
       "        vertical-align: middle;\n",
       "    }\n",
       "\n",
       "    .dataframe tbody tr th {\n",
       "        vertical-align: top;\n",
       "    }\n",
       "\n",
       "    .dataframe thead th {\n",
       "        text-align: right;\n",
       "    }\n",
       "</style>\n",
       "<table border=\"1\" class=\"dataframe\">\n",
       "  <thead>\n",
       "    <tr style=\"text-align: right;\">\n",
       "      <th></th>\n",
       "      <th>A</th>\n",
       "      <th>B</th>\n",
       "      <th>C</th>\n",
       "    </tr>\n",
       "  </thead>\n",
       "  <tbody>\n",
       "    <tr>\n",
       "      <th>0</th>\n",
       "      <td>4.0</td>\n",
       "      <td>6</td>\n",
       "      <td>NaN</td>\n",
       "    </tr>\n",
       "    <tr>\n",
       "      <th>1</th>\n",
       "      <td>5.0</td>\n",
       "      <td>1</td>\n",
       "      <td>4.0</td>\n",
       "    </tr>\n",
       "    <tr>\n",
       "      <th>2</th>\n",
       "      <td>NaN</td>\n",
       "      <td>5</td>\n",
       "      <td>NaN</td>\n",
       "    </tr>\n",
       "  </tbody>\n",
       "</table>\n",
       "</div>"
      ],
      "text/plain": [
       "     A  B    C\n",
       "0  4.0  6  NaN\n",
       "1  5.0  1  4.0\n",
       "2  NaN  5  NaN"
      ]
     },
     "execution_count": 409,
     "metadata": {},
     "output_type": "execute_result"
    }
   ],
   "source": [
    "dataframe"
   ]
  },
  {
   "cell_type": "code",
   "execution_count": 411,
   "id": "7085c432-6a07-486b-a360-c6679041ba35",
   "metadata": {},
   "outputs": [
    {
     "data": {
      "text/html": [
       "<div>\n",
       "<style scoped>\n",
       "    .dataframe tbody tr th:only-of-type {\n",
       "        vertical-align: middle;\n",
       "    }\n",
       "\n",
       "    .dataframe tbody tr th {\n",
       "        vertical-align: top;\n",
       "    }\n",
       "\n",
       "    .dataframe thead th {\n",
       "        text-align: right;\n",
       "    }\n",
       "</style>\n",
       "<table border=\"1\" class=\"dataframe\">\n",
       "  <thead>\n",
       "    <tr style=\"text-align: right;\">\n",
       "      <th></th>\n",
       "      <th>A</th>\n",
       "      <th>B</th>\n",
       "      <th>C</th>\n",
       "    </tr>\n",
       "  </thead>\n",
       "  <tbody>\n",
       "    <tr>\n",
       "      <th>1</th>\n",
       "      <td>5.0</td>\n",
       "      <td>1</td>\n",
       "      <td>4.0</td>\n",
       "    </tr>\n",
       "  </tbody>\n",
       "</table>\n",
       "</div>"
      ],
      "text/plain": [
       "     A  B    C\n",
       "1  5.0  1  4.0"
      ]
     },
     "execution_count": 411,
     "metadata": {},
     "output_type": "execute_result"
    }
   ],
   "source": [
    "dataframe.dropna()"
   ]
  },
  {
   "cell_type": "code",
   "execution_count": 413,
   "id": "1d46da74-9e4f-4222-b8f2-42d56e25b921",
   "metadata": {},
   "outputs": [
    {
     "data": {
      "text/html": [
       "<div>\n",
       "<style scoped>\n",
       "    .dataframe tbody tr th:only-of-type {\n",
       "        vertical-align: middle;\n",
       "    }\n",
       "\n",
       "    .dataframe tbody tr th {\n",
       "        vertical-align: top;\n",
       "    }\n",
       "\n",
       "    .dataframe thead th {\n",
       "        text-align: right;\n",
       "    }\n",
       "</style>\n",
       "<table border=\"1\" class=\"dataframe\">\n",
       "  <thead>\n",
       "    <tr style=\"text-align: right;\">\n",
       "      <th></th>\n",
       "      <th>B</th>\n",
       "    </tr>\n",
       "  </thead>\n",
       "  <tbody>\n",
       "    <tr>\n",
       "      <th>0</th>\n",
       "      <td>6</td>\n",
       "    </tr>\n",
       "    <tr>\n",
       "      <th>1</th>\n",
       "      <td>1</td>\n",
       "    </tr>\n",
       "    <tr>\n",
       "      <th>2</th>\n",
       "      <td>5</td>\n",
       "    </tr>\n",
       "  </tbody>\n",
       "</table>\n",
       "</div>"
      ],
      "text/plain": [
       "   B\n",
       "0  6\n",
       "1  1\n",
       "2  5"
      ]
     },
     "execution_count": 413,
     "metadata": {},
     "output_type": "execute_result"
    }
   ],
   "source": [
    "dataframe.dropna(axis=1)"
   ]
  },
  {
   "cell_type": "code",
   "execution_count": 415,
   "id": "ff5e7fb9-9b64-4dcb-b0dc-f54b4b3eb286",
   "metadata": {},
   "outputs": [
    {
     "data": {
      "text/html": [
       "<div>\n",
       "<style scoped>\n",
       "    .dataframe tbody tr th:only-of-type {\n",
       "        vertical-align: middle;\n",
       "    }\n",
       "\n",
       "    .dataframe tbody tr th {\n",
       "        vertical-align: top;\n",
       "    }\n",
       "\n",
       "    .dataframe thead th {\n",
       "        text-align: right;\n",
       "    }\n",
       "</style>\n",
       "<table border=\"1\" class=\"dataframe\">\n",
       "  <thead>\n",
       "    <tr style=\"text-align: right;\">\n",
       "      <th></th>\n",
       "      <th>A</th>\n",
       "      <th>B</th>\n",
       "      <th>C</th>\n",
       "    </tr>\n",
       "  </thead>\n",
       "  <tbody>\n",
       "    <tr>\n",
       "      <th>0</th>\n",
       "      <td>4.0</td>\n",
       "      <td>6</td>\n",
       "      <td>NaN</td>\n",
       "    </tr>\n",
       "    <tr>\n",
       "      <th>1</th>\n",
       "      <td>5.0</td>\n",
       "      <td>1</td>\n",
       "      <td>4.0</td>\n",
       "    </tr>\n",
       "    <tr>\n",
       "      <th>2</th>\n",
       "      <td>NaN</td>\n",
       "      <td>5</td>\n",
       "      <td>NaN</td>\n",
       "    </tr>\n",
       "  </tbody>\n",
       "</table>\n",
       "</div>"
      ],
      "text/plain": [
       "     A  B    C\n",
       "0  4.0  6  NaN\n",
       "1  5.0  1  4.0\n",
       "2  NaN  5  NaN"
      ]
     },
     "execution_count": 415,
     "metadata": {},
     "output_type": "execute_result"
    }
   ],
   "source": [
    "dataframe"
   ]
  },
  {
   "cell_type": "code",
   "execution_count": 417,
   "id": "fdbd35d5-c352-4440-bf6d-d5c32fc1f9a3",
   "metadata": {},
   "outputs": [
    {
     "data": {
      "text/html": [
       "<div>\n",
       "<style scoped>\n",
       "    .dataframe tbody tr th:only-of-type {\n",
       "        vertical-align: middle;\n",
       "    }\n",
       "\n",
       "    .dataframe tbody tr th {\n",
       "        vertical-align: top;\n",
       "    }\n",
       "\n",
       "    .dataframe thead th {\n",
       "        text-align: right;\n",
       "    }\n",
       "</style>\n",
       "<table border=\"1\" class=\"dataframe\">\n",
       "  <thead>\n",
       "    <tr style=\"text-align: right;\">\n",
       "      <th></th>\n",
       "      <th>A</th>\n",
       "      <th>B</th>\n",
       "      <th>C</th>\n",
       "    </tr>\n",
       "  </thead>\n",
       "  <tbody>\n",
       "    <tr>\n",
       "      <th>0</th>\n",
       "      <td>4.0</td>\n",
       "      <td>6</td>\n",
       "      <td>100.0</td>\n",
       "    </tr>\n",
       "    <tr>\n",
       "      <th>1</th>\n",
       "      <td>5.0</td>\n",
       "      <td>1</td>\n",
       "      <td>4.0</td>\n",
       "    </tr>\n",
       "    <tr>\n",
       "      <th>2</th>\n",
       "      <td>100.0</td>\n",
       "      <td>5</td>\n",
       "      <td>100.0</td>\n",
       "    </tr>\n",
       "  </tbody>\n",
       "</table>\n",
       "</div>"
      ],
      "text/plain": [
       "       A  B      C\n",
       "0    4.0  6  100.0\n",
       "1    5.0  1    4.0\n",
       "2  100.0  5  100.0"
      ]
     },
     "execution_count": 417,
     "metadata": {},
     "output_type": "execute_result"
    }
   ],
   "source": [
    "dataframe.fillna(value=100)"
   ]
  },
  {
   "cell_type": "code",
   "execution_count": 419,
   "id": "403a8ce4-f9aa-4413-ad77-e2552fe98f0c",
   "metadata": {},
   "outputs": [
    {
     "data": {
      "text/plain": [
       "A    4.5\n",
       "B    4.0\n",
       "C    4.0\n",
       "dtype: float64"
      ]
     },
     "execution_count": 419,
     "metadata": {},
     "output_type": "execute_result"
    }
   ],
   "source": [
    "valor_medio = dataframe.mean()\n",
    "valor_medio"
   ]
  },
  {
   "cell_type": "markdown",
   "id": "2a88527f-0e42-4b8e-9bf4-770480468bd7",
   "metadata": {},
   "source": [
    "## Pandas - Agrupación de datos"
   ]
  },
  {
   "cell_type": "code",
   "execution_count": 422,
   "id": "ba579cc3-13a6-49df-808d-c027310f20ae",
   "metadata": {},
   "outputs": [],
   "source": [
    "import  numpy as np\n",
    "import pandas as pd"
   ]
  },
  {
   "cell_type": "code",
   "execution_count": 424,
   "id": "8c0d26b5-b669-490c-923f-aef211561109",
   "metadata": {},
   "outputs": [],
   "source": [
    "diccionario = {'dias':['dia1', 'dia1', 'dia2', 'dia2', 'dia3'], 'vendedores':['Antonio', 'Maria','Jose', 'Marta', 'Juan'], 'ventas':\n",
    "                      [100, 400, 200, 500, 300] }"
   ]
  },
  {
   "cell_type": "code",
   "execution_count": 426,
   "id": "f819b7df-ce0a-4312-859f-feeaa88dee7f",
   "metadata": {},
   "outputs": [],
   "source": [
    "dataframe = pd. DataFrame(diccionario)"
   ]
  },
  {
   "cell_type": "code",
   "execution_count": 428,
   "id": "19dd89fe-dd1b-494a-bd9f-772016c28d60",
   "metadata": {},
   "outputs": [
    {
     "data": {
      "text/html": [
       "<div>\n",
       "<style scoped>\n",
       "    .dataframe tbody tr th:only-of-type {\n",
       "        vertical-align: middle;\n",
       "    }\n",
       "\n",
       "    .dataframe tbody tr th {\n",
       "        vertical-align: top;\n",
       "    }\n",
       "\n",
       "    .dataframe thead th {\n",
       "        text-align: right;\n",
       "    }\n",
       "</style>\n",
       "<table border=\"1\" class=\"dataframe\">\n",
       "  <thead>\n",
       "    <tr style=\"text-align: right;\">\n",
       "      <th></th>\n",
       "      <th>dias</th>\n",
       "      <th>vendedores</th>\n",
       "      <th>ventas</th>\n",
       "    </tr>\n",
       "  </thead>\n",
       "  <tbody>\n",
       "    <tr>\n",
       "      <th>0</th>\n",
       "      <td>dia1</td>\n",
       "      <td>Antonio</td>\n",
       "      <td>100</td>\n",
       "    </tr>\n",
       "    <tr>\n",
       "      <th>1</th>\n",
       "      <td>dia1</td>\n",
       "      <td>Maria</td>\n",
       "      <td>400</td>\n",
       "    </tr>\n",
       "    <tr>\n",
       "      <th>2</th>\n",
       "      <td>dia2</td>\n",
       "      <td>Jose</td>\n",
       "      <td>200</td>\n",
       "    </tr>\n",
       "    <tr>\n",
       "      <th>3</th>\n",
       "      <td>dia2</td>\n",
       "      <td>Marta</td>\n",
       "      <td>500</td>\n",
       "    </tr>\n",
       "    <tr>\n",
       "      <th>4</th>\n",
       "      <td>dia3</td>\n",
       "      <td>Juan</td>\n",
       "      <td>300</td>\n",
       "    </tr>\n",
       "  </tbody>\n",
       "</table>\n",
       "</div>"
      ],
      "text/plain": [
       "   dias vendedores  ventas\n",
       "0  dia1    Antonio     100\n",
       "1  dia1      Maria     400\n",
       "2  dia2       Jose     200\n",
       "3  dia2      Marta     500\n",
       "4  dia3       Juan     300"
      ]
     },
     "execution_count": 428,
     "metadata": {},
     "output_type": "execute_result"
    }
   ],
   "source": [
    "dataframe"
   ]
  },
  {
   "cell_type": "code",
   "execution_count": 430,
   "id": "eb9c1503-664e-4755-9b5b-aa151fd76181",
   "metadata": {},
   "outputs": [
    {
     "data": {
      "text/html": [
       "<div>\n",
       "<style scoped>\n",
       "    .dataframe tbody tr th:only-of-type {\n",
       "        vertical-align: middle;\n",
       "    }\n",
       "\n",
       "    .dataframe tbody tr th {\n",
       "        vertical-align: top;\n",
       "    }\n",
       "\n",
       "    .dataframe thead th {\n",
       "        text-align: right;\n",
       "    }\n",
       "</style>\n",
       "<table border=\"1\" class=\"dataframe\">\n",
       "  <thead>\n",
       "    <tr style=\"text-align: right;\">\n",
       "      <th></th>\n",
       "      <th>ventas</th>\n",
       "    </tr>\n",
       "    <tr>\n",
       "      <th>dias</th>\n",
       "      <th></th>\n",
       "    </tr>\n",
       "  </thead>\n",
       "  <tbody>\n",
       "    <tr>\n",
       "      <th>dia1</th>\n",
       "      <td>250.0</td>\n",
       "    </tr>\n",
       "    <tr>\n",
       "      <th>dia2</th>\n",
       "      <td>350.0</td>\n",
       "    </tr>\n",
       "    <tr>\n",
       "      <th>dia3</th>\n",
       "      <td>300.0</td>\n",
       "    </tr>\n",
       "  </tbody>\n",
       "</table>\n",
       "</div>"
      ],
      "text/plain": [
       "      ventas\n",
       "dias        \n",
       "dia1   250.0\n",
       "dia2   350.0\n",
       "dia3   300.0"
      ]
     },
     "execution_count": 430,
     "metadata": {},
     "output_type": "execute_result"
    }
   ],
   "source": [
    "\n",
    "dataframe.groupby('dias').mean(numeric_only=True)\n"
   ]
  },
  {
   "cell_type": "code",
   "execution_count": 432,
   "id": "595b4e3e-748d-4aa1-b13d-b1f9fc44394e",
   "metadata": {},
   "outputs": [
    {
     "data": {
      "text/html": [
       "<div>\n",
       "<style scoped>\n",
       "    .dataframe tbody tr th:only-of-type {\n",
       "        vertical-align: middle;\n",
       "    }\n",
       "\n",
       "    .dataframe tbody tr th {\n",
       "        vertical-align: top;\n",
       "    }\n",
       "\n",
       "    .dataframe thead th {\n",
       "        text-align: right;\n",
       "    }\n",
       "</style>\n",
       "<table border=\"1\" class=\"dataframe\">\n",
       "  <thead>\n",
       "    <tr style=\"text-align: right;\">\n",
       "      <th></th>\n",
       "      <th>ventas</th>\n",
       "    </tr>\n",
       "    <tr>\n",
       "      <th>dias</th>\n",
       "      <th></th>\n",
       "    </tr>\n",
       "  </thead>\n",
       "  <tbody>\n",
       "    <tr>\n",
       "      <th>dia1</th>\n",
       "      <td>500</td>\n",
       "    </tr>\n",
       "    <tr>\n",
       "      <th>dia2</th>\n",
       "      <td>700</td>\n",
       "    </tr>\n",
       "    <tr>\n",
       "      <th>dia3</th>\n",
       "      <td>300</td>\n",
       "    </tr>\n",
       "  </tbody>\n",
       "</table>\n",
       "</div>"
      ],
      "text/plain": [
       "      ventas\n",
       "dias        \n",
       "dia1     500\n",
       "dia2     700\n",
       "dia3     300"
      ]
     },
     "execution_count": 432,
     "metadata": {},
     "output_type": "execute_result"
    }
   ],
   "source": [
    "\n",
    "dataframe.groupby('dias').sum(numeric_only=True)"
   ]
  },
  {
   "cell_type": "code",
   "execution_count": 434,
   "id": "6267c3c8-9927-4b6b-9d38-b287d7214389",
   "metadata": {},
   "outputs": [
    {
     "data": {
      "text/html": [
       "<div>\n",
       "<style scoped>\n",
       "    .dataframe tbody tr th:only-of-type {\n",
       "        vertical-align: middle;\n",
       "    }\n",
       "\n",
       "    .dataframe tbody tr th {\n",
       "        vertical-align: top;\n",
       "    }\n",
       "\n",
       "    .dataframe thead tr th {\n",
       "        text-align: left;\n",
       "    }\n",
       "\n",
       "    .dataframe thead tr:last-of-type th {\n",
       "        text-align: right;\n",
       "    }\n",
       "</style>\n",
       "<table border=\"1\" class=\"dataframe\">\n",
       "  <thead>\n",
       "    <tr>\n",
       "      <th></th>\n",
       "      <th colspan=\"8\" halign=\"left\">ventas</th>\n",
       "    </tr>\n",
       "    <tr>\n",
       "      <th></th>\n",
       "      <th>count</th>\n",
       "      <th>mean</th>\n",
       "      <th>std</th>\n",
       "      <th>min</th>\n",
       "      <th>25%</th>\n",
       "      <th>50%</th>\n",
       "      <th>75%</th>\n",
       "      <th>max</th>\n",
       "    </tr>\n",
       "    <tr>\n",
       "      <th>dias</th>\n",
       "      <th></th>\n",
       "      <th></th>\n",
       "      <th></th>\n",
       "      <th></th>\n",
       "      <th></th>\n",
       "      <th></th>\n",
       "      <th></th>\n",
       "      <th></th>\n",
       "    </tr>\n",
       "  </thead>\n",
       "  <tbody>\n",
       "    <tr>\n",
       "      <th>dia1</th>\n",
       "      <td>2.0</td>\n",
       "      <td>250.0</td>\n",
       "      <td>212.132034</td>\n",
       "      <td>100.0</td>\n",
       "      <td>175.0</td>\n",
       "      <td>250.0</td>\n",
       "      <td>325.0</td>\n",
       "      <td>400.0</td>\n",
       "    </tr>\n",
       "    <tr>\n",
       "      <th>dia2</th>\n",
       "      <td>2.0</td>\n",
       "      <td>350.0</td>\n",
       "      <td>212.132034</td>\n",
       "      <td>200.0</td>\n",
       "      <td>275.0</td>\n",
       "      <td>350.0</td>\n",
       "      <td>425.0</td>\n",
       "      <td>500.0</td>\n",
       "    </tr>\n",
       "    <tr>\n",
       "      <th>dia3</th>\n",
       "      <td>1.0</td>\n",
       "      <td>300.0</td>\n",
       "      <td>NaN</td>\n",
       "      <td>300.0</td>\n",
       "      <td>300.0</td>\n",
       "      <td>300.0</td>\n",
       "      <td>300.0</td>\n",
       "      <td>300.0</td>\n",
       "    </tr>\n",
       "  </tbody>\n",
       "</table>\n",
       "</div>"
      ],
      "text/plain": [
       "     ventas                                                      \n",
       "      count   mean         std    min    25%    50%    75%    max\n",
       "dias                                                             \n",
       "dia1    2.0  250.0  212.132034  100.0  175.0  250.0  325.0  400.0\n",
       "dia2    2.0  350.0  212.132034  200.0  275.0  350.0  425.0  500.0\n",
       "dia3    1.0  300.0         NaN  300.0  300.0  300.0  300.0  300.0"
      ]
     },
     "execution_count": 434,
     "metadata": {},
     "output_type": "execute_result"
    }
   ],
   "source": [
    "dataframe.groupby('dias').describe()"
   ]
  },
  {
   "cell_type": "markdown",
   "id": "1bd069f5-4edb-408d-b96a-7614b82b8482",
   "metadata": {},
   "source": [
    "## Pandas - Combinar DataFrame"
   ]
  },
  {
   "cell_type": "code",
   "execution_count": 437,
   "id": "60c12c35-8504-4aa2-a8bf-317c5a52b4e7",
   "metadata": {},
   "outputs": [],
   "source": [
    "import  numpy as np\n",
    "import pandas as pd"
   ]
  },
  {
   "cell_type": "code",
   "execution_count": 439,
   "id": "b764ba74-7e99-4572-9f5c-233b75396cea",
   "metadata": {},
   "outputs": [],
   "source": [
    "diccionario = {'A':[1, 2, 3], 'B':[4, 5, 6], 'C':[7, 8, 9]}"
   ]
  },
  {
   "cell_type": "code",
   "execution_count": 441,
   "id": "5040d5ca-cde0-4fd8-9376-794e5433e8ed",
   "metadata": {},
   "outputs": [
    {
     "data": {
      "text/html": [
       "<div>\n",
       "<style scoped>\n",
       "    .dataframe tbody tr th:only-of-type {\n",
       "        vertical-align: middle;\n",
       "    }\n",
       "\n",
       "    .dataframe tbody tr th {\n",
       "        vertical-align: top;\n",
       "    }\n",
       "\n",
       "    .dataframe thead th {\n",
       "        text-align: right;\n",
       "    }\n",
       "</style>\n",
       "<table border=\"1\" class=\"dataframe\">\n",
       "  <thead>\n",
       "    <tr style=\"text-align: right;\">\n",
       "      <th></th>\n",
       "      <th>A</th>\n",
       "      <th>B</th>\n",
       "      <th>C</th>\n",
       "    </tr>\n",
       "  </thead>\n",
       "  <tbody>\n",
       "    <tr>\n",
       "      <th>0</th>\n",
       "      <td>1</td>\n",
       "      <td>4</td>\n",
       "      <td>7</td>\n",
       "    </tr>\n",
       "    <tr>\n",
       "      <th>1</th>\n",
       "      <td>2</td>\n",
       "      <td>5</td>\n",
       "      <td>8</td>\n",
       "    </tr>\n",
       "    <tr>\n",
       "      <th>2</th>\n",
       "      <td>3</td>\n",
       "      <td>6</td>\n",
       "      <td>9</td>\n",
       "    </tr>\n",
       "  </tbody>\n",
       "</table>\n",
       "</div>"
      ],
      "text/plain": [
       "   A  B  C\n",
       "0  1  4  7\n",
       "1  2  5  8\n",
       "2  3  6  9"
      ]
     },
     "execution_count": 441,
     "metadata": {},
     "output_type": "execute_result"
    }
   ],
   "source": [
    "dataframe1 = pd.DataFrame(diccionario)\n",
    "dataframe1"
   ]
  },
  {
   "cell_type": "code",
   "execution_count": 443,
   "id": "14619768-161e-4406-859f-3198e2abb095",
   "metadata": {},
   "outputs": [],
   "source": [
    "diccionario = {'A':[11, 12, 13], 'B':[14, 15, 16], 'C':[17, 18,19]}"
   ]
  },
  {
   "cell_type": "code",
   "execution_count": 445,
   "id": "b9e6fb7b-b862-40e6-8c42-8636558189f4",
   "metadata": {},
   "outputs": [
    {
     "data": {
      "text/html": [
       "<div>\n",
       "<style scoped>\n",
       "    .dataframe tbody tr th:only-of-type {\n",
       "        vertical-align: middle;\n",
       "    }\n",
       "\n",
       "    .dataframe tbody tr th {\n",
       "        vertical-align: top;\n",
       "    }\n",
       "\n",
       "    .dataframe thead th {\n",
       "        text-align: right;\n",
       "    }\n",
       "</style>\n",
       "<table border=\"1\" class=\"dataframe\">\n",
       "  <thead>\n",
       "    <tr style=\"text-align: right;\">\n",
       "      <th></th>\n",
       "      <th>C</th>\n",
       "      <th>D</th>\n",
       "    </tr>\n",
       "  </thead>\n",
       "  <tbody>\n",
       "    <tr>\n",
       "      <th>0</th>\n",
       "      <td>11</td>\n",
       "      <td>14</td>\n",
       "    </tr>\n",
       "    <tr>\n",
       "      <th>1</th>\n",
       "      <td>12</td>\n",
       "      <td>15</td>\n",
       "    </tr>\n",
       "    <tr>\n",
       "      <th>2</th>\n",
       "      <td>13</td>\n",
       "      <td>16</td>\n",
       "    </tr>\n",
       "  </tbody>\n",
       "</table>\n",
       "</div>"
      ],
      "text/plain": [
       "    C   D\n",
       "0  11  14\n",
       "1  12  15\n",
       "2  13  16"
      ]
     },
     "execution_count": 445,
     "metadata": {},
     "output_type": "execute_result"
    }
   ],
   "source": [
    "dataframe2 = pd.DataFrame(diccionario2)\n",
    "dataframe2"
   ]
  },
  {
   "cell_type": "code",
   "execution_count": 447,
   "id": "aa80c634-386c-4196-ae6d-b0c5d54bd847",
   "metadata": {},
   "outputs": [
    {
     "data": {
      "text/html": [
       "<div>\n",
       "<style scoped>\n",
       "    .dataframe tbody tr th:only-of-type {\n",
       "        vertical-align: middle;\n",
       "    }\n",
       "\n",
       "    .dataframe tbody tr th {\n",
       "        vertical-align: top;\n",
       "    }\n",
       "\n",
       "    .dataframe thead th {\n",
       "        text-align: right;\n",
       "    }\n",
       "</style>\n",
       "<table border=\"1\" class=\"dataframe\">\n",
       "  <thead>\n",
       "    <tr style=\"text-align: right;\">\n",
       "      <th></th>\n",
       "      <th>A</th>\n",
       "      <th>B</th>\n",
       "      <th>C</th>\n",
       "      <th>D</th>\n",
       "    </tr>\n",
       "  </thead>\n",
       "  <tbody>\n",
       "    <tr>\n",
       "      <th>0</th>\n",
       "      <td>1.0</td>\n",
       "      <td>4.0</td>\n",
       "      <td>7</td>\n",
       "      <td>NaN</td>\n",
       "    </tr>\n",
       "    <tr>\n",
       "      <th>1</th>\n",
       "      <td>2.0</td>\n",
       "      <td>5.0</td>\n",
       "      <td>8</td>\n",
       "      <td>NaN</td>\n",
       "    </tr>\n",
       "    <tr>\n",
       "      <th>2</th>\n",
       "      <td>3.0</td>\n",
       "      <td>6.0</td>\n",
       "      <td>9</td>\n",
       "      <td>NaN</td>\n",
       "    </tr>\n",
       "    <tr>\n",
       "      <th>0</th>\n",
       "      <td>NaN</td>\n",
       "      <td>NaN</td>\n",
       "      <td>11</td>\n",
       "      <td>14.0</td>\n",
       "    </tr>\n",
       "    <tr>\n",
       "      <th>1</th>\n",
       "      <td>NaN</td>\n",
       "      <td>NaN</td>\n",
       "      <td>12</td>\n",
       "      <td>15.0</td>\n",
       "    </tr>\n",
       "    <tr>\n",
       "      <th>2</th>\n",
       "      <td>NaN</td>\n",
       "      <td>NaN</td>\n",
       "      <td>13</td>\n",
       "      <td>16.0</td>\n",
       "    </tr>\n",
       "  </tbody>\n",
       "</table>\n",
       "</div>"
      ],
      "text/plain": [
       "     A    B   C     D\n",
       "0  1.0  4.0   7   NaN\n",
       "1  2.0  5.0   8   NaN\n",
       "2  3.0  6.0   9   NaN\n",
       "0  NaN  NaN  11  14.0\n",
       "1  NaN  NaN  12  15.0\n",
       "2  NaN  NaN  13  16.0"
      ]
     },
     "execution_count": 447,
     "metadata": {},
     "output_type": "execute_result"
    }
   ],
   "source": [
    "pd.concat([dataframe1, dataframe2])"
   ]
  },
  {
   "cell_type": "code",
   "execution_count": 449,
   "id": "90b006f5-8b89-4ae8-8018-7f6b5d650439",
   "metadata": {},
   "outputs": [
    {
     "data": {
      "text/html": [
       "<div>\n",
       "<style scoped>\n",
       "    .dataframe tbody tr th:only-of-type {\n",
       "        vertical-align: middle;\n",
       "    }\n",
       "\n",
       "    .dataframe tbody tr th {\n",
       "        vertical-align: top;\n",
       "    }\n",
       "\n",
       "    .dataframe thead th {\n",
       "        text-align: right;\n",
       "    }\n",
       "</style>\n",
       "<table border=\"1\" class=\"dataframe\">\n",
       "  <thead>\n",
       "    <tr style=\"text-align: right;\">\n",
       "      <th></th>\n",
       "      <th>A</th>\n",
       "      <th>B</th>\n",
       "      <th>C</th>\n",
       "      <th>C</th>\n",
       "      <th>D</th>\n",
       "    </tr>\n",
       "  </thead>\n",
       "  <tbody>\n",
       "    <tr>\n",
       "      <th>0</th>\n",
       "      <td>1</td>\n",
       "      <td>4</td>\n",
       "      <td>7</td>\n",
       "      <td>11</td>\n",
       "      <td>14</td>\n",
       "    </tr>\n",
       "    <tr>\n",
       "      <th>1</th>\n",
       "      <td>2</td>\n",
       "      <td>5</td>\n",
       "      <td>8</td>\n",
       "      <td>12</td>\n",
       "      <td>15</td>\n",
       "    </tr>\n",
       "    <tr>\n",
       "      <th>2</th>\n",
       "      <td>3</td>\n",
       "      <td>6</td>\n",
       "      <td>9</td>\n",
       "      <td>13</td>\n",
       "      <td>16</td>\n",
       "    </tr>\n",
       "  </tbody>\n",
       "</table>\n",
       "</div>"
      ],
      "text/plain": [
       "   A  B  C   C   D\n",
       "0  1  4  7  11  14\n",
       "1  2  5  8  12  15\n",
       "2  3  6  9  13  16"
      ]
     },
     "execution_count": 449,
     "metadata": {},
     "output_type": "execute_result"
    }
   ],
   "source": [
    "pd.concat([dataframe1, dataframe2],axis=1)"
   ]
  },
  {
   "cell_type": "markdown",
   "id": "c96b39b6-db06-48b8-a7a7-c506e21add6b",
   "metadata": {},
   "source": [
    "## Pandas - Merge Dataframe"
   ]
  },
  {
   "cell_type": "code",
   "execution_count": 452,
   "id": "ad4076d8-fd8b-4d42-8a35-6cc81ab40cfe",
   "metadata": {},
   "outputs": [],
   "source": [
    "diccionario = {'A':[1, 2, 3], 'B':[4, 5, 6], 'clave':['c1', 'c2','c3']}\n",
    "dataframe1 = pd.DataFrame(diccionario)"
   ]
  },
  {
   "cell_type": "code",
   "execution_count": 454,
   "id": "48248eca-5ce4-4ac5-8cd0-79dbc3471596",
   "metadata": {},
   "outputs": [
    {
     "data": {
      "text/html": [
       "<div>\n",
       "<style scoped>\n",
       "    .dataframe tbody tr th:only-of-type {\n",
       "        vertical-align: middle;\n",
       "    }\n",
       "\n",
       "    .dataframe tbody tr th {\n",
       "        vertical-align: top;\n",
       "    }\n",
       "\n",
       "    .dataframe thead th {\n",
       "        text-align: right;\n",
       "    }\n",
       "</style>\n",
       "<table border=\"1\" class=\"dataframe\">\n",
       "  <thead>\n",
       "    <tr style=\"text-align: right;\">\n",
       "      <th></th>\n",
       "      <th>A</th>\n",
       "      <th>B</th>\n",
       "      <th>clave</th>\n",
       "    </tr>\n",
       "  </thead>\n",
       "  <tbody>\n",
       "    <tr>\n",
       "      <th>0</th>\n",
       "      <td>1</td>\n",
       "      <td>4</td>\n",
       "      <td>c1</td>\n",
       "    </tr>\n",
       "    <tr>\n",
       "      <th>1</th>\n",
       "      <td>2</td>\n",
       "      <td>5</td>\n",
       "      <td>c2</td>\n",
       "    </tr>\n",
       "    <tr>\n",
       "      <th>2</th>\n",
       "      <td>3</td>\n",
       "      <td>6</td>\n",
       "      <td>c3</td>\n",
       "    </tr>\n",
       "  </tbody>\n",
       "</table>\n",
       "</div>"
      ],
      "text/plain": [
       "   A  B clave\n",
       "0  1  4    c1\n",
       "1  2  5    c2\n",
       "2  3  6    c3"
      ]
     },
     "execution_count": 454,
     "metadata": {},
     "output_type": "execute_result"
    }
   ],
   "source": [
    "dataframe1"
   ]
  },
  {
   "cell_type": "code",
   "execution_count": 456,
   "id": "2a2c7876-638b-4027-97ba-57e585a45f7a",
   "metadata": {},
   "outputs": [
    {
     "data": {
      "text/html": [
       "<div>\n",
       "<style scoped>\n",
       "    .dataframe tbody tr th:only-of-type {\n",
       "        vertical-align: middle;\n",
       "    }\n",
       "\n",
       "    .dataframe tbody tr th {\n",
       "        vertical-align: top;\n",
       "    }\n",
       "\n",
       "    .dataframe thead th {\n",
       "        text-align: right;\n",
       "    }\n",
       "</style>\n",
       "<table border=\"1\" class=\"dataframe\">\n",
       "  <thead>\n",
       "    <tr style=\"text-align: right;\">\n",
       "      <th></th>\n",
       "      <th>A</th>\n",
       "      <th>B</th>\n",
       "      <th>clave</th>\n",
       "    </tr>\n",
       "  </thead>\n",
       "  <tbody>\n",
       "    <tr>\n",
       "      <th>0</th>\n",
       "      <td>11</td>\n",
       "      <td>14</td>\n",
       "      <td>c1</td>\n",
       "    </tr>\n",
       "    <tr>\n",
       "      <th>1</th>\n",
       "      <td>12</td>\n",
       "      <td>15</td>\n",
       "      <td>c2</td>\n",
       "    </tr>\n",
       "    <tr>\n",
       "      <th>2</th>\n",
       "      <td>13</td>\n",
       "      <td>16</td>\n",
       "      <td>c3</td>\n",
       "    </tr>\n",
       "  </tbody>\n",
       "</table>\n",
       "</div>"
      ],
      "text/plain": [
       "    A   B clave\n",
       "0  11  14    c1\n",
       "1  12  15    c2\n",
       "2  13  16    c3"
      ]
     },
     "execution_count": 456,
     "metadata": {},
     "output_type": "execute_result"
    }
   ],
   "source": [
    "diccionario = {'A':[11, 12, 13], 'B':[14, 15, 16], 'clave':['c1', 'c2','c3']}\n",
    "dataframe2 = pd.DataFrame(diccionario)\n",
    "dataframe2"
   ]
  },
  {
   "cell_type": "code",
   "execution_count": 458,
   "id": "1e520db8-e0a2-4b85-af52-653e4df409c2",
   "metadata": {},
   "outputs": [
    {
     "data": {
      "text/html": [
       "<div>\n",
       "<style scoped>\n",
       "    .dataframe tbody tr th:only-of-type {\n",
       "        vertical-align: middle;\n",
       "    }\n",
       "\n",
       "    .dataframe tbody tr th {\n",
       "        vertical-align: top;\n",
       "    }\n",
       "\n",
       "    .dataframe thead th {\n",
       "        text-align: right;\n",
       "    }\n",
       "</style>\n",
       "<table border=\"1\" class=\"dataframe\">\n",
       "  <thead>\n",
       "    <tr style=\"text-align: right;\">\n",
       "      <th></th>\n",
       "      <th>A_x</th>\n",
       "      <th>B_x</th>\n",
       "      <th>clave</th>\n",
       "      <th>A_y</th>\n",
       "      <th>B_y</th>\n",
       "    </tr>\n",
       "  </thead>\n",
       "  <tbody>\n",
       "    <tr>\n",
       "      <th>0</th>\n",
       "      <td>1</td>\n",
       "      <td>4</td>\n",
       "      <td>c1</td>\n",
       "      <td>11</td>\n",
       "      <td>14</td>\n",
       "    </tr>\n",
       "    <tr>\n",
       "      <th>1</th>\n",
       "      <td>2</td>\n",
       "      <td>5</td>\n",
       "      <td>c2</td>\n",
       "      <td>12</td>\n",
       "      <td>15</td>\n",
       "    </tr>\n",
       "    <tr>\n",
       "      <th>2</th>\n",
       "      <td>3</td>\n",
       "      <td>6</td>\n",
       "      <td>c3</td>\n",
       "      <td>13</td>\n",
       "      <td>16</td>\n",
       "    </tr>\n",
       "  </tbody>\n",
       "</table>\n",
       "</div>"
      ],
      "text/plain": [
       "   A_x  B_x clave  A_y  B_y\n",
       "0    1    4    c1   11   14\n",
       "1    2    5    c2   12   15\n",
       "2    3    6    c3   13   16"
      ]
     },
     "execution_count": 458,
     "metadata": {},
     "output_type": "execute_result"
    }
   ],
   "source": [
    "pd.merge(dataframe1, dataframe2, on='clave')"
   ]
  },
  {
   "cell_type": "markdown",
   "id": "f9236a34-5a59-4de6-bf5a-154884610857",
   "metadata": {},
   "source": [
    "## Pandas - Join DataFrame"
   ]
  },
  {
   "cell_type": "code",
   "execution_count": 461,
   "id": "8f3ad2d6-d2d5-4524-a619-a1178ce95e68",
   "metadata": {},
   "outputs": [],
   "source": [
    "import numpy as np\n",
    "import pandas as pd"
   ]
  },
  {
   "cell_type": "code",
   "execution_count": 463,
   "id": "f38d7f7a-66b0-44c1-bc19-1333c66230cb",
   "metadata": {},
   "outputs": [
    {
     "data": {
      "text/html": [
       "<div>\n",
       "<style scoped>\n",
       "    .dataframe tbody tr th:only-of-type {\n",
       "        vertical-align: middle;\n",
       "    }\n",
       "\n",
       "    .dataframe tbody tr th {\n",
       "        vertical-align: top;\n",
       "    }\n",
       "\n",
       "    .dataframe thead th {\n",
       "        text-align: right;\n",
       "    }\n",
       "</style>\n",
       "<table border=\"1\" class=\"dataframe\">\n",
       "  <thead>\n",
       "    <tr style=\"text-align: right;\">\n",
       "      <th></th>\n",
       "      <th>A</th>\n",
       "      <th>B</th>\n",
       "    </tr>\n",
       "  </thead>\n",
       "  <tbody>\n",
       "    <tr>\n",
       "      <th>0</th>\n",
       "      <td>1</td>\n",
       "      <td>4</td>\n",
       "    </tr>\n",
       "    <tr>\n",
       "      <th>1</th>\n",
       "      <td>2</td>\n",
       "      <td>5</td>\n",
       "    </tr>\n",
       "    <tr>\n",
       "      <th>2</th>\n",
       "      <td>3</td>\n",
       "      <td>6</td>\n",
       "    </tr>\n",
       "  </tbody>\n",
       "</table>\n",
       "</div>"
      ],
      "text/plain": [
       "   A  B\n",
       "0  1  4\n",
       "1  2  5\n",
       "2  3  6"
      ]
     },
     "execution_count": 463,
     "metadata": {},
     "output_type": "execute_result"
    }
   ],
   "source": [
    "diccionario = {'A':[1, 2, 3], 'B':[4, 5, 6]}\n",
    "dataframe1 = pd.DataFrame(diccionario)\n",
    "dataframe1"
   ]
  },
  {
   "cell_type": "code",
   "execution_count": 465,
   "id": "714b6a01-d563-43b7-9b48-ef2fa0d193ee",
   "metadata": {},
   "outputs": [
    {
     "data": {
      "text/html": [
       "<div>\n",
       "<style scoped>\n",
       "    .dataframe tbody tr th:only-of-type {\n",
       "        vertical-align: middle;\n",
       "    }\n",
       "\n",
       "    .dataframe tbody tr th {\n",
       "        vertical-align: top;\n",
       "    }\n",
       "\n",
       "    .dataframe thead th {\n",
       "        text-align: right;\n",
       "    }\n",
       "</style>\n",
       "<table border=\"1\" class=\"dataframe\">\n",
       "  <thead>\n",
       "    <tr style=\"text-align: right;\">\n",
       "      <th></th>\n",
       "      <th>A</th>\n",
       "      <th>B</th>\n",
       "    </tr>\n",
       "  </thead>\n",
       "  <tbody>\n",
       "    <tr>\n",
       "      <th>i1</th>\n",
       "      <td>1</td>\n",
       "      <td>4</td>\n",
       "    </tr>\n",
       "    <tr>\n",
       "      <th>i2</th>\n",
       "      <td>2</td>\n",
       "      <td>5</td>\n",
       "    </tr>\n",
       "    <tr>\n",
       "      <th>i3</th>\n",
       "      <td>3</td>\n",
       "      <td>6</td>\n",
       "    </tr>\n",
       "    <tr>\n",
       "      <th>i4</th>\n",
       "      <td>4</td>\n",
       "      <td>7</td>\n",
       "    </tr>\n",
       "  </tbody>\n",
       "</table>\n",
       "</div>"
      ],
      "text/plain": [
       "    A  B\n",
       "i1  1  4\n",
       "i2  2  5\n",
       "i3  3  6\n",
       "i4  4  7"
      ]
     },
     "execution_count": 465,
     "metadata": {},
     "output_type": "execute_result"
    }
   ],
   "source": [
    "diccionario1 = {'A':[1, 2, 3, 4], 'B':[4, 5, 6, 7]}\n",
    "dataframe1 = pd.DataFrame(diccionario1, index=['i1', 'i2','i3', 'i4'])\n",
    "dataframe1"
   ]
  },
  {
   "cell_type": "code",
   "execution_count": 467,
   "id": "6d4a8f29-b5c1-4c0b-9563-2bc3c159cab5",
   "metadata": {},
   "outputs": [
    {
     "data": {
      "text/html": [
       "<div>\n",
       "<style scoped>\n",
       "    .dataframe tbody tr th:only-of-type {\n",
       "        vertical-align: middle;\n",
       "    }\n",
       "\n",
       "    .dataframe tbody tr th {\n",
       "        vertical-align: top;\n",
       "    }\n",
       "\n",
       "    .dataframe thead th {\n",
       "        text-align: right;\n",
       "    }\n",
       "</style>\n",
       "<table border=\"1\" class=\"dataframe\">\n",
       "  <thead>\n",
       "    <tr style=\"text-align: right;\">\n",
       "      <th></th>\n",
       "      <th>C</th>\n",
       "      <th>D</th>\n",
       "    </tr>\n",
       "  </thead>\n",
       "  <tbody>\n",
       "    <tr>\n",
       "      <th>i1</th>\n",
       "      <td>11</td>\n",
       "      <td>14</td>\n",
       "    </tr>\n",
       "    <tr>\n",
       "      <th>i2</th>\n",
       "      <td>12</td>\n",
       "      <td>15</td>\n",
       "    </tr>\n",
       "    <tr>\n",
       "      <th>i3</th>\n",
       "      <td>13</td>\n",
       "      <td>16</td>\n",
       "    </tr>\n",
       "  </tbody>\n",
       "</table>\n",
       "</div>"
      ],
      "text/plain": [
       "     C   D\n",
       "i1  11  14\n",
       "i2  12  15\n",
       "i3  13  16"
      ]
     },
     "execution_count": 467,
     "metadata": {},
     "output_type": "execute_result"
    }
   ],
   "source": [
    "diccionario2 = {'C':[11, 12, 13], 'D':[14, 15, 16]}\n",
    "dataframe2 = pd.DataFrame(diccionario2, index=['i1', 'i2','i3'])\n",
    "dataframe2"
   ]
  },
  {
   "cell_type": "code",
   "execution_count": 469,
   "id": "f71bc876-55c5-4c4a-a098-d23b7e7cc1f1",
   "metadata": {},
   "outputs": [
    {
     "data": {
      "text/html": [
       "<div>\n",
       "<style scoped>\n",
       "    .dataframe tbody tr th:only-of-type {\n",
       "        vertical-align: middle;\n",
       "    }\n",
       "\n",
       "    .dataframe tbody tr th {\n",
       "        vertical-align: top;\n",
       "    }\n",
       "\n",
       "    .dataframe thead th {\n",
       "        text-align: right;\n",
       "    }\n",
       "</style>\n",
       "<table border=\"1\" class=\"dataframe\">\n",
       "  <thead>\n",
       "    <tr style=\"text-align: right;\">\n",
       "      <th></th>\n",
       "      <th>A</th>\n",
       "      <th>B</th>\n",
       "      <th>C</th>\n",
       "      <th>D</th>\n",
       "    </tr>\n",
       "  </thead>\n",
       "  <tbody>\n",
       "    <tr>\n",
       "      <th>i1</th>\n",
       "      <td>1</td>\n",
       "      <td>4</td>\n",
       "      <td>11.0</td>\n",
       "      <td>14.0</td>\n",
       "    </tr>\n",
       "    <tr>\n",
       "      <th>i2</th>\n",
       "      <td>2</td>\n",
       "      <td>5</td>\n",
       "      <td>12.0</td>\n",
       "      <td>15.0</td>\n",
       "    </tr>\n",
       "    <tr>\n",
       "      <th>i3</th>\n",
       "      <td>3</td>\n",
       "      <td>6</td>\n",
       "      <td>13.0</td>\n",
       "      <td>16.0</td>\n",
       "    </tr>\n",
       "    <tr>\n",
       "      <th>i4</th>\n",
       "      <td>4</td>\n",
       "      <td>7</td>\n",
       "      <td>NaN</td>\n",
       "      <td>NaN</td>\n",
       "    </tr>\n",
       "  </tbody>\n",
       "</table>\n",
       "</div>"
      ],
      "text/plain": [
       "    A  B     C     D\n",
       "i1  1  4  11.0  14.0\n",
       "i2  2  5  12.0  15.0\n",
       "i3  3  6  13.0  16.0\n",
       "i4  4  7   NaN   NaN"
      ]
     },
     "execution_count": 469,
     "metadata": {},
     "output_type": "execute_result"
    }
   ],
   "source": [
    "dataframe1.join(dataframe2)"
   ]
  },
  {
   "cell_type": "markdown",
   "id": "db5fda58-2743-488d-bb5b-7dd4115e7db0",
   "metadata": {},
   "source": [
    "## Pandas - Operaciones"
   ]
  },
  {
   "cell_type": "code",
   "execution_count": 472,
   "id": "41e50d97-2e39-4f98-9fe2-d88ef9905de6",
   "metadata": {},
   "outputs": [
    {
     "data": {
      "text/html": [
       "<div>\n",
       "<style scoped>\n",
       "    .dataframe tbody tr th:only-of-type {\n",
       "        vertical-align: middle;\n",
       "    }\n",
       "\n",
       "    .dataframe tbody tr th {\n",
       "        vertical-align: top;\n",
       "    }\n",
       "\n",
       "    .dataframe thead th {\n",
       "        text-align: right;\n",
       "    }\n",
       "</style>\n",
       "<table border=\"1\" class=\"dataframe\">\n",
       "  <thead>\n",
       "    <tr style=\"text-align: right;\">\n",
       "      <th></th>\n",
       "      <th>A</th>\n",
       "      <th>B</th>\n",
       "    </tr>\n",
       "  </thead>\n",
       "  <tbody>\n",
       "    <tr>\n",
       "      <th>i1</th>\n",
       "      <td>11</td>\n",
       "      <td>14</td>\n",
       "    </tr>\n",
       "    <tr>\n",
       "      <th>i2</th>\n",
       "      <td>12</td>\n",
       "      <td>18</td>\n",
       "    </tr>\n",
       "    <tr>\n",
       "      <th>i3</th>\n",
       "      <td>10</td>\n",
       "      <td>16</td>\n",
       "    </tr>\n",
       "    <tr>\n",
       "      <th>I4</th>\n",
       "      <td>12</td>\n",
       "      <td>17</td>\n",
       "    </tr>\n",
       "  </tbody>\n",
       "</table>\n",
       "</div>"
      ],
      "text/plain": [
       "     A   B\n",
       "i1  11  14\n",
       "i2  12  18\n",
       "i3  10  16\n",
       "I4  12  17"
      ]
     },
     "execution_count": 472,
     "metadata": {},
     "output_type": "execute_result"
    }
   ],
   "source": [
    "diccionario = {'A':[11, 12, 10, 12], 'B':[14, 18, 16, 17]}\n",
    "dataframe = pd.DataFrame(diccionario, index=['i1', 'i2','i3', 'I4'])\n",
    "dataframe"
   ]
  },
  {
   "cell_type": "code",
   "execution_count": 474,
   "id": "e5027bb2-3c51-48d1-94ae-79dfda9d5382",
   "metadata": {},
   "outputs": [
    {
     "data": {
      "text/plain": [
       "array([11, 12, 10], dtype=int64)"
      ]
     },
     "execution_count": 474,
     "metadata": {},
     "output_type": "execute_result"
    }
   ],
   "source": [
    "dataframe['A'].unique()"
   ]
  },
  {
   "cell_type": "code",
   "execution_count": 476,
   "id": "deccdf40-8fc0-4286-b3d6-5bda1303ab6c",
   "metadata": {},
   "outputs": [
    {
     "data": {
      "text/plain": [
       "3"
      ]
     },
     "execution_count": 476,
     "metadata": {},
     "output_type": "execute_result"
    }
   ],
   "source": [
    "dataframe['A'].nunique()"
   ]
  },
  {
   "cell_type": "code",
   "execution_count": 478,
   "id": "cad92c48-f583-42e2-85e2-055d47ad2161",
   "metadata": {},
   "outputs": [
    {
     "data": {
      "text/plain": [
       "12    2\n",
       "11    1\n",
       "10    1\n",
       "Name: A, dtype: int64"
      ]
     },
     "execution_count": 478,
     "metadata": {},
     "output_type": "execute_result"
    }
   ],
   "source": [
    "dataframe['A'].value_counts()"
   ]
  },
  {
   "cell_type": "code",
   "execution_count": 480,
   "id": "562c4d76-cd10-4c5d-949d-43a4960d2e12",
   "metadata": {},
   "outputs": [],
   "source": [
    "def multiplicar(x):\n",
    "    return x*2"
   ]
  },
  {
   "cell_type": "code",
   "execution_count": 482,
   "id": "1b988fb6-7a71-4c9a-aef8-932d0cca3569",
   "metadata": {},
   "outputs": [
    {
     "data": {
      "text/html": [
       "<div>\n",
       "<style scoped>\n",
       "    .dataframe tbody tr th:only-of-type {\n",
       "        vertical-align: middle;\n",
       "    }\n",
       "\n",
       "    .dataframe tbody tr th {\n",
       "        vertical-align: top;\n",
       "    }\n",
       "\n",
       "    .dataframe thead th {\n",
       "        text-align: right;\n",
       "    }\n",
       "</style>\n",
       "<table border=\"1\" class=\"dataframe\">\n",
       "  <thead>\n",
       "    <tr style=\"text-align: right;\">\n",
       "      <th></th>\n",
       "      <th>A</th>\n",
       "      <th>B</th>\n",
       "    </tr>\n",
       "  </thead>\n",
       "  <tbody>\n",
       "    <tr>\n",
       "      <th>i1</th>\n",
       "      <td>11</td>\n",
       "      <td>14</td>\n",
       "    </tr>\n",
       "    <tr>\n",
       "      <th>i2</th>\n",
       "      <td>12</td>\n",
       "      <td>18</td>\n",
       "    </tr>\n",
       "    <tr>\n",
       "      <th>i3</th>\n",
       "      <td>10</td>\n",
       "      <td>16</td>\n",
       "    </tr>\n",
       "    <tr>\n",
       "      <th>I4</th>\n",
       "      <td>12</td>\n",
       "      <td>17</td>\n",
       "    </tr>\n",
       "  </tbody>\n",
       "</table>\n",
       "</div>"
      ],
      "text/plain": [
       "     A   B\n",
       "i1  11  14\n",
       "i2  12  18\n",
       "i3  10  16\n",
       "I4  12  17"
      ]
     },
     "execution_count": 482,
     "metadata": {},
     "output_type": "execute_result"
    }
   ],
   "source": [
    "dataframe"
   ]
  },
  {
   "cell_type": "code",
   "execution_count": 484,
   "id": "9a2d118a-063e-4a8e-ad15-0ed04b326244",
   "metadata": {},
   "outputs": [
    {
     "data": {
      "text/plain": [
       "i1    22\n",
       "i2    24\n",
       "i3    20\n",
       "I4    24\n",
       "Name: A, dtype: int64"
      ]
     },
     "execution_count": 484,
     "metadata": {},
     "output_type": "execute_result"
    }
   ],
   "source": [
    "dataframe['A'].apply(multiplicar)"
   ]
  },
  {
   "cell_type": "code",
   "execution_count": 486,
   "id": "8842bb1b-0cc7-42d6-8559-b15cccba21ce",
   "metadata": {},
   "outputs": [
    {
     "data": {
      "text/plain": [
       "i1    22\n",
       "i2    24\n",
       "i3    20\n",
       "I4    24\n",
       "Name: A, dtype: int64"
      ]
     },
     "execution_count": 486,
     "metadata": {},
     "output_type": "execute_result"
    }
   ],
   "source": [
    "dataframe['A'].apply(lambda x: x*2)"
   ]
  },
  {
   "cell_type": "code",
   "execution_count": 488,
   "id": "c1cd3425-acd4-493f-bd11-a969f1fa44f7",
   "metadata": {},
   "outputs": [
    {
     "data": {
      "text/html": [
       "<div>\n",
       "<style scoped>\n",
       "    .dataframe tbody tr th:only-of-type {\n",
       "        vertical-align: middle;\n",
       "    }\n",
       "\n",
       "    .dataframe tbody tr th {\n",
       "        vertical-align: top;\n",
       "    }\n",
       "\n",
       "    .dataframe thead th {\n",
       "        text-align: right;\n",
       "    }\n",
       "</style>\n",
       "<table border=\"1\" class=\"dataframe\">\n",
       "  <thead>\n",
       "    <tr style=\"text-align: right;\">\n",
       "      <th></th>\n",
       "      <th>A</th>\n",
       "      <th>B</th>\n",
       "    </tr>\n",
       "  </thead>\n",
       "  <tbody>\n",
       "    <tr>\n",
       "      <th>i1</th>\n",
       "      <td>11</td>\n",
       "      <td>14</td>\n",
       "    </tr>\n",
       "    <tr>\n",
       "      <th>i2</th>\n",
       "      <td>12</td>\n",
       "      <td>18</td>\n",
       "    </tr>\n",
       "    <tr>\n",
       "      <th>i3</th>\n",
       "      <td>10</td>\n",
       "      <td>16</td>\n",
       "    </tr>\n",
       "    <tr>\n",
       "      <th>I4</th>\n",
       "      <td>12</td>\n",
       "      <td>17</td>\n",
       "    </tr>\n",
       "  </tbody>\n",
       "</table>\n",
       "</div>"
      ],
      "text/plain": [
       "     A   B\n",
       "i1  11  14\n",
       "i2  12  18\n",
       "i3  10  16\n",
       "I4  12  17"
      ]
     },
     "execution_count": 488,
     "metadata": {},
     "output_type": "execute_result"
    }
   ],
   "source": [
    "dataframe"
   ]
  },
  {
   "cell_type": "code",
   "execution_count": 490,
   "id": "0f9abd62-bee9-4b56-9c74-4e64a745ec96",
   "metadata": {},
   "outputs": [
    {
     "data": {
      "text/html": [
       "<div>\n",
       "<style scoped>\n",
       "    .dataframe tbody tr th:only-of-type {\n",
       "        vertical-align: middle;\n",
       "    }\n",
       "\n",
       "    .dataframe tbody tr th {\n",
       "        vertical-align: top;\n",
       "    }\n",
       "\n",
       "    .dataframe thead th {\n",
       "        text-align: right;\n",
       "    }\n",
       "</style>\n",
       "<table border=\"1\" class=\"dataframe\">\n",
       "  <thead>\n",
       "    <tr style=\"text-align: right;\">\n",
       "      <th></th>\n",
       "      <th>A</th>\n",
       "    </tr>\n",
       "  </thead>\n",
       "  <tbody>\n",
       "    <tr>\n",
       "      <th>i1</th>\n",
       "      <td>11</td>\n",
       "    </tr>\n",
       "    <tr>\n",
       "      <th>i2</th>\n",
       "      <td>12</td>\n",
       "    </tr>\n",
       "    <tr>\n",
       "      <th>i3</th>\n",
       "      <td>10</td>\n",
       "    </tr>\n",
       "    <tr>\n",
       "      <th>I4</th>\n",
       "      <td>12</td>\n",
       "    </tr>\n",
       "  </tbody>\n",
       "</table>\n",
       "</div>"
      ],
      "text/plain": [
       "     A\n",
       "i1  11\n",
       "i2  12\n",
       "i3  10\n",
       "I4  12"
      ]
     },
     "execution_count": 490,
     "metadata": {},
     "output_type": "execute_result"
    }
   ],
   "source": [
    "dataframe.drop('B', axis=1)"
   ]
  },
  {
   "cell_type": "code",
   "execution_count": 492,
   "id": "6220358a-67d5-4f94-ac30-8a21a6a0f20b",
   "metadata": {},
   "outputs": [
    {
     "data": {
      "text/html": [
       "<div>\n",
       "<style scoped>\n",
       "    .dataframe tbody tr th:only-of-type {\n",
       "        vertical-align: middle;\n",
       "    }\n",
       "\n",
       "    .dataframe tbody tr th {\n",
       "        vertical-align: top;\n",
       "    }\n",
       "\n",
       "    .dataframe thead th {\n",
       "        text-align: right;\n",
       "    }\n",
       "</style>\n",
       "<table border=\"1\" class=\"dataframe\">\n",
       "  <thead>\n",
       "    <tr style=\"text-align: right;\">\n",
       "      <th></th>\n",
       "      <th>A</th>\n",
       "      <th>B</th>\n",
       "    </tr>\n",
       "  </thead>\n",
       "  <tbody>\n",
       "    <tr>\n",
       "      <th>i2</th>\n",
       "      <td>12</td>\n",
       "      <td>18</td>\n",
       "    </tr>\n",
       "    <tr>\n",
       "      <th>i3</th>\n",
       "      <td>10</td>\n",
       "      <td>16</td>\n",
       "    </tr>\n",
       "    <tr>\n",
       "      <th>I4</th>\n",
       "      <td>12</td>\n",
       "      <td>17</td>\n",
       "    </tr>\n",
       "  </tbody>\n",
       "</table>\n",
       "</div>"
      ],
      "text/plain": [
       "     A   B\n",
       "i2  12  18\n",
       "i3  10  16\n",
       "I4  12  17"
      ]
     },
     "execution_count": 492,
     "metadata": {},
     "output_type": "execute_result"
    }
   ],
   "source": [
    "dataframe.drop('i1')"
   ]
  },
  {
   "cell_type": "code",
   "execution_count": 494,
   "id": "6314b37e-7191-4a15-8056-8f3d4aefe85a",
   "metadata": {},
   "outputs": [
    {
     "data": {
      "text/html": [
       "<div>\n",
       "<style scoped>\n",
       "    .dataframe tbody tr th:only-of-type {\n",
       "        vertical-align: middle;\n",
       "    }\n",
       "\n",
       "    .dataframe tbody tr th {\n",
       "        vertical-align: top;\n",
       "    }\n",
       "\n",
       "    .dataframe thead th {\n",
       "        text-align: right;\n",
       "    }\n",
       "</style>\n",
       "<table border=\"1\" class=\"dataframe\">\n",
       "  <thead>\n",
       "    <tr style=\"text-align: right;\">\n",
       "      <th></th>\n",
       "      <th>A</th>\n",
       "      <th>B</th>\n",
       "    </tr>\n",
       "  </thead>\n",
       "  <tbody>\n",
       "    <tr>\n",
       "      <th>i1</th>\n",
       "      <td>11</td>\n",
       "      <td>14</td>\n",
       "    </tr>\n",
       "    <tr>\n",
       "      <th>i2</th>\n",
       "      <td>12</td>\n",
       "      <td>18</td>\n",
       "    </tr>\n",
       "    <tr>\n",
       "      <th>i3</th>\n",
       "      <td>10</td>\n",
       "      <td>16</td>\n",
       "    </tr>\n",
       "    <tr>\n",
       "      <th>I4</th>\n",
       "      <td>12</td>\n",
       "      <td>17</td>\n",
       "    </tr>\n",
       "  </tbody>\n",
       "</table>\n",
       "</div>"
      ],
      "text/plain": [
       "     A   B\n",
       "i1  11  14\n",
       "i2  12  18\n",
       "i3  10  16\n",
       "I4  12  17"
      ]
     },
     "execution_count": 494,
     "metadata": {},
     "output_type": "execute_result"
    }
   ],
   "source": [
    "dataframe"
   ]
  },
  {
   "cell_type": "code",
   "execution_count": 496,
   "id": "0e61af3e-4dd1-40ba-8449-bcc9808f0783",
   "metadata": {},
   "outputs": [
    {
     "data": {
      "text/plain": [
       "Index(['A', 'B'], dtype='object')"
      ]
     },
     "execution_count": 496,
     "metadata": {},
     "output_type": "execute_result"
    }
   ],
   "source": [
    "dataframe.columns"
   ]
  },
  {
   "cell_type": "code",
   "execution_count": 498,
   "id": "38fdb23a-a122-4648-8b6a-fe3169a077cc",
   "metadata": {},
   "outputs": [
    {
     "data": {
      "text/plain": [
       "Index(['i1', 'i2', 'i3', 'I4'], dtype='object')"
      ]
     },
     "execution_count": 498,
     "metadata": {},
     "output_type": "execute_result"
    }
   ],
   "source": [
    "dataframe.index"
   ]
  },
  {
   "cell_type": "code",
   "execution_count": 500,
   "id": "ad93bc2b-848a-4ec3-8d5e-dd735336bd6f",
   "metadata": {},
   "outputs": [
    {
     "data": {
      "text/html": [
       "<div>\n",
       "<style scoped>\n",
       "    .dataframe tbody tr th:only-of-type {\n",
       "        vertical-align: middle;\n",
       "    }\n",
       "\n",
       "    .dataframe tbody tr th {\n",
       "        vertical-align: top;\n",
       "    }\n",
       "\n",
       "    .dataframe thead th {\n",
       "        text-align: right;\n",
       "    }\n",
       "</style>\n",
       "<table border=\"1\" class=\"dataframe\">\n",
       "  <thead>\n",
       "    <tr style=\"text-align: right;\">\n",
       "      <th></th>\n",
       "      <th>A</th>\n",
       "      <th>B</th>\n",
       "    </tr>\n",
       "  </thead>\n",
       "  <tbody>\n",
       "    <tr>\n",
       "      <th>i1</th>\n",
       "      <td>11</td>\n",
       "      <td>14</td>\n",
       "    </tr>\n",
       "    <tr>\n",
       "      <th>i3</th>\n",
       "      <td>10</td>\n",
       "      <td>16</td>\n",
       "    </tr>\n",
       "    <tr>\n",
       "      <th>I4</th>\n",
       "      <td>12</td>\n",
       "      <td>17</td>\n",
       "    </tr>\n",
       "    <tr>\n",
       "      <th>i2</th>\n",
       "      <td>12</td>\n",
       "      <td>18</td>\n",
       "    </tr>\n",
       "  </tbody>\n",
       "</table>\n",
       "</div>"
      ],
      "text/plain": [
       "     A   B\n",
       "i1  11  14\n",
       "i3  10  16\n",
       "I4  12  17\n",
       "i2  12  18"
      ]
     },
     "execution_count": 500,
     "metadata": {},
     "output_type": "execute_result"
    }
   ],
   "source": [
    "dataframe.sort_values('B')"
   ]
  },
  {
   "cell_type": "markdown",
   "id": "c5dd4e7e-6857-4db5-9095-f7694d0ab03c",
   "metadata": {},
   "source": [
    "## Pandas - ficheros EXCEL"
   ]
  },
  {
   "cell_type": "code",
   "execution_count": 2,
   "id": "734653e0-25af-4845-9ce7-81d99ab3ef57",
   "metadata": {},
   "outputs": [],
   "source": [
    "import pandas as pd"
   ]
  },
  {
   "cell_type": "code",
   "execution_count": 4,
   "id": "5a4bb6a2-3029-4175-b0dc-64773d0d97df",
   "metadata": {},
   "outputs": [
    {
     "data": {
      "text/plain": [
       "'C:\\\\Users\\\\Zene'"
      ]
     },
     "execution_count": 4,
     "metadata": {},
     "output_type": "execute_result"
    }
   ],
   "source": [
    "pwd"
   ]
  },
  {
   "cell_type": "code",
   "execution_count": 3,
   "id": "8ac27cc4-80b3-497f-bb24-30b31e7ba1cf",
   "metadata": {
    "scrolled": true
   },
   "outputs": [
    {
     "name": "stdout",
     "output_type": "stream",
     "text": [
      "Defaulting to user installation because normal site-packages is not writeable\n",
      "Requirement already satisfied: openpyxl in c:\\programdata\\anaconda3\\lib\\site-packages (3.0.10)\n",
      "Requirement already satisfied: et_xmlfile in c:\\programdata\\anaconda3\\lib\\site-packages (from openpyxl) (1.1.0)\n",
      "Note: you may need to restart the kernel to use updated packages.\n"
     ]
    }
   ],
   "source": [
    "pip install openpyxl"
   ]
  },
  {
   "cell_type": "code",
   "execution_count": 16,
   "id": "75bd8994-d0fe-4198-8aed-9023ce2aecbc",
   "metadata": {},
   "outputs": [
    {
     "name": "stdout",
     "output_type": "stream",
     "text": [
      "El archivo no se encuentra en la ruta especificada: C:\\Users\\Zene\\Documents\\Ejemplos_excel.xlsx\n"
     ]
    }
   ],
   "source": [
    "import os\n",
    "import pandas as pd\n",
    "\n",
    "# Ruta del archivo\n",
    "file_path = r'C:\\Users\\Zene\\Documents\\Ejemplos_excel.xlsx'\n",
    "\n",
    "# Verificar si el archivo existe\n",
    "if os.path.exists(file_path):\n",
    "    # Intentar leer el archivo Excel\n",
    "    try:\n",
    "        dataframe = pd.read_excel(file_path)\n",
    "        print(\"El archivo ha sido leído correctamente:\")\n",
    "        print(dataframe)\n",
    "    except Exception as e:\n",
    "        print(f\"Error al leer el archivo Excel: {e}\")\n",
    "else:\n",
    "    print(f\"El archivo no se encuentra en la ruta especificada: {file_path}\")\n"
   ]
  },
  {
   "cell_type": "code",
   "execution_count": null,
   "id": "77db5920-9882-42bd-8f56-a4e3d22968c2",
   "metadata": {},
   "outputs": [],
   "source": [
    "import os\n",
    "\n",
    "directory = r'C:\\Users\\Zene\\Documents'\n",
    "files = os.listdir(directory)\n",
    "print(\"Archivos en el directorio:\", files)\n"
   ]
  },
  {
   "cell_type": "code",
   "execution_count": 43,
   "id": "782033b1-95b6-4b14-95fc-5060707fd2d8",
   "metadata": {},
   "outputs": [
    {
     "name": "stdout",
     "output_type": "stream",
     "text": [
      "   Unnamed: 0   a   b   c   d\n",
      "0           0   0   1   2   3\n",
      "1           1   4   5   6   7\n",
      "2           2   8   9  10  11\n",
      "3           3  12  13  14  15\n"
     ]
    }
   ],
   "source": [
    "import pandas as pd\n",
    "\n",
    "dataframe = pd.read_excel('C:\\\\Users\\\\Zene\\\\Documents\\\\Ejemplos\\\\Ejemplo_excel.xlsx')\n",
    "print(dataframe)\n"
   ]
  },
  {
   "cell_type": "code",
   "execution_count": 47,
   "id": "b7409edf-ccc9-412b-8167-b3739b6ae01a",
   "metadata": {},
   "outputs": [
    {
     "data": {
      "text/html": [
       "<div>\n",
       "<style scoped>\n",
       "    .dataframe tbody tr th:only-of-type {\n",
       "        vertical-align: middle;\n",
       "    }\n",
       "\n",
       "    .dataframe tbody tr th {\n",
       "        vertical-align: top;\n",
       "    }\n",
       "\n",
       "    .dataframe thead th {\n",
       "        text-align: right;\n",
       "    }\n",
       "</style>\n",
       "<table border=\"1\" class=\"dataframe\">\n",
       "  <thead>\n",
       "    <tr style=\"text-align: right;\">\n",
       "      <th></th>\n",
       "      <th>Unnamed: 0</th>\n",
       "      <th>a</th>\n",
       "      <th>b</th>\n",
       "      <th>c</th>\n",
       "      <th>d</th>\n",
       "    </tr>\n",
       "  </thead>\n",
       "  <tbody>\n",
       "    <tr>\n",
       "      <th>0</th>\n",
       "      <td>0</td>\n",
       "      <td>0</td>\n",
       "      <td>1</td>\n",
       "      <td>2</td>\n",
       "      <td>3</td>\n",
       "    </tr>\n",
       "    <tr>\n",
       "      <th>1</th>\n",
       "      <td>1</td>\n",
       "      <td>4</td>\n",
       "      <td>5</td>\n",
       "      <td>6</td>\n",
       "      <td>7</td>\n",
       "    </tr>\n",
       "    <tr>\n",
       "      <th>2</th>\n",
       "      <td>2</td>\n",
       "      <td>8</td>\n",
       "      <td>9</td>\n",
       "      <td>10</td>\n",
       "      <td>11</td>\n",
       "    </tr>\n",
       "    <tr>\n",
       "      <th>3</th>\n",
       "      <td>3</td>\n",
       "      <td>12</td>\n",
       "      <td>13</td>\n",
       "      <td>14</td>\n",
       "      <td>15</td>\n",
       "    </tr>\n",
       "  </tbody>\n",
       "</table>\n",
       "</div>"
      ],
      "text/plain": [
       "   Unnamed: 0   a   b   c   d\n",
       "0           0   0   1   2   3\n",
       "1           1   4   5   6   7\n",
       "2           2   8   9  10  11\n",
       "3           3  12  13  14  15"
      ]
     },
     "execution_count": 47,
     "metadata": {},
     "output_type": "execute_result"
    }
   ],
   "source": [
    "dataframe"
   ]
  },
  {
   "cell_type": "code",
   "execution_count": 49,
   "id": "4e693b16-5c92-4377-9b3a-94bca4016140",
   "metadata": {},
   "outputs": [],
   "source": [
    "dataframe['e'] = [20, 21, 22, 23]"
   ]
  },
  {
   "cell_type": "code",
   "execution_count": 51,
   "id": "cb171394-6a8e-4f36-bf31-7774da31d100",
   "metadata": {},
   "outputs": [
    {
     "data": {
      "text/html": [
       "<div>\n",
       "<style scoped>\n",
       "    .dataframe tbody tr th:only-of-type {\n",
       "        vertical-align: middle;\n",
       "    }\n",
       "\n",
       "    .dataframe tbody tr th {\n",
       "        vertical-align: top;\n",
       "    }\n",
       "\n",
       "    .dataframe thead th {\n",
       "        text-align: right;\n",
       "    }\n",
       "</style>\n",
       "<table border=\"1\" class=\"dataframe\">\n",
       "  <thead>\n",
       "    <tr style=\"text-align: right;\">\n",
       "      <th></th>\n",
       "      <th>Unnamed: 0</th>\n",
       "      <th>a</th>\n",
       "      <th>b</th>\n",
       "      <th>c</th>\n",
       "      <th>d</th>\n",
       "      <th>e</th>\n",
       "    </tr>\n",
       "  </thead>\n",
       "  <tbody>\n",
       "    <tr>\n",
       "      <th>0</th>\n",
       "      <td>0</td>\n",
       "      <td>0</td>\n",
       "      <td>1</td>\n",
       "      <td>2</td>\n",
       "      <td>3</td>\n",
       "      <td>20</td>\n",
       "    </tr>\n",
       "    <tr>\n",
       "      <th>1</th>\n",
       "      <td>1</td>\n",
       "      <td>4</td>\n",
       "      <td>5</td>\n",
       "      <td>6</td>\n",
       "      <td>7</td>\n",
       "      <td>21</td>\n",
       "    </tr>\n",
       "    <tr>\n",
       "      <th>2</th>\n",
       "      <td>2</td>\n",
       "      <td>8</td>\n",
       "      <td>9</td>\n",
       "      <td>10</td>\n",
       "      <td>11</td>\n",
       "      <td>22</td>\n",
       "    </tr>\n",
       "    <tr>\n",
       "      <th>3</th>\n",
       "      <td>3</td>\n",
       "      <td>12</td>\n",
       "      <td>13</td>\n",
       "      <td>14</td>\n",
       "      <td>15</td>\n",
       "      <td>23</td>\n",
       "    </tr>\n",
       "  </tbody>\n",
       "</table>\n",
       "</div>"
      ],
      "text/plain": [
       "   Unnamed: 0   a   b   c   d   e\n",
       "0           0   0   1   2   3  20\n",
       "1           1   4   5   6   7  21\n",
       "2           2   8   9  10  11  22\n",
       "3           3  12  13  14  15  23"
      ]
     },
     "execution_count": 51,
     "metadata": {},
     "output_type": "execute_result"
    }
   ],
   "source": [
    "dataframe"
   ]
  },
  {
   "cell_type": "code",
   "execution_count": 57,
   "id": "469d3eac-0022-49d4-a5df-8af5a4770e9d",
   "metadata": {},
   "outputs": [],
   "source": [
    "dataframe.to_excel('salida_excel.xlsx', sheet_name='Hoja1')"
   ]
  },
  {
   "cell_type": "code",
   "execution_count": 55,
   "id": "6f3210df-01e6-4898-89bb-5dfca0515b4f",
   "metadata": {
    "scrolled": true
   },
   "outputs": [
    {
     "data": {
      "text/html": [
       "<div>\n",
       "<style scoped>\n",
       "    .dataframe tbody tr th:only-of-type {\n",
       "        vertical-align: middle;\n",
       "    }\n",
       "\n",
       "    .dataframe tbody tr th {\n",
       "        vertical-align: top;\n",
       "    }\n",
       "\n",
       "    .dataframe thead th {\n",
       "        text-align: right;\n",
       "    }\n",
       "</style>\n",
       "<table border=\"1\" class=\"dataframe\">\n",
       "  <thead>\n",
       "    <tr style=\"text-align: right;\">\n",
       "      <th></th>\n",
       "      <th>Unnamed: 0</th>\n",
       "      <th>a</th>\n",
       "      <th>b</th>\n",
       "      <th>c</th>\n",
       "      <th>d</th>\n",
       "      <th>e</th>\n",
       "    </tr>\n",
       "  </thead>\n",
       "  <tbody>\n",
       "    <tr>\n",
       "      <th>0</th>\n",
       "      <td>0</td>\n",
       "      <td>0</td>\n",
       "      <td>1</td>\n",
       "      <td>2</td>\n",
       "      <td>3</td>\n",
       "      <td>20</td>\n",
       "    </tr>\n",
       "    <tr>\n",
       "      <th>1</th>\n",
       "      <td>1</td>\n",
       "      <td>4</td>\n",
       "      <td>5</td>\n",
       "      <td>6</td>\n",
       "      <td>7</td>\n",
       "      <td>21</td>\n",
       "    </tr>\n",
       "    <tr>\n",
       "      <th>2</th>\n",
       "      <td>2</td>\n",
       "      <td>8</td>\n",
       "      <td>9</td>\n",
       "      <td>10</td>\n",
       "      <td>11</td>\n",
       "      <td>22</td>\n",
       "    </tr>\n",
       "    <tr>\n",
       "      <th>3</th>\n",
       "      <td>3</td>\n",
       "      <td>12</td>\n",
       "      <td>13</td>\n",
       "      <td>14</td>\n",
       "      <td>15</td>\n",
       "      <td>23</td>\n",
       "    </tr>\n",
       "  </tbody>\n",
       "</table>\n",
       "</div>"
      ],
      "text/plain": [
       "   Unnamed: 0   a   b   c   d   e\n",
       "0           0   0   1   2   3  20\n",
       "1           1   4   5   6   7  21\n",
       "2           2   8   9  10  11  22\n",
       "3           3  12  13  14  15  23"
      ]
     },
     "execution_count": 55,
     "metadata": {},
     "output_type": "execute_result"
    }
   ],
   "source": [
    "dataframe"
   ]
  },
  {
   "cell_type": "code",
   "execution_count": 63,
   "id": "fbf914db-272c-4723-9071-62337cd834b7",
   "metadata": {},
   "outputs": [
    {
     "name": "stdout",
     "output_type": "stream",
     "text": [
      "El archivo ha sido guardado correctamente.\n"
     ]
    }
   ],
   "source": [
    "import pandas as pd\n",
    "\n",
    "# Crear un ejemplo de DataFrame\n",
    "data = {\n",
    "    'Unnamed: 0': [0, 1, 2, 3], \n",
    "    'a': [0, 4, 8, 12], \n",
    "    'b': [1, 5, 9, 13],\n",
    "    'c': [2, 6, 10, 14], \n",
    "    'd': [3, 7, 11, 15], \n",
    "    'e': [20, 21, 22, 23]\n",
    "}\n",
    "dataframe = pd.DataFrame(data)\n",
    "\n",
    "# Guardar el DataFrame en un archivo Excel\n",
    "try:\n",
    "    dataframe.to_excel('C:\\\\Users\\\\Zene\\\\Documents\\\\Ejemplos\\\\salida_excel.xlsx', sheet_name='Hoja1')\n",
    "    print(\"El archivo ha sido guardado correctamente.\")\n",
    "except Exception as e:\n",
    "    print(f\"Error al guardar el archivo Excel: {e}\")\n"
   ]
  },
  {
   "cell_type": "markdown",
   "id": "d9723b3c-79f3-41e3-b1f4-6965eff22d21",
   "metadata": {},
   "source": [
    "## Pandas - Ficheros HTML"
   ]
  },
  {
   "cell_type": "code",
   "execution_count": 92,
   "id": "f63b82d7-9a9b-46ed-b7c6-63692a444961",
   "metadata": {},
   "outputs": [],
   "source": [
    "pagina_web = 'https://es.wikipedia.org/wiki/Anexo:Pa%C3%ADses'"
   ]
  },
  {
   "cell_type": "code",
   "execution_count": 94,
   "id": "062e8ad3-8c29-43f6-9795-d15df21437a0",
   "metadata": {},
   "outputs": [],
   "source": [
    "datos = pd.read_html(pagina_web)"
   ]
  },
  {
   "cell_type": "code",
   "execution_count": 96,
   "id": "c4574447-e87b-4b00-9374-1991a1229918",
   "metadata": {},
   "outputs": [
    {
     "data": {
      "text/plain": [
       "list"
      ]
     },
     "execution_count": 96,
     "metadata": {},
     "output_type": "execute_result"
    }
   ],
   "source": [
    "type(datos)"
   ]
  },
  {
   "cell_type": "code",
   "execution_count": 98,
   "id": "130cbd4b-8b3c-43b9-b51d-0766c1f73bff",
   "metadata": {},
   "outputs": [],
   "source": [
    "dataframe = datos[0]"
   ]
  },
  {
   "cell_type": "code",
   "execution_count": 100,
   "id": "09ee2ff9-2432-42f6-bd2b-abd5de54cbde",
   "metadata": {},
   "outputs": [
    {
     "data": {
      "text/html": [
       "<div>\n",
       "<style scoped>\n",
       "    .dataframe tbody tr th:only-of-type {\n",
       "        vertical-align: middle;\n",
       "    }\n",
       "\n",
       "    .dataframe tbody tr th {\n",
       "        vertical-align: top;\n",
       "    }\n",
       "\n",
       "    .dataframe thead th {\n",
       "        text-align: right;\n",
       "    }\n",
       "</style>\n",
       "<table border=\"1\" class=\"dataframe\">\n",
       "  <thead>\n",
       "    <tr style=\"text-align: right;\">\n",
       "      <th></th>\n",
       "      <th>Estado soberano (nombre común)</th>\n",
       "      <th>Estado soberano (nombre común).1</th>\n",
       "      <th>Forma de gobierno</th>\n",
       "      <th>Capital(es)</th>\n",
       "      <th>Continente</th>\n",
       "      <th>Estatus ONU</th>\n",
       "      <th>Soberanía</th>\n",
       "      <th>Ubicación</th>\n",
       "    </tr>\n",
       "  </thead>\n",
       "  <tbody>\n",
       "    <tr>\n",
       "      <th>0</th>\n",
       "      <td>República Islámica de Afganistán (Afganistán)</td>\n",
       "      <td>República Islámica de Afganistán (Afganistán)</td>\n",
       "      <td>República islámica presidencialista</td>\n",
       "      <td>Kabul</td>\n",
       "      <td>Asia</td>\n",
       "      <td>Miembro (1946)</td>\n",
       "      <td>Reconocida</td>\n",
       "      <td>NaN</td>\n",
       "    </tr>\n",
       "    <tr>\n",
       "      <th>1</th>\n",
       "      <td>República Islámica de Afganistán (Afganistán)</td>\n",
       "      <td>República Islámica de Afganistán (Afganistán)</td>\n",
       "      <td>Las Naciones Unidas actualmente reconocen a la...</td>\n",
       "      <td>Las Naciones Unidas actualmente reconocen a la...</td>\n",
       "      <td>Las Naciones Unidas actualmente reconocen a la...</td>\n",
       "      <td>Las Naciones Unidas actualmente reconocen a la...</td>\n",
       "      <td>Las Naciones Unidas actualmente reconocen a la...</td>\n",
       "      <td>NaN</td>\n",
       "    </tr>\n",
       "    <tr>\n",
       "      <th>2</th>\n",
       "      <td>República de Albania (Albania)</td>\n",
       "      <td>República de Albania (Albania)</td>\n",
       "      <td>República parlamentaria</td>\n",
       "      <td>Tirana</td>\n",
       "      <td>Europa</td>\n",
       "      <td>Miembro (1955)</td>\n",
       "      <td>Reconocida</td>\n",
       "      <td>NaN</td>\n",
       "    </tr>\n",
       "    <tr>\n",
       "      <th>3</th>\n",
       "      <td>República de Albania (Albania)</td>\n",
       "      <td>República de Albania (Albania)</td>\n",
       "      <td>-</td>\n",
       "      <td>-</td>\n",
       "      <td>-</td>\n",
       "      <td>-</td>\n",
       "      <td>-</td>\n",
       "      <td>NaN</td>\n",
       "    </tr>\n",
       "    <tr>\n",
       "      <th>4</th>\n",
       "      <td>República Federal de Alemania (Alemania)</td>\n",
       "      <td>República Federal de Alemania (Alemania)</td>\n",
       "      <td>República parlamentaria</td>\n",
       "      <td>Berlín</td>\n",
       "      <td>Europa</td>\n",
       "      <td>Miembro (1973)[1]​</td>\n",
       "      <td>Reconocida</td>\n",
       "      <td>NaN</td>\n",
       "    </tr>\n",
       "    <tr>\n",
       "      <th>5</th>\n",
       "      <td>República Federal de Alemania (Alemania)</td>\n",
       "      <td>República Federal de Alemania (Alemania)</td>\n",
       "      <td>Estado miembro de la Unión Europea. Alemania e...</td>\n",
       "      <td>Estado miembro de la Unión Europea. Alemania e...</td>\n",
       "      <td>Estado miembro de la Unión Europea. Alemania e...</td>\n",
       "      <td>Estado miembro de la Unión Europea. Alemania e...</td>\n",
       "      <td>Estado miembro de la Unión Europea. Alemania e...</td>\n",
       "      <td>NaN</td>\n",
       "    </tr>\n",
       "    <tr>\n",
       "      <th>6</th>\n",
       "      <td>Principado de Andorra (Andorra)</td>\n",
       "      <td>Principado de Andorra (Andorra)</td>\n",
       "      <td>Monarquía constitucional</td>\n",
       "      <td>Andorra la Vieja</td>\n",
       "      <td>Europa</td>\n",
       "      <td>Miembro (1993)</td>\n",
       "      <td>Reconocida</td>\n",
       "      <td>NaN</td>\n",
       "    </tr>\n",
       "    <tr>\n",
       "      <th>7</th>\n",
       "      <td>Principado de Andorra (Andorra)</td>\n",
       "      <td>Principado de Andorra (Andorra)</td>\n",
       "      <td>Coprincipado con dos jefes de Estado, el presi...</td>\n",
       "      <td>Coprincipado con dos jefes de Estado, el presi...</td>\n",
       "      <td>Coprincipado con dos jefes de Estado, el presi...</td>\n",
       "      <td>Coprincipado con dos jefes de Estado, el presi...</td>\n",
       "      <td>Coprincipado con dos jefes de Estado, el presi...</td>\n",
       "      <td>NaN</td>\n",
       "    </tr>\n",
       "    <tr>\n",
       "      <th>8</th>\n",
       "      <td>República de Angola (Angola)</td>\n",
       "      <td>República de Angola (Angola)</td>\n",
       "      <td>República presidencialista</td>\n",
       "      <td>Luanda</td>\n",
       "      <td>África</td>\n",
       "      <td>Miembro (1976)</td>\n",
       "      <td>Reconocida</td>\n",
       "      <td>NaN</td>\n",
       "    </tr>\n",
       "    <tr>\n",
       "      <th>9</th>\n",
       "      <td>República de Angola (Angola)</td>\n",
       "      <td>República de Angola (Angola)</td>\n",
       "      <td>-</td>\n",
       "      <td>-</td>\n",
       "      <td>-</td>\n",
       "      <td>-</td>\n",
       "      <td>-</td>\n",
       "      <td>NaN</td>\n",
       "    </tr>\n",
       "  </tbody>\n",
       "</table>\n",
       "</div>"
      ],
      "text/plain": [
       "                  Estado soberano (nombre común)  \\\n",
       "0  República Islámica de Afganistán (Afganistán)   \n",
       "1  República Islámica de Afganistán (Afganistán)   \n",
       "2                 República de Albania (Albania)   \n",
       "3                 República de Albania (Albania)   \n",
       "4       República Federal de Alemania (Alemania)   \n",
       "5       República Federal de Alemania (Alemania)   \n",
       "6                Principado de Andorra (Andorra)   \n",
       "7                Principado de Andorra (Andorra)   \n",
       "8                   República de Angola (Angola)   \n",
       "9                   República de Angola (Angola)   \n",
       "\n",
       "                Estado soberano (nombre común).1  \\\n",
       "0  República Islámica de Afganistán (Afganistán)   \n",
       "1  República Islámica de Afganistán (Afganistán)   \n",
       "2                 República de Albania (Albania)   \n",
       "3                 República de Albania (Albania)   \n",
       "4       República Federal de Alemania (Alemania)   \n",
       "5       República Federal de Alemania (Alemania)   \n",
       "6                Principado de Andorra (Andorra)   \n",
       "7                Principado de Andorra (Andorra)   \n",
       "8                   República de Angola (Angola)   \n",
       "9                   República de Angola (Angola)   \n",
       "\n",
       "                                   Forma de gobierno  \\\n",
       "0                República islámica presidencialista   \n",
       "1  Las Naciones Unidas actualmente reconocen a la...   \n",
       "2                            República parlamentaria   \n",
       "3                                                  -   \n",
       "4                            República parlamentaria   \n",
       "5  Estado miembro de la Unión Europea. Alemania e...   \n",
       "6                           Monarquía constitucional   \n",
       "7  Coprincipado con dos jefes de Estado, el presi...   \n",
       "8                         República presidencialista   \n",
       "9                                                  -   \n",
       "\n",
       "                                         Capital(es)  \\\n",
       "0                                              Kabul   \n",
       "1  Las Naciones Unidas actualmente reconocen a la...   \n",
       "2                                             Tirana   \n",
       "3                                                  -   \n",
       "4                                             Berlín   \n",
       "5  Estado miembro de la Unión Europea. Alemania e...   \n",
       "6                                   Andorra la Vieja   \n",
       "7  Coprincipado con dos jefes de Estado, el presi...   \n",
       "8                                             Luanda   \n",
       "9                                                  -   \n",
       "\n",
       "                                          Continente  \\\n",
       "0                                               Asia   \n",
       "1  Las Naciones Unidas actualmente reconocen a la...   \n",
       "2                                             Europa   \n",
       "3                                                  -   \n",
       "4                                             Europa   \n",
       "5  Estado miembro de la Unión Europea. Alemania e...   \n",
       "6                                             Europa   \n",
       "7  Coprincipado con dos jefes de Estado, el presi...   \n",
       "8                                             África   \n",
       "9                                                  -   \n",
       "\n",
       "                                         Estatus ONU  \\\n",
       "0                                     Miembro (1946)   \n",
       "1  Las Naciones Unidas actualmente reconocen a la...   \n",
       "2                                     Miembro (1955)   \n",
       "3                                                  -   \n",
       "4                                 Miembro (1973)[1]​   \n",
       "5  Estado miembro de la Unión Europea. Alemania e...   \n",
       "6                                     Miembro (1993)   \n",
       "7  Coprincipado con dos jefes de Estado, el presi...   \n",
       "8                                     Miembro (1976)   \n",
       "9                                                  -   \n",
       "\n",
       "                                           Soberanía  Ubicación  \n",
       "0                                         Reconocida        NaN  \n",
       "1  Las Naciones Unidas actualmente reconocen a la...        NaN  \n",
       "2                                         Reconocida        NaN  \n",
       "3                                                  -        NaN  \n",
       "4                                         Reconocida        NaN  \n",
       "5  Estado miembro de la Unión Europea. Alemania e...        NaN  \n",
       "6                                         Reconocida        NaN  \n",
       "7  Coprincipado con dos jefes de Estado, el presi...        NaN  \n",
       "8                                         Reconocida        NaN  \n",
       "9                                                  -        NaN  "
      ]
     },
     "execution_count": 100,
     "metadata": {},
     "output_type": "execute_result"
    }
   ],
   "source": [
    "dataframe.head(10)"
   ]
  },
  {
   "cell_type": "code",
   "execution_count": 84,
   "id": "333f546f-4af5-431e-823f-ff604781181d",
   "metadata": {},
   "outputs": [
    {
     "name": "stdout",
     "output_type": "stream",
     "text": [
      "<class 'list'>\n",
      "                    Estado soberano (nombre común)  \\\n",
      "0    República Islámica de Afganistán (Afganistán)   \n",
      "1    República Islámica de Afganistán (Afganistán)   \n",
      "2                   República de Albania (Albania)   \n",
      "3                   República de Albania (Albania)   \n",
      "4         República Federal de Alemania (Alemania)   \n",
      "..                                             ...   \n",
      "385                   República de Yibuti (Yibuti)   \n",
      "386                   República de Zambia (Zambia)   \n",
      "387                   República de Zambia (Zambia)   \n",
      "388               República de Zimbabue (Zimbabue)   \n",
      "389               República de Zimbabue (Zimbabue)   \n",
      "\n",
      "                  Estado soberano (nombre común).1  \\\n",
      "0    República Islámica de Afganistán (Afganistán)   \n",
      "1    República Islámica de Afganistán (Afganistán)   \n",
      "2                   República de Albania (Albania)   \n",
      "3                   República de Albania (Albania)   \n",
      "4         República Federal de Alemania (Alemania)   \n",
      "..                                             ...   \n",
      "385                   República de Yibuti (Yibuti)   \n",
      "386                   República de Zambia (Zambia)   \n",
      "387                   República de Zambia (Zambia)   \n",
      "388               República de Zimbabue (Zimbabue)   \n",
      "389               República de Zimbabue (Zimbabue)   \n",
      "\n",
      "                                     Forma de gobierno  \\\n",
      "0                  República islámica presidencialista   \n",
      "1    Las Naciones Unidas actualmente reconocen a la...   \n",
      "2                              República parlamentaria   \n",
      "3                                                    -   \n",
      "4                              República parlamentaria   \n",
      "..                                                 ...   \n",
      "385  Yibuti mantiene un conflicto fronterizo con Er...   \n",
      "386                             República presidencial   \n",
      "387                                                  -   \n",
      "388                             República presidencial   \n",
      "389                                                  -   \n",
      "\n",
      "                                           Capital(es)  \\\n",
      "0                                                Kabul   \n",
      "1    Las Naciones Unidas actualmente reconocen a la...   \n",
      "2                                               Tirana   \n",
      "3                                                    -   \n",
      "4                                               Berlín   \n",
      "..                                                 ...   \n",
      "385  Yibuti mantiene un conflicto fronterizo con Er...   \n",
      "386                                             Lusaka   \n",
      "387                                                  -   \n",
      "388                                           Harare -   \n",
      "389                                                  -   \n",
      "\n",
      "                                            Continente  \\\n",
      "0                                                 Asia   \n",
      "1    Las Naciones Unidas actualmente reconocen a la...   \n",
      "2                                               Europa   \n",
      "3                                                    -   \n",
      "4                                               Europa   \n",
      "..                                                 ...   \n",
      "385  Yibuti mantiene un conflicto fronterizo con Er...   \n",
      "386                                             África   \n",
      "387                                                  -   \n",
      "388                                             África   \n",
      "389                                                  -   \n",
      "\n",
      "                                           Estatus ONU  \\\n",
      "0                                       Miembro (1946)   \n",
      "1    Las Naciones Unidas actualmente reconocen a la...   \n",
      "2                                       Miembro (1955)   \n",
      "3                                                    -   \n",
      "4                                   Miembro (1973)[1]​   \n",
      "..                                                 ...   \n",
      "385  Yibuti mantiene un conflicto fronterizo con Er...   \n",
      "386                                     Miembro (1964)   \n",
      "387                                                  -   \n",
      "388                                     Miembro (1980)   \n",
      "389                                                  -   \n",
      "\n",
      "                                             Soberanía  Ubicación  \n",
      "0                                           Reconocida        NaN  \n",
      "1    Las Naciones Unidas actualmente reconocen a la...        NaN  \n",
      "2                                           Reconocida        NaN  \n",
      "3                                                    -        NaN  \n",
      "4                                           Reconocida        NaN  \n",
      "..                                                 ...        ...  \n",
      "385  Yibuti mantiene un conflicto fronterizo con Er...        NaN  \n",
      "386                                         Reconocida        NaN  \n",
      "387                                                  -        NaN  \n",
      "388                                         Reconocida        NaN  \n",
      "389                                                  -        NaN  \n",
      "\n",
      "[390 rows x 8 columns]\n"
     ]
    }
   ],
   "source": [
    "import pandas as pd\n",
    "\n",
    "# URL de la página web\n",
    "pagina_web = 'https://es.wikipedia.org/wiki/Anexo:Pa%C3%ADses'\n",
    "\n",
    "# Leer todas las tablas de la página web\n",
    "datos = pd.read_html(pagina_web)\n",
    "\n",
    "# Verificar el tipo de datos\n",
    "print(type(datos))  # Debería mostrar <class 'list'>\n",
    "\n",
    "# Asignar el primer DataFrame de la lista a la variable dataframe\n",
    "dataframe = datos[0]\n",
    "\n",
    "# Mostrar el DataFrame\n",
    "print(dataframe)\n"
   ]
  },
  {
   "cell_type": "markdown",
   "id": "a0208fbb-6733-4b7b-a09b-89f50d509b85",
   "metadata": {},
   "source": [
    "## Pandas - SQL"
   ]
  },
  {
   "cell_type": "code",
   "execution_count": null,
   "id": "8d876968-f933-4cc5-b486-2633bddd5bae",
   "metadata": {},
   "outputs": [],
   "source": [
    "conda install sqlalchemy"
   ]
  },
  {
   "cell_type": "code",
   "execution_count": 103,
   "id": "26aaf5b3-6dac-4bf2-86e7-9fceba02194f",
   "metadata": {},
   "outputs": [
    {
     "name": "stdout",
     "output_type": "stream",
     "text": [
      "Defaulting to user installation because normal site-packages is not writeable\n",
      "Requirement already satisfied: sqlalchemy in c:\\programdata\\anaconda3\\lib\\site-packages (2.0.25)\n",
      "Requirement already satisfied: typing-extensions>=4.6.0 in c:\\programdata\\anaconda3\\lib\\site-packages (from sqlalchemy) (4.9.0)\n",
      "Requirement already satisfied: greenlet!=0.4.17 in c:\\programdata\\anaconda3\\lib\\site-packages (from sqlalchemy) (3.0.1)\n",
      "Note: you may need to restart the kernel to use updated packages.\n"
     ]
    }
   ],
   "source": [
    "pip install sqlalchemy"
   ]
  },
  {
   "cell_type": "code",
   "execution_count": 1,
   "id": "b163db0e-f8bf-4caa-acc2-36bc2083bafa",
   "metadata": {},
   "outputs": [],
   "source": [
    "import pandas as pd"
   ]
  },
  {
   "cell_type": "code",
   "execution_count": 3,
   "id": "c88fd94a-1d62-43cb-89d6-b32233fa41a8",
   "metadata": {},
   "outputs": [],
   "source": [
    "from sqlalchemy import create_engine"
   ]
  },
  {
   "cell_type": "code",
   "execution_count": 6,
   "id": "eeb0312c-1bd1-4ea7-864e-d60c4ff4d6a2",
   "metadata": {},
   "outputs": [
    {
     "data": {
      "text/html": [
       "<div>\n",
       "<style scoped>\n",
       "    .dataframe tbody tr th:only-of-type {\n",
       "        vertical-align: middle;\n",
       "    }\n",
       "\n",
       "    .dataframe tbody tr th {\n",
       "        vertical-align: top;\n",
       "    }\n",
       "\n",
       "    .dataframe thead th {\n",
       "        text-align: right;\n",
       "    }\n",
       "</style>\n",
       "<table border=\"1\" class=\"dataframe\">\n",
       "  <thead>\n",
       "    <tr style=\"text-align: right;\">\n",
       "      <th></th>\n",
       "      <th>A</th>\n",
       "      <th>B</th>\n",
       "    </tr>\n",
       "  </thead>\n",
       "  <tbody>\n",
       "    <tr>\n",
       "      <th>0</th>\n",
       "      <td>1</td>\n",
       "      <td>4</td>\n",
       "    </tr>\n",
       "    <tr>\n",
       "      <th>1</th>\n",
       "      <td>2</td>\n",
       "      <td>5</td>\n",
       "    </tr>\n",
       "    <tr>\n",
       "      <th>2</th>\n",
       "      <td>3</td>\n",
       "      <td>6</td>\n",
       "    </tr>\n",
       "  </tbody>\n",
       "</table>\n",
       "</div>"
      ],
      "text/plain": [
       "   A  B\n",
       "0  1  4\n",
       "1  2  5\n",
       "2  3  6"
      ]
     },
     "execution_count": 6,
     "metadata": {},
     "output_type": "execute_result"
    }
   ],
   "source": [
    "diccionario = {'A':[1, 2, 3], 'B': [4, 5, 6]}\n",
    "dataframe = pd.DataFrame(diccionario)\n",
    "dataframe"
   ]
  },
  {
   "cell_type": "code",
   "execution_count": 8,
   "id": "7ca3d9d6-51f9-405c-a6ec-b13ac7822143",
   "metadata": {},
   "outputs": [],
   "source": [
    "engine = create_engine('sqlite:///:memory:')"
   ]
  },
  {
   "cell_type": "code",
   "execution_count": 10,
   "id": "cebbd402-7602-4401-81d9-af90f47c5f8e",
   "metadata": {},
   "outputs": [
    {
     "data": {
      "text/plain": [
       "3"
      ]
     },
     "execution_count": 10,
     "metadata": {},
     "output_type": "execute_result"
    }
   ],
   "source": [
    "dataframe.to_sql('tabla', engine, index=False)"
   ]
  },
  {
   "cell_type": "code",
   "execution_count": 20,
   "id": "3ef57831-b2f4-41d9-9482-af49f226bf73",
   "metadata": {},
   "outputs": [
    {
     "name": "stdout",
     "output_type": "stream",
     "text": [
      "Error al leer los datos de la base de datos: 'OptionEngine' object has no attribute 'execute'\n"
     ]
    }
   ],
   "source": [
    "import pandas as pd\n",
    "from sqlalchemy import create_engine\n",
    "\n",
    "# Diccionario de datos\n",
    "diccionario = {'A': [1, 2, 3], 'B': [4, 5, 6]}\n",
    "\n",
    "# Crear el DataFrame\n",
    "dataframe = pd.DataFrame(diccionario)\n",
    "\n",
    "# Crear el engine de conexión a una base de datos SQLite en memoria\n",
    "engine = create_engine('sqlite:///:memory:')\n",
    "\n",
    "# Escribir el DataFrame en la base de datos SQLite\n",
    "dataframe.to_sql('tabla', con=engine, index=False, if_exists='replace')\n",
    "\n",
    "# Leer los datos de la tabla 'tabla' en la base de datos SQLite\n",
    "try:\n",
    "    datos_leidos_bd = pd.read_sql('tabla', con=engine)\n",
    "    print(\"Datos leídos correctamente:\")\n",
    "    print(datos_leidos_bd)\n",
    "except Exception as e:\n",
    "    print(f\"Error al leer los datos de la base de datos: {e}\")\n"
   ]
  },
  {
   "cell_type": "code",
   "execution_count": 28,
   "id": "4d0ac775-6d1b-4678-a9b0-872e95b9d210",
   "metadata": {},
   "outputs": [
    {
     "name": "stdout",
     "output_type": "stream",
     "text": [
      "Datos leídos correctamente:\n",
      "   A  B\n",
      "0  1  4\n",
      "1  2  5\n",
      "2  3  6\n"
     ]
    }
   ],
   "source": [
    "import pandas as pd\n",
    "from sqlalchemy import create_engine\n",
    "\n",
    "# Crear un DataFrame de ejemplo\n",
    "diccionario = {'A': [1, 2, 3], 'B': [4, 5, 6]}\n",
    "dataframe = pd.DataFrame(diccionario)\n",
    "\n",
    "# Crear el engine de conexión a una base de datos SQLite en memoria\n",
    "engine = create_engine('sqlite:///:memory:')\n",
    "\n",
    "# Escribir el DataFrame en la base de datos SQLite\n",
    "dataframe.to_sql('tabla', con=engine, index=False, if_exists='replace')\n",
    "\n",
    "# Leer los datos de la tabla 'tabla' en la base de datos SQLite\n",
    "try:\n",
    "    # Usar 'connect' y 'read_sql' correctamente\n",
    "    with engine.connect() as connection:\n",
    "        datos_leidos_bd = pd.read_sql('tabla', con=connection)\n",
    "        print(\"Datos leídos correctamente:\")\n",
    "        print(datos_leidos_bd)\n",
    "except Exception as e:\n",
    "    print(f\"Error al leer los datos de la base de datos: {e}\")\n"
   ]
  },
  {
   "cell_type": "markdown",
   "id": "1a639781-5d16-4e7b-9c8a-1ec26d954e3f",
   "metadata": {},
   "source": [
    "## Graficos con Panda"
   ]
  },
  {
   "cell_type": "code",
   "execution_count": 31,
   "id": "1a748d91-06f0-4d6e-977f-73137bf8dedf",
   "metadata": {},
   "outputs": [],
   "source": [
    "import numpy as np\n",
    "import pandas as pd"
   ]
  },
  {
   "cell_type": "code",
   "execution_count": 37,
   "id": "3338f59d-8a74-408e-b4a1-b6307ca0f081",
   "metadata": {},
   "outputs": [],
   "source": [
    "dataframe = pd.DataFrame(np.random.randint(200, size=(50,4)), columns=['a', 'b', 'c','d'])"
   ]
  },
  {
   "cell_type": "code",
   "execution_count": 39,
   "id": "51de1845-396f-4a8a-ab51-004eb92144a0",
   "metadata": {},
   "outputs": [
    {
     "data": {
      "text/html": [
       "<div>\n",
       "<style scoped>\n",
       "    .dataframe tbody tr th:only-of-type {\n",
       "        vertical-align: middle;\n",
       "    }\n",
       "\n",
       "    .dataframe tbody tr th {\n",
       "        vertical-align: top;\n",
       "    }\n",
       "\n",
       "    .dataframe thead th {\n",
       "        text-align: right;\n",
       "    }\n",
       "</style>\n",
       "<table border=\"1\" class=\"dataframe\">\n",
       "  <thead>\n",
       "    <tr style=\"text-align: right;\">\n",
       "      <th></th>\n",
       "      <th>a</th>\n",
       "      <th>b</th>\n",
       "      <th>c</th>\n",
       "      <th>d</th>\n",
       "    </tr>\n",
       "  </thead>\n",
       "  <tbody>\n",
       "    <tr>\n",
       "      <th>0</th>\n",
       "      <td>52</td>\n",
       "      <td>125</td>\n",
       "      <td>168</td>\n",
       "      <td>135</td>\n",
       "    </tr>\n",
       "    <tr>\n",
       "      <th>1</th>\n",
       "      <td>139</td>\n",
       "      <td>138</td>\n",
       "      <td>13</td>\n",
       "      <td>13</td>\n",
       "    </tr>\n",
       "    <tr>\n",
       "      <th>2</th>\n",
       "      <td>185</td>\n",
       "      <td>18</td>\n",
       "      <td>10</td>\n",
       "      <td>181</td>\n",
       "    </tr>\n",
       "    <tr>\n",
       "      <th>3</th>\n",
       "      <td>124</td>\n",
       "      <td>127</td>\n",
       "      <td>141</td>\n",
       "      <td>165</td>\n",
       "    </tr>\n",
       "    <tr>\n",
       "      <th>4</th>\n",
       "      <td>89</td>\n",
       "      <td>182</td>\n",
       "      <td>120</td>\n",
       "      <td>135</td>\n",
       "    </tr>\n",
       "    <tr>\n",
       "      <th>5</th>\n",
       "      <td>40</td>\n",
       "      <td>132</td>\n",
       "      <td>103</td>\n",
       "      <td>33</td>\n",
       "    </tr>\n",
       "    <tr>\n",
       "      <th>6</th>\n",
       "      <td>129</td>\n",
       "      <td>44</td>\n",
       "      <td>188</td>\n",
       "      <td>89</td>\n",
       "    </tr>\n",
       "    <tr>\n",
       "      <th>7</th>\n",
       "      <td>195</td>\n",
       "      <td>137</td>\n",
       "      <td>129</td>\n",
       "      <td>89</td>\n",
       "    </tr>\n",
       "    <tr>\n",
       "      <th>8</th>\n",
       "      <td>86</td>\n",
       "      <td>85</td>\n",
       "      <td>87</td>\n",
       "      <td>40</td>\n",
       "    </tr>\n",
       "    <tr>\n",
       "      <th>9</th>\n",
       "      <td>106</td>\n",
       "      <td>153</td>\n",
       "      <td>120</td>\n",
       "      <td>13</td>\n",
       "    </tr>\n",
       "    <tr>\n",
       "      <th>10</th>\n",
       "      <td>70</td>\n",
       "      <td>11</td>\n",
       "      <td>174</td>\n",
       "      <td>196</td>\n",
       "    </tr>\n",
       "    <tr>\n",
       "      <th>11</th>\n",
       "      <td>74</td>\n",
       "      <td>72</td>\n",
       "      <td>33</td>\n",
       "      <td>152</td>\n",
       "    </tr>\n",
       "    <tr>\n",
       "      <th>12</th>\n",
       "      <td>160</td>\n",
       "      <td>47</td>\n",
       "      <td>10</td>\n",
       "      <td>76</td>\n",
       "    </tr>\n",
       "    <tr>\n",
       "      <th>13</th>\n",
       "      <td>108</td>\n",
       "      <td>71</td>\n",
       "      <td>88</td>\n",
       "      <td>25</td>\n",
       "    </tr>\n",
       "    <tr>\n",
       "      <th>14</th>\n",
       "      <td>167</td>\n",
       "      <td>151</td>\n",
       "      <td>11</td>\n",
       "      <td>33</td>\n",
       "    </tr>\n",
       "    <tr>\n",
       "      <th>15</th>\n",
       "      <td>191</td>\n",
       "      <td>102</td>\n",
       "      <td>76</td>\n",
       "      <td>38</td>\n",
       "    </tr>\n",
       "    <tr>\n",
       "      <th>16</th>\n",
       "      <td>1</td>\n",
       "      <td>149</td>\n",
       "      <td>111</td>\n",
       "      <td>156</td>\n",
       "    </tr>\n",
       "    <tr>\n",
       "      <th>17</th>\n",
       "      <td>64</td>\n",
       "      <td>191</td>\n",
       "      <td>99</td>\n",
       "      <td>175</td>\n",
       "    </tr>\n",
       "    <tr>\n",
       "      <th>18</th>\n",
       "      <td>157</td>\n",
       "      <td>20</td>\n",
       "      <td>66</td>\n",
       "      <td>30</td>\n",
       "    </tr>\n",
       "    <tr>\n",
       "      <th>19</th>\n",
       "      <td>97</td>\n",
       "      <td>149</td>\n",
       "      <td>88</td>\n",
       "      <td>93</td>\n",
       "    </tr>\n",
       "    <tr>\n",
       "      <th>20</th>\n",
       "      <td>14</td>\n",
       "      <td>75</td>\n",
       "      <td>71</td>\n",
       "      <td>1</td>\n",
       "    </tr>\n",
       "    <tr>\n",
       "      <th>21</th>\n",
       "      <td>84</td>\n",
       "      <td>31</td>\n",
       "      <td>8</td>\n",
       "      <td>86</td>\n",
       "    </tr>\n",
       "    <tr>\n",
       "      <th>22</th>\n",
       "      <td>108</td>\n",
       "      <td>50</td>\n",
       "      <td>39</td>\n",
       "      <td>15</td>\n",
       "    </tr>\n",
       "    <tr>\n",
       "      <th>23</th>\n",
       "      <td>33</td>\n",
       "      <td>9</td>\n",
       "      <td>132</td>\n",
       "      <td>138</td>\n",
       "    </tr>\n",
       "    <tr>\n",
       "      <th>24</th>\n",
       "      <td>89</td>\n",
       "      <td>90</td>\n",
       "      <td>190</td>\n",
       "      <td>43</td>\n",
       "    </tr>\n",
       "    <tr>\n",
       "      <th>25</th>\n",
       "      <td>7</td>\n",
       "      <td>193</td>\n",
       "      <td>50</td>\n",
       "      <td>136</td>\n",
       "    </tr>\n",
       "    <tr>\n",
       "      <th>26</th>\n",
       "      <td>198</td>\n",
       "      <td>165</td>\n",
       "      <td>13</td>\n",
       "      <td>132</td>\n",
       "    </tr>\n",
       "    <tr>\n",
       "      <th>27</th>\n",
       "      <td>142</td>\n",
       "      <td>187</td>\n",
       "      <td>8</td>\n",
       "      <td>13</td>\n",
       "    </tr>\n",
       "    <tr>\n",
       "      <th>28</th>\n",
       "      <td>187</td>\n",
       "      <td>78</td>\n",
       "      <td>116</td>\n",
       "      <td>192</td>\n",
       "    </tr>\n",
       "    <tr>\n",
       "      <th>29</th>\n",
       "      <td>100</td>\n",
       "      <td>106</td>\n",
       "      <td>95</td>\n",
       "      <td>151</td>\n",
       "    </tr>\n",
       "    <tr>\n",
       "      <th>30</th>\n",
       "      <td>46</td>\n",
       "      <td>15</td>\n",
       "      <td>148</td>\n",
       "      <td>178</td>\n",
       "    </tr>\n",
       "    <tr>\n",
       "      <th>31</th>\n",
       "      <td>168</td>\n",
       "      <td>115</td>\n",
       "      <td>142</td>\n",
       "      <td>153</td>\n",
       "    </tr>\n",
       "    <tr>\n",
       "      <th>32</th>\n",
       "      <td>53</td>\n",
       "      <td>127</td>\n",
       "      <td>32</td>\n",
       "      <td>101</td>\n",
       "    </tr>\n",
       "    <tr>\n",
       "      <th>33</th>\n",
       "      <td>46</td>\n",
       "      <td>38</td>\n",
       "      <td>133</td>\n",
       "      <td>58</td>\n",
       "    </tr>\n",
       "    <tr>\n",
       "      <th>34</th>\n",
       "      <td>161</td>\n",
       "      <td>191</td>\n",
       "      <td>66</td>\n",
       "      <td>11</td>\n",
       "    </tr>\n",
       "    <tr>\n",
       "      <th>35</th>\n",
       "      <td>195</td>\n",
       "      <td>82</td>\n",
       "      <td>174</td>\n",
       "      <td>161</td>\n",
       "    </tr>\n",
       "    <tr>\n",
       "      <th>36</th>\n",
       "      <td>199</td>\n",
       "      <td>10</td>\n",
       "      <td>12</td>\n",
       "      <td>126</td>\n",
       "    </tr>\n",
       "    <tr>\n",
       "      <th>37</th>\n",
       "      <td>21</td>\n",
       "      <td>165</td>\n",
       "      <td>61</td>\n",
       "      <td>8</td>\n",
       "    </tr>\n",
       "    <tr>\n",
       "      <th>38</th>\n",
       "      <td>28</td>\n",
       "      <td>166</td>\n",
       "      <td>185</td>\n",
       "      <td>88</td>\n",
       "    </tr>\n",
       "    <tr>\n",
       "      <th>39</th>\n",
       "      <td>141</td>\n",
       "      <td>151</td>\n",
       "      <td>118</td>\n",
       "      <td>111</td>\n",
       "    </tr>\n",
       "    <tr>\n",
       "      <th>40</th>\n",
       "      <td>120</td>\n",
       "      <td>69</td>\n",
       "      <td>122</td>\n",
       "      <td>112</td>\n",
       "    </tr>\n",
       "    <tr>\n",
       "      <th>41</th>\n",
       "      <td>168</td>\n",
       "      <td>30</td>\n",
       "      <td>33</td>\n",
       "      <td>136</td>\n",
       "    </tr>\n",
       "    <tr>\n",
       "      <th>42</th>\n",
       "      <td>137</td>\n",
       "      <td>189</td>\n",
       "      <td>53</td>\n",
       "      <td>145</td>\n",
       "    </tr>\n",
       "    <tr>\n",
       "      <th>43</th>\n",
       "      <td>151</td>\n",
       "      <td>108</td>\n",
       "      <td>114</td>\n",
       "      <td>57</td>\n",
       "    </tr>\n",
       "    <tr>\n",
       "      <th>44</th>\n",
       "      <td>4</td>\n",
       "      <td>102</td>\n",
       "      <td>113</td>\n",
       "      <td>142</td>\n",
       "    </tr>\n",
       "    <tr>\n",
       "      <th>45</th>\n",
       "      <td>93</td>\n",
       "      <td>0</td>\n",
       "      <td>199</td>\n",
       "      <td>120</td>\n",
       "    </tr>\n",
       "    <tr>\n",
       "      <th>46</th>\n",
       "      <td>152</td>\n",
       "      <td>73</td>\n",
       "      <td>194</td>\n",
       "      <td>174</td>\n",
       "    </tr>\n",
       "    <tr>\n",
       "      <th>47</th>\n",
       "      <td>39</td>\n",
       "      <td>40</td>\n",
       "      <td>155</td>\n",
       "      <td>108</td>\n",
       "    </tr>\n",
       "    <tr>\n",
       "      <th>48</th>\n",
       "      <td>155</td>\n",
       "      <td>174</td>\n",
       "      <td>115</td>\n",
       "      <td>69</td>\n",
       "    </tr>\n",
       "    <tr>\n",
       "      <th>49</th>\n",
       "      <td>90</td>\n",
       "      <td>25</td>\n",
       "      <td>115</td>\n",
       "      <td>154</td>\n",
       "    </tr>\n",
       "  </tbody>\n",
       "</table>\n",
       "</div>"
      ],
      "text/plain": [
       "      a    b    c    d\n",
       "0    52  125  168  135\n",
       "1   139  138   13   13\n",
       "2   185   18   10  181\n",
       "3   124  127  141  165\n",
       "4    89  182  120  135\n",
       "5    40  132  103   33\n",
       "6   129   44  188   89\n",
       "7   195  137  129   89\n",
       "8    86   85   87   40\n",
       "9   106  153  120   13\n",
       "10   70   11  174  196\n",
       "11   74   72   33  152\n",
       "12  160   47   10   76\n",
       "13  108   71   88   25\n",
       "14  167  151   11   33\n",
       "15  191  102   76   38\n",
       "16    1  149  111  156\n",
       "17   64  191   99  175\n",
       "18  157   20   66   30\n",
       "19   97  149   88   93\n",
       "20   14   75   71    1\n",
       "21   84   31    8   86\n",
       "22  108   50   39   15\n",
       "23   33    9  132  138\n",
       "24   89   90  190   43\n",
       "25    7  193   50  136\n",
       "26  198  165   13  132\n",
       "27  142  187    8   13\n",
       "28  187   78  116  192\n",
       "29  100  106   95  151\n",
       "30   46   15  148  178\n",
       "31  168  115  142  153\n",
       "32   53  127   32  101\n",
       "33   46   38  133   58\n",
       "34  161  191   66   11\n",
       "35  195   82  174  161\n",
       "36  199   10   12  126\n",
       "37   21  165   61    8\n",
       "38   28  166  185   88\n",
       "39  141  151  118  111\n",
       "40  120   69  122  112\n",
       "41  168   30   33  136\n",
       "42  137  189   53  145\n",
       "43  151  108  114   57\n",
       "44    4  102  113  142\n",
       "45   93    0  199  120\n",
       "46  152   73  194  174\n",
       "47   39   40  155  108\n",
       "48  155  174  115   69\n",
       "49   90   25  115  154"
      ]
     },
     "execution_count": 39,
     "metadata": {},
     "output_type": "execute_result"
    }
   ],
   "source": [
    "dataframe"
   ]
  },
  {
   "cell_type": "code",
   "execution_count": 45,
   "id": "a1f771fa-e32b-4262-9681-6eed1433421d",
   "metadata": {},
   "outputs": [
    {
     "data": {
      "text/plain": [
       "<Axes: >"
      ]
     },
     "execution_count": 45,
     "metadata": {},
     "output_type": "execute_result"
    },
    {
     "data": {
      "image/png": "[encoded data removed]",
      "text/plain": [
       "<Figure size 640x480 with 1 Axes>"
      ]
     },
     "metadata": {},
     "output_type": "display_data"
    }
   ],
   "source": [
    "dataframe['a'].hist()"
   ]
  },
  {
   "cell_type": "code",
   "execution_count": 43,
   "id": "9da32e7d-a6dd-41a4-a38b-a559fad607b5",
   "metadata": {},
   "outputs": [
    {
     "data": {
      "text/plain": [
       "<Axes: >"
      ]
     },
     "execution_count": 43,
     "metadata": {},
     "output_type": "execute_result"
    },
    {
     "data": {
      "image/png": "[encoded data removed]",
      "text/plain": [
       "<Figure size 640x480 with 1 Axes>"
      ]
     },
     "metadata": {},
     "output_type": "display_data"
    }
   ],
   "source": [
    "dataframe['b'].hist()"
   ]
  },
  {
   "cell_type": "code",
   "execution_count": 47,
   "id": "d30665cc-7f69-4c4a-a42b-c0b5f2d892cf",
   "metadata": {},
   "outputs": [
    {
     "data": {
      "text/plain": [
       "<Axes: >"
      ]
     },
     "execution_count": 47,
     "metadata": {},
     "output_type": "execute_result"
    },
    {
     "data": {
      "image/png": "[encoded data removed]",
      "text/plain": [
       "<Figure size 640x480 with 1 Axes>"
      ]
     },
     "metadata": {},
     "output_type": "display_data"
    }
   ],
   "source": [
    "dataframe['b'].hist(bins=30)"
   ]
  },
  {
   "cell_type": "code",
   "execution_count": 49,
   "id": "3f78ee4f-f559-4c19-a32a-531b3f31d908",
   "metadata": {},
   "outputs": [
    {
     "data": {
      "text/plain": [
       "<Axes: ylabel='Frequency'>"
      ]
     },
     "execution_count": 49,
     "metadata": {},
     "output_type": "execute_result"
    },
    {
     "data": {
      "image/png": "[encoded data removed]",
      "text/plain": [
       "<Figure size 640x480 with 1 Axes>"
      ]
     },
     "metadata": {},
     "output_type": "display_data"
    }
   ],
   "source": [
    "dataframe['a'].plot.hist()"
   ]
  },
  {
   "cell_type": "code",
   "execution_count": 51,
   "id": "3d0b42ab-0b56-4b28-814f-1cddb436a6c5",
   "metadata": {},
   "outputs": [
    {
     "data": {
      "text/plain": [
       "<Axes: >"
      ]
     },
     "execution_count": 51,
     "metadata": {},
     "output_type": "execute_result"
    },
    {
     "data": {
      "image/png": "[encoded data removed]",
      "text/plain": [
       "<Figure size 640x480 with 1 Axes>"
      ]
     },
     "metadata": {},
     "output_type": "display_data"
    }
   ],
   "source": [
    "dataframe.plot.area()"
   ]
  },
  {
   "cell_type": "code",
   "execution_count": 53,
   "id": "d3a9fc28-3c98-48f0-a892-64608b4c0088",
   "metadata": {},
   "outputs": [
    {
     "data": {
      "text/plain": [
       "<Axes: >"
      ]
     },
     "execution_count": 53,
     "metadata": {},
     "output_type": "execute_result"
    },
    {
     "data": {
      "image/png": "[encoded data removed]",
      "text/plain": [
       "<Figure size 640x480 with 1 Axes>"
      ]
     },
     "metadata": {},
     "output_type": "display_data"
    }
   ],
   "source": [
    "dataframe.plot.area(alpha=0.3)"
   ]
  },
  {
   "cell_type": "code",
   "execution_count": 55,
   "id": "d3d4cbd0-a987-41fa-9b22-2a4f12bbb4c7",
   "metadata": {},
   "outputs": [
    {
     "data": {
      "text/plain": [
       "<Axes: >"
      ]
     },
     "execution_count": 55,
     "metadata": {},
     "output_type": "execute_result"
    },
    {
     "data": {
      "image/png": "[encoded data removed]",
      "text/plain": [
       "<Figure size 640x480 with 1 Axes>"
      ]
     },
     "metadata": {},
     "output_type": "display_data"
    }
   ],
   "source": [
    "dataframe.plot.bar()"
   ]
  },
  {
   "cell_type": "code",
   "execution_count": 57,
   "id": "f7f614df-5459-465d-a1dc-fa4534d0aaf4",
   "metadata": {},
   "outputs": [
    {
     "data": {
      "text/plain": [
       "<Axes: >"
      ]
     },
     "execution_count": 57,
     "metadata": {},
     "output_type": "execute_result"
    },
    {
     "data": {
      "image/png": "[encoded data removed]",
      "text/plain": [
       "<Figure size 640x480 with 1 Axes>"
      ]
     },
     "metadata": {},
     "output_type": "display_data"
    }
   ],
   "source": [
    "dataframe.plot.bar(stacked=True)"
   ]
  },
  {
   "cell_type": "code",
   "execution_count": 59,
   "id": "6be1f6cc-50d6-4a8f-94c6-e8ce56b8abba",
   "metadata": {},
   "outputs": [
    {
     "data": {
      "text/plain": [
       "<Axes: xlabel='a', ylabel='b'>"
      ]
     },
     "execution_count": 59,
     "metadata": {},
     "output_type": "execute_result"
    },
    {
     "data": {
      "image/png": "[encoded data removed]",
      "text/plain": [
       "<Figure size 640x480 with 1 Axes>"
      ]
     },
     "metadata": {},
     "output_type": "display_data"
    }
   ],
   "source": [
    "dataframe.plot.scatter(x='a', y='b')"
   ]
  },
  {
   "cell_type": "code",
   "execution_count": 65,
   "id": "809e924a-e584-4d02-afd5-1bb253eee73b",
   "metadata": {},
   "outputs": [
    {
     "data": {
      "text/plain": [
       "<Axes: xlabel='a', ylabel='b'>"
      ]
     },
     "execution_count": 65,
     "metadata": {},
     "output_type": "execute_result"
    },
    {
     "data": {
      "image/png": "[encoded data removed]",
      "text/plain": [
       "<Figure size 640x480 with 2 Axes>"
      ]
     },
     "metadata": {},
     "output_type": "display_data"
    }
   ],
   "source": [
    "dataframe.plot.scatter(x='a', y='b', c='c')"
   ]
  },
  {
   "cell_type": "code",
   "execution_count": 67,
   "id": "7a486f77-7a62-48df-92a5-24fc3e0eb93e",
   "metadata": {},
   "outputs": [
    {
     "data": {
      "text/plain": [
       "<Axes: xlabel='a', ylabel='b'>"
      ]
     },
     "execution_count": 67,
     "metadata": {},
     "output_type": "execute_result"
    },
    {
     "data": {
      "image/png": "[encoded data removed]",
      "text/plain": [
       "<Figure size 640x480 with 2 Axes>"
      ]
     },
     "metadata": {},
     "output_type": "display_data"
    }
   ],
   "source": [
    "dataframe.plot.scatter(x='a', y='b', c='c', cmap='coolwarm')"
   ]
  },
  {
   "cell_type": "code",
   "execution_count": 69,
   "id": "cea5d9a5-0eed-4d4a-b789-02e8c7ca78c7",
   "metadata": {},
   "outputs": [
    {
     "data": {
      "text/plain": [
       "<Axes: >"
      ]
     },
     "execution_count": 69,
     "metadata": {},
     "output_type": "execute_result"
    },
    {
     "data": {
      "image/png": "[encoded data removed]",
      "text/plain": [
       "<Figure size 640x480 with 1 Axes>"
      ]
     },
     "metadata": {},
     "output_type": "display_data"
    }
   ],
   "source": [
    "dataframe.plot.box()"
   ]
  },
  {
   "cell_type": "code",
   "execution_count": 71,
   "id": "2fedd173-3043-4a71-bf12-e360cb50f9ae",
   "metadata": {},
   "outputs": [
    {
     "data": {
      "text/plain": [
       "<Axes: xlabel='a', ylabel='b'>"
      ]
     },
     "execution_count": 71,
     "metadata": {},
     "output_type": "execute_result"
    },
    {
     "data": {
      "image/png": "[encoded data removed]",
      "text/plain": [
       "<Figure size 640x480 with 2 Axes>"
      ]
     },
     "metadata": {},
     "output_type": "display_data"
    }
   ],
   "source": [
    "dataframe.plot.hexbin(x='a', y='b', gridsize=12)"
   ]
  },
  {
   "cell_type": "code",
   "execution_count": 73,
   "id": "2a61fc60-f359-4ed6-bc6f-323516ec8ba7",
   "metadata": {},
   "outputs": [
    {
     "data": {
      "text/plain": [
       "<Axes: ylabel='Density'>"
      ]
     },
     "execution_count": 73,
     "metadata": {},
     "output_type": "execute_result"
    },
    {
     "data": {
      "image/png": "[encoded data removed]",
      "text/plain": [
       "<Figure size 640x480 with 1 Axes>"
      ]
     },
     "metadata": {},
     "output_type": "display_data"
    }
   ],
   "source": [
    "dataframe.plot.kde()"
   ]
  },
  {
   "cell_type": "code",
   "execution_count": 75,
   "id": "50f336e9-92a1-4f21-a338-61e14e1f9bd5",
   "metadata": {},
   "outputs": [
    {
     "data": {
      "text/plain": [
       "<Axes: ylabel='Density'>"
      ]
     },
     "execution_count": 75,
     "metadata": {},
     "output_type": "execute_result"
    },
    {
     "data": {
      "image/png": "[encoded data removed]",
      "text/plain": [
       "<Figure size 640x480 with 1 Axes>"
      ]
     },
     "metadata": {},
     "output_type": "display_data"
    }
   ],
   "source": [
    "dataframe.plot.density()"
   ]
  },
  {
   "cell_type": "markdown",
   "id": "fc800561-7a04-4484-9198-0fe345736cb9",
   "metadata": {},
   "source": [
    "## Ejercicio 1"
   ]
  },
  {
   "cell_type": "markdown",
   "id": "ab62d6d0-dfb9-42f7-8a22-7d1afb3b6f13",
   "metadata": {},
   "source": [
    "### Crear:\n",
    "* Crea una lista \"asignaturas\" con los textos \"matematicas\", \"fisica\", \"historia\"\n",
    "* crea una lista \"notas\" con los valores 9, 9, 8\n",
    "* crea unaserie con la lista \"notas\" como valores, y la lista \"asignaturas\" vomo indices\n",
    "* crea la variable \"nota_fisica\" con la nota de la asignatura de \"fisica\"\n",
    "* mediante el metodo \"print\" muestra la frase \"La asignatura de fisica es un...\"(sustituir...por la nota de fisica)"
   ]
  },
  {
   "cell_type": "code",
   "execution_count": 80,
   "id": "9b271660-c8ac-49eb-b874-8fcfdc7475fd",
   "metadata": {},
   "outputs": [],
   "source": [
    "import pandas as pd"
   ]
  },
  {
   "cell_type": "code",
   "execution_count": 82,
   "id": "c0fbfe56-7175-4838-9aea-29500d972bec",
   "metadata": {},
   "outputs": [
    {
     "data": {
      "text/plain": [
       "['matematicas', 'fisica', 'historia']"
      ]
     },
     "execution_count": 82,
     "metadata": {},
     "output_type": "execute_result"
    }
   ],
   "source": [
    "asignaturas = ['matematicas', 'fisica', 'historia']\n",
    "asignaturas"
   ]
  },
  {
   "cell_type": "code",
   "execution_count": 84,
   "id": "1eeaf336-4258-449f-89f5-329571327c5e",
   "metadata": {},
   "outputs": [],
   "source": [
    "notas = [9, 9, 8]"
   ]
  },
  {
   "cell_type": "code",
   "execution_count": 86,
   "id": "33189244-8d62-4d05-b59a-7f9a718b7b8f",
   "metadata": {},
   "outputs": [
    {
     "data": {
      "text/plain": [
       "[9, 9, 8]"
      ]
     },
     "execution_count": 86,
     "metadata": {},
     "output_type": "execute_result"
    }
   ],
   "source": [
    "notas"
   ]
  },
  {
   "cell_type": "code",
   "execution_count": 88,
   "id": "c5c0e54d-d39e-476c-8c7d-6f223c052b8e",
   "metadata": {},
   "outputs": [],
   "source": [
    "serie = pd.Series(data=notas, index=asignaturas)"
   ]
  },
  {
   "cell_type": "code",
   "execution_count": 90,
   "id": "e62fbc41-3a91-4c81-a94b-c4eb0fa19101",
   "metadata": {},
   "outputs": [
    {
     "data": {
      "text/plain": [
       "matematicas    9\n",
       "fisica         9\n",
       "historia       8\n",
       "dtype: int64"
      ]
     },
     "execution_count": 90,
     "metadata": {},
     "output_type": "execute_result"
    }
   ],
   "source": [
    "serie"
   ]
  },
  {
   "cell_type": "code",
   "execution_count": 92,
   "id": "acbf18b7-6794-4d03-8bef-d8f5c31dbc39",
   "metadata": {},
   "outputs": [],
   "source": [
    "nota_fisica = serie['fisica']"
   ]
  },
  {
   "cell_type": "code",
   "execution_count": 94,
   "id": "f2e70a9a-bb10-4643-a356-9589db2c63e6",
   "metadata": {},
   "outputs": [
    {
     "data": {
      "text/plain": [
       "9"
      ]
     },
     "execution_count": 94,
     "metadata": {},
     "output_type": "execute_result"
    }
   ],
   "source": [
    "nota_fisica"
   ]
  },
  {
   "cell_type": "code",
   "execution_count": 98,
   "id": "441d4a0d-7e4c-4108-b2f8-e59b051d475d",
   "metadata": {},
   "outputs": [
    {
     "name": "stdout",
     "output_type": "stream",
     "text": [
      "La nota de fisica es un 9\n"
     ]
    }
   ],
   "source": [
    "print(\"La nota de fisica es un {}\".format(nota_fisica))"
   ]
  },
  {
   "cell_type": "markdown",
   "id": "2e3247ef-7c3e-4013-a969-442e5fd4e0a1",
   "metadata": {},
   "source": [
    "## Ejercicio 2"
   ]
  },
  {
   "cell_type": "markdown",
   "id": "619da31b-6be1-4421-b87f-0b33079365ea",
   "metadata": {},
   "source": [
    "* El objetivo será crear un dataframe con las ventas de uestras 3 oficinas para los meses de enero, febrero y marzo\n",
    "* pasos a seguir:\n",
    "* crear una variable \"ventas-enero\" que contenga una lista de 3 números enteros aleatorios entre 100 y 500\n",
    "* crear una variable \"ventas_febrero\" que contenga una lista de 3 números enteros aletorios entre 100 y 500\n",
    "* crear una variable \"ventas_marzo\" que contenga una lista de 3 números enteros aletorios entre 100 y 50\n",
    "* crear una variable \"filas\" que contenga esta lista de palabras : 'ventas_enero', 'ventas_febrero', 'ventas_marzo'\n",
    "* crear una variable \"columnas\" que contenga esta lista palabras: 'oficina1', 'oficina2', 'oficina3'\n",
    "* crear una variable \"ventas\" que contenga una lista con los valores de venta de enero, febrero y marzo\n",
    "* crear una variable \"dataframe\" que contenga las ventas , filas, columnas\n",
    "* mediante \"print\" muestra el valor de \"Las ventas de enero para la oficina 1 son de...\" \n"
   ]
  },
  {
   "cell_type": "code",
   "execution_count": 105,
   "id": "4d04d442-d152-4b20-bab7-067e67794aa0",
   "metadata": {},
   "outputs": [],
   "source": [
    "import numpy as np\n",
    "import pandas as  pd"
   ]
  },
  {
   "cell_type": "code",
   "execution_count": 107,
   "id": "9fce4497-f446-4e38-9c40-289441612ff2",
   "metadata": {},
   "outputs": [
    {
     "data": {
      "text/plain": [
       "array([135, 240, 485])"
      ]
     },
     "execution_count": 107,
     "metadata": {},
     "output_type": "execute_result"
    }
   ],
   "source": [
    "ventas_enero = np.random.randint(100,500,3)\n",
    "ventas_enero"
   ]
  },
  {
   "cell_type": "code",
   "execution_count": 109,
   "id": "165f8a54-c344-4f7b-8c53-6ef6e4a03e87",
   "metadata": {},
   "outputs": [],
   "source": [
    "ventas_febrero = np.random.randint(100,500,3)\n",
    "ventas_marzo = np.random.randint(100,500,3)"
   ]
  },
  {
   "cell_type": "code",
   "execution_count": 111,
   "id": "4e886ab3-6941-4ffd-8287-3b92d9bb8a28",
   "metadata": {},
   "outputs": [
    {
     "data": {
      "text/plain": [
       "array([260, 193, 388])"
      ]
     },
     "execution_count": 111,
     "metadata": {},
     "output_type": "execute_result"
    }
   ],
   "source": [
    "ventas_febrero"
   ]
  },
  {
   "cell_type": "code",
   "execution_count": 113,
   "id": "ccad11df-e92d-4819-a3c2-07f73463b262",
   "metadata": {},
   "outputs": [
    {
     "data": {
      "text/plain": [
       "array([328, 467, 282])"
      ]
     },
     "execution_count": 113,
     "metadata": {},
     "output_type": "execute_result"
    }
   ],
   "source": [
    "ventas_marzo"
   ]
  },
  {
   "cell_type": "code",
   "execution_count": 115,
   "id": "dfbfc471-7f07-4043-992b-6cc9418adcf0",
   "metadata": {},
   "outputs": [],
   "source": [
    "filas = [ 'ventas_enero', 'ventas_febrero', 'ventas_marzo']"
   ]
  },
  {
   "cell_type": "code",
   "execution_count": 117,
   "id": "708fcf96-5c21-4343-89b1-15a6144a1732",
   "metadata": {},
   "outputs": [
    {
     "data": {
      "text/plain": [
       "['ventas_enero', 'ventas_febrero', 'ventas_marzo']"
      ]
     },
     "execution_count": 117,
     "metadata": {},
     "output_type": "execute_result"
    }
   ],
   "source": [
    "filas"
   ]
  },
  {
   "cell_type": "code",
   "execution_count": 119,
   "id": "4a90133b-986c-4d47-8a66-1587a4a93de4",
   "metadata": {},
   "outputs": [],
   "source": [
    "columnas = ['oficina1', 'oficina2', 'oficina3']"
   ]
  },
  {
   "cell_type": "code",
   "execution_count": 121,
   "id": "ca0af77f-363f-433e-9018-eff3bfa3a12b",
   "metadata": {},
   "outputs": [
    {
     "data": {
      "text/plain": [
       "['oficina1', 'oficina2', 'oficina3']"
      ]
     },
     "execution_count": 121,
     "metadata": {},
     "output_type": "execute_result"
    }
   ],
   "source": [
    "columnas"
   ]
  },
  {
   "cell_type": "code",
   "execution_count": 125,
   "id": "d2013a2a-4b52-4da1-92f0-6956099fa25d",
   "metadata": {},
   "outputs": [],
   "source": [
    "ventas = ['ventas_enero', 'ventas_febrero', 'ventas_marzo']"
   ]
  },
  {
   "cell_type": "code",
   "execution_count": 127,
   "id": "fbd01d06-906f-4f89-964b-80b9e8a1bc05",
   "metadata": {},
   "outputs": [
    {
     "data": {
      "text/plain": [
       "['ventas_enero', 'ventas_febrero', 'ventas_marzo']"
      ]
     },
     "execution_count": 127,
     "metadata": {},
     "output_type": "execute_result"
    }
   ],
   "source": [
    "ventas"
   ]
  },
  {
   "cell_type": "code",
   "execution_count": null,
   "id": "a8cd7302-3171-4142-84c7-6b609c789361",
   "metadata": {},
   "outputs": [],
   "source": [
    "import pandas as pd\n",
    "\n",
    "# Ejemplo de datos para las ventas\n",
    "ventas = [\n",
    "    [100, 200, 250],\n",
    "    [210, 300, 425],\n",
    "    [250, 310, 124]\n",
    "]\n",
    "\n",
    "# Definir las filas (índice) y las columnas\n",
    "filas = ['ventas1', 'ventas2', 'ventas3']\n",
    "columnas = ['zonaA', 'zonaB', 'zonaC']\n",
    "\n",
    "# Crear el DataFrame\n",
    "dataframe = pd.DataFrame(ventas, index=filas, columns=columnas)\n",
    "\n",
    "# Mostrar el DataFrame\n",
    "print(dataframe)\n"
   ]
  },
  {
   "cell_type": "code",
   "execution_count": 155,
   "id": "cf05fd1b-80ea-4d39-ba50-f3544a2fae09",
   "metadata": {},
   "outputs": [
    {
     "name": "stdout",
     "output_type": "stream",
     "text": [
      "                oficina1  oficina2  oficina3\n",
      "ventas_enero         135       240       485\n",
      "ventas_febrero       260       193       388\n",
      "ventas_marzo         328       467       282\n"
     ]
    }
   ],
   "source": [
    "ventas = [\n",
    "     [135, 240, 485],\n",
    "     [260, 193, 388],\n",
    "     [328, 467, 282]\n",
    "]\n",
    "# indice de filas\n",
    "filas = ['ventas_enero', 'ventas_febrero', 'ventas_marzo']\n",
    "\n",
    "columnas = ['oficina1', 'oficina2', 'oficina3']   \n",
    "dataframe = pd.DataFrame(ventas, index= filas, columns=columnas)\n",
    "\n",
    "print(dataframe)"
   ]
  },
  {
   "cell_type": "code",
   "execution_count": 157,
   "id": "b952208e-b8e7-49a6-82a5-f04c4ce0520b",
   "metadata": {},
   "outputs": [
    {
     "data": {
      "text/plain": [
       "135"
      ]
     },
     "execution_count": 157,
     "metadata": {},
     "output_type": "execute_result"
    }
   ],
   "source": [
    "dataframe['oficina1']['ventas_enero']"
   ]
  },
  {
   "cell_type": "code",
   "execution_count": 159,
   "id": "4ff98dd5-00f0-40e8-b6da-e760a567dccf",
   "metadata": {},
   "outputs": [],
   "source": [
    "ventas_enero_oficina1 = dataframe['oficina1']['ventas_enero']"
   ]
  },
  {
   "cell_type": "code",
   "execution_count": 161,
   "id": "36fd0f4b-5330-4e4e-a557-62d113247b30",
   "metadata": {},
   "outputs": [
    {
     "data": {
      "text/plain": [
       "135"
      ]
     },
     "execution_count": 161,
     "metadata": {},
     "output_type": "execute_result"
    }
   ],
   "source": [
    "ventas_enero_oficina1"
   ]
  },
  {
   "cell_type": "code",
   "execution_count": 167,
   "id": "0b3ca04e-ded1-4c48-b23e-746935c1ed2d",
   "metadata": {},
   "outputs": [
    {
     "name": "stdout",
     "output_type": "stream",
     "text": [
      "Las ventas de enero de la oficina 1 son de 135\n"
     ]
    }
   ],
   "source": [
    "print(\"Las ventas de enero de la oficina 1 son de {}\".format(ventas_enero_oficina1))"
   ]
  },
  {
   "cell_type": "markdown",
   "id": "076f75a6-5578-478b-84ce-b4e0bf5dd759",
   "metadata": {},
   "source": [
    "## Ejercicio 3"
   ]
  },
  {
   "cell_type": "markdown",
   "id": "5c653a81-2cc0-4757-bdd2-865df14370df",
   "metadata": {},
   "source": [
    "### Calcular promedio\n",
    "Desarrolla una función llamada calcular_promedio que tome como entrada un DataFrame de pandas que contiene datos numéricos y calcule el promedio de cada columna. La función debe devolver un nuevo DataFrame que contenga los promedios de cada columna.\n",
    "\n",
    "\n",
    "\n",
    "def calcular_promedio(dataframe):\n",
    "\n",
    "\n",
    "\n",
    "### Ejemplo de uso\n",
    "data = {\n",
    "    'A': [1, 2, 3, 4],\n",
    "    'B': [5, 6, 7, 8],\n",
    "    'C': [9, 10, 11, 12]\n",
    "}\n",
    " \n",
    "df = pd.DataFrame(data)\n",
    "resultado = calcular_promedio(df)\n",
    "print(resultado)"
   ]
  },
  {
   "cell_type": "code",
   "execution_count": 172,
   "id": "310a3bdb-db7e-4a19-bf43-bd4def52c0b0",
   "metadata": {},
   "outputs": [
    {
     "name": "stdout",
     "output_type": "stream",
     "text": [
      "     A    B     C\n",
      "0  2.5  6.5  10.5\n"
     ]
    }
   ],
   "source": [
    "import pandas as pd\n",
    "\n",
    "def calcular_promedio(dataframe):\n",
    "    # Calcular el promedio de cada columna\n",
    "    promedios = dataframe.mean()\n",
    "    # Crear un nuevo DataFrame con los promedios\n",
    "    promedio_dataframe = pd.DataFrame(promedios).transpose()\n",
    "    return promedio_dataframe\n",
    "\n",
    "# Ejemplo de uso\n",
    "data = {\n",
    "    'A': [1, 2, 3, 4],\n",
    "    'B': [5, 6, 7, 8],\n",
    "    'C': [9, 10, 11, 12]\n",
    "}\n",
    "\n",
    "df = pd.DataFrame(data)\n",
    "resultado = calcular_promedio(df)\n",
    "print(resultado)\n"
   ]
  },
  {
   "cell_type": "code",
   "execution_count": 180,
   "id": "4b259694-03e7-4708-a280-14fccf7bd076",
   "metadata": {},
   "outputs": [
    {
     "name": "stdout",
     "output_type": "stream",
     "text": [
      "A     2.5\n",
      "B     6.5\n",
      "C    10.5\n",
      "dtype: float64\n",
      "A   NaN\n",
      "B   NaN\n",
      "C   NaN\n",
      "dtype: float64\n"
     ]
    }
   ],
   "source": [
    "import pandas as pd\n",
    "\n",
    "def calcular_promedio(dataframe):\n",
    "    # Verificar si el DataFrame está vacío\n",
    "    if dataframe.empty:\n",
    "        # Si el DataFrame está vacío, devolver una Serie vacía con las mismas columnas\n",
    "        return pd.Series(dtype='float64', index=dataframe.columns)\n",
    "    else:\n",
    "        # Calcular el promedio de cada columna y devolver la Serie\n",
    "        return dataframe.mean()\n",
    "\n",
    "# Ejemplo de uso\n",
    "data = {\n",
    "    'A': [1, 2, 3, 4],\n",
    "    'B': [5, 6, 7, 8],\n",
    "    'C': [9, 10, 11, 12]\n",
    "}\n",
    "\n",
    "df = pd.DataFrame(data)\n",
    "resultado = calcular_promedio(df)\n",
    "print(resultado)\n",
    "\n",
    "# Prueba con DataFrame vacío\n",
    "df_vacio = pd.DataFrame(columns=['A', 'B', 'C'])\n",
    "resultado_vacio = calcular_promedio(df_vacio)\n",
    "print(resultado_vacio)\n"
   ]
  },
  {
   "cell_type": "code",
   "execution_count": 184,
   "id": "bff7be33-8905-4c83-b2e8-f4ebf8f89e03",
   "metadata": {},
   "outputs": [
    {
     "name": "stdout",
     "output_type": "stream",
     "text": [
      "1     2.5\n",
      "2     6.5\n",
      "3    10.5\n",
      "dtype: float64\n"
     ]
    }
   ],
   "source": [
    "import pandas as pd\n",
    "\n",
    "def calcular_promedio(dataframe):\n",
    "    # Verificar si el DataFrame está vacío\n",
    "    if dataframe.empty:\n",
    "        # Si el DataFrame está vacío, devolver una Serie vacía con las mismas columnas\n",
    "        return pd.Series(dtype='float64', index=dataframe.columns)\n",
    "    else:\n",
    "        # Calcular el promedio de cada columna y devolver la Serie\n",
    "        return dataframe.mean()\n",
    "\n",
    "# Ejemplo de uso\n",
    "data = {\n",
    "    '1': [1, 2, 3, 4],\n",
    "    '2': [5, 6, 7, 8],\n",
    "    '3': [9, 10, 11, 12]\n",
    "}\n",
    "\n",
    "df = pd.DataFrame(data)\n",
    "resultado = calcular_promedio(df)\n",
    "print(resultado)\n",
    "\n"
   ]
  },
  {
   "cell_type": "markdown",
   "id": "8b293d14-6c54-4296-bdf2-07c0408c8cb5",
   "metadata": {},
   "source": [
    "## Ejercicio 4"
   ]
  },
  {
   "cell_type": "markdown",
   "id": "0a4e4e9f-ee2e-4e62-8180-a395c0144fe4",
   "metadata": {},
   "source": [
    "\n",
    "## Seleccionar datos\n",
    "Desarrolla una función llamada seleccionar_datos que tome como entrada un DataFrame de pandas que contiene información sobre estudiantes (por ejemplo, nombre, edad, calificaciones, etc.) y seleccione un subconjunto de datos basado en ciertos criterios.\n",
    "\n",
    "Los criterios se pueden basar en el nombre, edad o calificaciones\n",
    "\n",
    "\n",
    "\n",
    "\n",
    "\n",
    "def seleccionar_datos(dataframe, criterio):"
   ]
  },
  {
   "cell_type": "code",
   "execution_count": 199,
   "id": "04799ffb-7f28-4683-98c9-b22dc99ac3ea",
   "metadata": {},
   "outputs": [
    {
     "name": "stdout",
     "output_type": "stream",
     "text": [
      "  nombre  edad  calificaciones\n",
      "0  Alice    20              90\n",
      "1    Bob    22              88\n",
      "3  David    25              95\n"
     ]
    }
   ],
   "source": [
    "import pandas as pd\n",
    "\n",
    "def seleccionar_datos(dataframe, criterio):\n",
    "    # Seleccionar los datos según el criterio\n",
    "    datos_seleccionados = dataframe.query(criterio)\n",
    "    return datos_seleccionados\n",
    "\n",
    "# Datos de ejemplo\n",
    "data = {\n",
    "    'nombre': ['Alice', 'Bob', 'Charlie', 'David'],\n",
    "    'edad': [20, 22, 18, 25],\n",
    "    'calificaciones': [90, 88, 75, 95]\n",
    "}\n",
    "\n",
    "# Crear el DataFrame\n",
    "df = pd.DataFrame(data)\n",
    "\n",
    "# Criterio de selección\n",
    "criterio = 'edad > 18'\n",
    "\n",
    "# Usar la función para seleccionar datos\n",
    "resultado = seleccionar_datos(df, criterio)\n",
    "print(resultado)\n"
   ]
  },
  {
   "cell_type": "markdown",
   "id": "74dc4eaa-47f1-48ae-a00b-9abe9a0652b7",
   "metadata": {},
   "source": [
    "## Ejercicio 5"
   ]
  },
  {
   "cell_type": "markdown",
   "id": "72970e56-c523-4323-8737-79b0d21037b8",
   "metadata": {},
   "source": [
    "## Rellenar Valores Nulos con la Media de una Columna\n",
    "Desarrolla una función llamada rellenar_con_media que tome como entrada un DataFrame de pandas y el nombre de una columna. La función debe calcular la media de esa columna y luego llenar los valores nulos en esa columna con la media calculada.\n",
    "\n",
    "\n",
    "\n",
    "def rellenar_con_media(dataframe, columna):"
   ]
  },
  {
   "cell_type": "code",
   "execution_count": 203,
   "id": "02047c75-e364-4b55-8133-318fd02a4a6e",
   "metadata": {},
   "outputs": [
    {
     "name": "stdout",
     "output_type": "stream",
     "text": [
      "    nombre  edad  calificaciones\n",
      "0    Alice  20.0            90.0\n",
      "1      Bob   NaN            88.0\n",
      "2  Charlie  18.0            91.0\n",
      "3    David  25.0            91.0\n",
      "4      Eve   NaN            95.0\n"
     ]
    }
   ],
   "source": [
    "import pandas as pd\n",
    "\n",
    "def rellenar_con_media(dataframe, columna):\n",
    "    # Calcular la media de la columna\n",
    "    media = dataframe[columna].mean()\n",
    "    # Rellenar los valores nulos con la media calculada\n",
    "    dataframe[columna].fillna(media, inplace=True)\n",
    "    return dataframe\n",
    "\n",
    "# Ejemplo de uso\n",
    "data = {\n",
    "    'nombre': ['Alice', 'Bob', 'Charlie', 'David', 'Eve'],\n",
    "    'edad': [20, None, 18, 25, None],\n",
    "    'calificaciones': [90, 88, None, None, 95]\n",
    "}\n",
    "\n",
    "df = pd.DataFrame(data)\n",
    "columna = 'calificaciones'\n",
    "\n",
    "resultado = rellenar_con_media(df, columna)\n",
    "print(resultado)\n"
   ]
  }
 ],
 "metadata": {
  "kernelspec": {
   "display_name": "Python 3 (ipykernel)",
   "language": "python",
   "name": "python3"
  },
  "language_info": {
   "codemirror_mode": {
    "name": "ipython",
    "version": 3
   },
   "file_extension": ".py",
   "mimetype": "text/x-python",
   "name": "python",
   "nbconvert_exporter": "python",
   "pygments_lexer": "ipython3",
   "version": "3.11.7"
  }
 },
 "nbformat": 4,
 "nbformat_minor": 5
}
