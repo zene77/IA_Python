{
 "cells": [
  {
   "cell_type": "markdown",
   "id": "7a7e5f6d-39d7-4556-ba03-cbdeddb95c7d",
   "metadata": {},
   "source": [
    "---\n",
    "# Python básico"
   ]
  },
  {
   "cell_type": "markdown",
   "id": "ccbf1b2c-9523-478b-94a2-6867394db4e1",
   "metadata": {},
   "source": [
    "---"
   ]
  },
  {
   "cell_type": "markdown",
   "id": "0a4c2888-e92b-4bd1-9dc2-526ac8934275",
   "metadata": {},
   "source": [
    "# Números"
   ]
  },
  {
   "cell_type": "code",
   "execution_count": 9,
   "id": "0cb28454-db17-4b06-a9e1-87928b1a2181",
   "metadata": {},
   "outputs": [
    {
     "data": {
      "text/plain": [
       "8"
      ]
     },
     "execution_count": 9,
     "metadata": {},
     "output_type": "execute_result"
    }
   ],
   "source": [
    "3+5"
   ]
  },
  {
   "cell_type": "code",
   "execution_count": 11,
   "id": "f23a062e-7113-4f54-a491-3ebc537e2cd9",
   "metadata": {},
   "outputs": [],
   "source": [
    "# Variable = 8\n",
    "# Valor 3\n",
    "# Valor 5"
   ]
  },
  {
   "cell_type": "code",
   "execution_count": 19,
   "id": "cfb99e51-3216-40bb-b5d5-248a51232d4a",
   "metadata": {},
   "outputs": [],
   "source": [
    "valor1 = 3\n",
    "valor2 = 5"
   ]
  },
  {
   "cell_type": "code",
   "execution_count": 21,
   "id": "4426e63a-845b-4589-9627-70f6323accbb",
   "metadata": {},
   "outputs": [],
   "source": [
    "resultado = valor1 + valor2\n"
   ]
  },
  {
   "cell_type": "code",
   "execution_count": 23,
   "id": "8e3c9d88-e09d-4a49-8e20-5393fbaa5ee7",
   "metadata": {},
   "outputs": [
    {
     "data": {
      "text/plain": [
       "8"
      ]
     },
     "execution_count": 23,
     "metadata": {},
     "output_type": "execute_result"
    }
   ],
   "source": [
    "resultado"
   ]
  },
  {
   "cell_type": "code",
   "execution_count": 25,
   "id": "93768574-644f-49cb-8bbd-0390a173344c",
   "metadata": {},
   "outputs": [
    {
     "name": "stdout",
     "output_type": "stream",
     "text": [
      "8\n"
     ]
    }
   ],
   "source": [
    "print(resultado)"
   ]
  },
  {
   "cell_type": "markdown",
   "id": "1378f932-9686-41bb-b52e-d1354ee82580",
   "metadata": {},
   "source": [
    "# Cadenas de caracteres y formatos de impreción"
   ]
  },
  {
   "cell_type": "code",
   "execution_count": 28,
   "id": "740ade79-1c14-4cb3-ac88-b99591978f60",
   "metadata": {},
   "outputs": [
    {
     "data": {
      "text/plain": [
       "'Hola que tal'"
      ]
     },
     "execution_count": 28,
     "metadata": {},
     "output_type": "execute_result"
    }
   ],
   "source": [
    "'Hola que tal'"
   ]
  },
  {
   "cell_type": "code",
   "execution_count": 30,
   "id": "5d3372de-8864-40bd-a642-98f231a664a6",
   "metadata": {},
   "outputs": [
    {
     "data": {
      "text/plain": [
       "'Esto es una cadena'"
      ]
     },
     "execution_count": 30,
     "metadata": {},
     "output_type": "execute_result"
    }
   ],
   "source": [
    "\"Esto es una cadena\""
   ]
  },
  {
   "cell_type": "code",
   "execution_count": 32,
   "id": "0b59d4cc-0a7c-4e74-b176-31d04a139d36",
   "metadata": {},
   "outputs": [],
   "source": [
    "cadena = 'Buenas días'"
   ]
  },
  {
   "cell_type": "code",
   "execution_count": 34,
   "id": "102ff820-a374-468a-939c-33a1f9049e08",
   "metadata": {},
   "outputs": [
    {
     "data": {
      "text/plain": [
       "'Buenas días'"
      ]
     },
     "execution_count": 34,
     "metadata": {},
     "output_type": "execute_result"
    }
   ],
   "source": [
    "cadena"
   ]
  },
  {
   "cell_type": "code",
   "execution_count": 36,
   "id": "ff8a2170-6a70-4f83-99e7-8c264e0e3408",
   "metadata": {},
   "outputs": [
    {
     "name": "stdout",
     "output_type": "stream",
     "text": [
      "Buenas días\n"
     ]
    }
   ],
   "source": [
    "print(cadena)"
   ]
  },
  {
   "cell_type": "code",
   "execution_count": 38,
   "id": "5beb9d66-3b51-4428-96bb-fb862d9e91ce",
   "metadata": {},
   "outputs": [],
   "source": [
    "nombre = \"Antonio\"\n",
    "edad = 30"
   ]
  },
  {
   "cell_type": "code",
   "execution_count": 42,
   "id": "9581871a-a349-4458-985a-02a6d44a4673",
   "metadata": {},
   "outputs": [
    {
     "name": "stdout",
     "output_type": "stream",
     "text": [
      "Mi nombre es Antonio y tengo 30 años\n"
     ]
    }
   ],
   "source": [
    "print(\"Mi nombre es {} y tengo {} años\".format(nombre,edad))"
   ]
  },
  {
   "cell_type": "code",
   "execution_count": 44,
   "id": "ce671745-dd39-495f-b2b0-47236bda1c38",
   "metadata": {},
   "outputs": [
    {
     "name": "stdout",
     "output_type": "stream",
     "text": [
      "Mi nombre es Antonio y tengo 30 años\n"
     ]
    }
   ],
   "source": [
    "nombre = \"Antonio\"\n",
    "edad = 30\n",
    "print(\"Mi nombre es {variable1} y tengo {variable2} años\".format(variable1=nombre, variable2=edad))"
   ]
  },
  {
   "cell_type": "code",
   "execution_count": 46,
   "id": "d4a99621-080f-43c0-89a3-bde62f3bdde7",
   "metadata": {},
   "outputs": [],
   "source": [
    "cadena =  \"futbol\""
   ]
  },
  {
   "cell_type": "code",
   "execution_count": 48,
   "id": "59d4e7e9-884f-4868-9633-b01772dfe4ba",
   "metadata": {},
   "outputs": [
    {
     "data": {
      "text/plain": [
       "'f'"
      ]
     },
     "execution_count": 48,
     "metadata": {},
     "output_type": "execute_result"
    }
   ],
   "source": [
    "cadena[0]"
   ]
  },
  {
   "cell_type": "code",
   "execution_count": 50,
   "id": "b2526ed7-4e27-47ca-a9e1-d91a2a1a7efc",
   "metadata": {},
   "outputs": [
    {
     "data": {
      "text/plain": [
       "'u'"
      ]
     },
     "execution_count": 50,
     "metadata": {},
     "output_type": "execute_result"
    }
   ],
   "source": [
    "cadena[1]"
   ]
  },
  {
   "cell_type": "code",
   "execution_count": 52,
   "id": "aabcec2e-8a09-4190-8614-037754f221a0",
   "metadata": {},
   "outputs": [
    {
     "data": {
      "text/plain": [
       "'t'"
      ]
     },
     "execution_count": 52,
     "metadata": {},
     "output_type": "execute_result"
    }
   ],
   "source": [
    "cadena[2]"
   ]
  },
  {
   "cell_type": "code",
   "execution_count": 58,
   "id": "0dfb03b8-5ffe-4ae8-a9d1-cba685d98e2b",
   "metadata": {},
   "outputs": [
    {
     "data": {
      "text/plain": [
       "'l'"
      ]
     },
     "execution_count": 58,
     "metadata": {},
     "output_type": "execute_result"
    }
   ],
   "source": [
    "cadena[5]"
   ]
  },
  {
   "cell_type": "code",
   "execution_count": 54,
   "id": "a44ccc32-5d7d-4492-9c4d-fa5471439a27",
   "metadata": {},
   "outputs": [
    {
     "data": {
      "text/plain": [
       "'l'"
      ]
     },
     "execution_count": 54,
     "metadata": {},
     "output_type": "execute_result"
    }
   ],
   "source": [
    "cadena[-1]"
   ]
  },
  {
   "cell_type": "code",
   "execution_count": 60,
   "id": "7bfcdeb9-613d-4339-813c-3eb86c01ff61",
   "metadata": {},
   "outputs": [
    {
     "data": {
      "text/plain": [
       "'utb'"
      ]
     },
     "execution_count": 60,
     "metadata": {},
     "output_type": "execute_result"
    }
   ],
   "source": [
    "cadena[1:4]"
   ]
  },
  {
   "cell_type": "markdown",
   "id": "341f75b3-4912-4694-9a92-3dfc105ede71",
   "metadata": {},
   "source": [
    "# Lista"
   ]
  },
  {
   "cell_type": "code",
   "execution_count": 63,
   "id": "dbf22a0d-0b4e-484d-843b-b6645d3be4ad",
   "metadata": {},
   "outputs": [
    {
     "data": {
      "text/plain": [
       "[1, 2, 3, 4]"
      ]
     },
     "execution_count": 63,
     "metadata": {},
     "output_type": "execute_result"
    }
   ],
   "source": [
    "[1,2,3,4]"
   ]
  },
  {
   "cell_type": "code",
   "execution_count": 65,
   "id": "13dfcbaf-963a-4211-a215-2aabda4e5304",
   "metadata": {},
   "outputs": [
    {
     "data": {
      "text/plain": [
       "['a', 'b', 'c', 'adios']"
      ]
     },
     "execution_count": 65,
     "metadata": {},
     "output_type": "execute_result"
    }
   ],
   "source": [
    "['a','b','c','adios']"
   ]
  },
  {
   "cell_type": "code",
   "execution_count": 71,
   "id": "10ccc92e-746a-4cb1-af3f-fcd1681fcd1a",
   "metadata": {},
   "outputs": [
    {
     "data": {
      "text/plain": [
       "['a', 'b', 'c', 'd']"
      ]
     },
     "execution_count": 71,
     "metadata": {},
     "output_type": "execute_result"
    }
   ],
   "source": [
    "lista = ['a','b','c','d']\n",
    "lista"
   ]
  },
  {
   "cell_type": "code",
   "execution_count": 73,
   "id": "a3f111bb-eb5a-4ead-87d3-cf5dd36459ae",
   "metadata": {},
   "outputs": [
    {
     "data": {
      "text/plain": [
       "['a', 'b', 'c', 'd', 'e']"
      ]
     },
     "execution_count": 73,
     "metadata": {},
     "output_type": "execute_result"
    }
   ],
   "source": [
    "lista.append('e')\n",
    "lista"
   ]
  },
  {
   "cell_type": "code",
   "execution_count": 75,
   "id": "96dcebfc-b4fb-4c97-8e27-6bcb3e14eafa",
   "metadata": {},
   "outputs": [
    {
     "data": {
      "text/plain": [
       "'a'"
      ]
     },
     "execution_count": 75,
     "metadata": {},
     "output_type": "execute_result"
    }
   ],
   "source": [
    "lista[0]"
   ]
  },
  {
   "cell_type": "code",
   "execution_count": 77,
   "id": "a38777b0-f207-41e0-8fb2-91df3b1b4654",
   "metadata": {},
   "outputs": [
    {
     "data": {
      "text/plain": [
       "'e'"
      ]
     },
     "execution_count": 77,
     "metadata": {},
     "output_type": "execute_result"
    }
   ],
   "source": [
    "lista[-1]"
   ]
  },
  {
   "cell_type": "code",
   "execution_count": 79,
   "id": "4fd0c5f5-1c6c-42a8-9756-504222a8aba4",
   "metadata": {},
   "outputs": [
    {
     "data": {
      "text/plain": [
       "['b', 'c']"
      ]
     },
     "execution_count": 79,
     "metadata": {},
     "output_type": "execute_result"
    }
   ],
   "source": [
    "lista[1:3]"
   ]
  },
  {
   "cell_type": "code",
   "execution_count": 81,
   "id": "a355e50e-3e81-4979-87b7-1eb9182d4011",
   "metadata": {},
   "outputs": [
    {
     "data": {
      "text/plain": [
       "(1, 2, 3, ['a', 'b', 'c'])"
      ]
     },
     "execution_count": 81,
     "metadata": {},
     "output_type": "execute_result"
    }
   ],
   "source": [
    "listadoble = (1,2,3,['a','b','c'])\n",
    "listadoble"
   ]
  },
  {
   "cell_type": "code",
   "execution_count": 83,
   "id": "e43464a7-4165-4269-97ea-493348908034",
   "metadata": {},
   "outputs": [
    {
     "data": {
      "text/plain": [
       "'a'"
      ]
     },
     "execution_count": 83,
     "metadata": {},
     "output_type": "execute_result"
    }
   ],
   "source": [
    "lista[0]"
   ]
  },
  {
   "cell_type": "code",
   "execution_count": 85,
   "id": "f0dbacb6-7e88-4ac7-aa2e-d7dc7a80147c",
   "metadata": {},
   "outputs": [
    {
     "data": {
      "text/plain": [
       "['a', 'b', 'c']"
      ]
     },
     "execution_count": 85,
     "metadata": {},
     "output_type": "execute_result"
    }
   ],
   "source": [
    "listadoble[3]"
   ]
  },
  {
   "cell_type": "code",
   "execution_count": 89,
   "id": "6bb82a36-36d2-40b4-b994-debef7bf7870",
   "metadata": {},
   "outputs": [
    {
     "data": {
      "text/plain": [
       "'a'"
      ]
     },
     "execution_count": 89,
     "metadata": {},
     "output_type": "execute_result"
    }
   ],
   "source": [
    "listadoble[3][0]"
   ]
  },
  {
   "cell_type": "markdown",
   "id": "e6fdd5f8-c0ba-4749-8725-1c6cf88c7bbf",
   "metadata": {},
   "source": [
    "# Diccionarios"
   ]
  },
  {
   "cell_type": "code",
   "execution_count": 92,
   "id": "f0615fd8-92ec-4058-aee8-ecb2979383a7",
   "metadata": {},
   "outputs": [],
   "source": [
    "diccionario = {'clave1':'valor1','clave2':'valor2'}"
   ]
  },
  {
   "cell_type": "code",
   "execution_count": 98,
   "id": "ab777dcf-e361-49c9-80f7-59c96d208a21",
   "metadata": {},
   "outputs": [
    {
     "data": {
      "text/plain": [
       "'valor1'"
      ]
     },
     "execution_count": 98,
     "metadata": {},
     "output_type": "execute_result"
    }
   ],
   "source": [
    "diccionario['clave1']"
   ]
  },
  {
   "cell_type": "code",
   "execution_count": 100,
   "id": "0b89f73e-3cd4-468b-a988-2939b9ba35d3",
   "metadata": {},
   "outputs": [],
   "source": [
    "diccionario1 = {'nombre':'Antonio','edad':30}"
   ]
  },
  {
   "cell_type": "code",
   "execution_count": 102,
   "id": "85697c23-ebfa-4e85-9dcb-f01a7b3407a1",
   "metadata": {},
   "outputs": [
    {
     "data": {
      "text/plain": [
       "'Antonio'"
      ]
     },
     "execution_count": 102,
     "metadata": {},
     "output_type": "execute_result"
    }
   ],
   "source": [
    "diccionario1['nombre']"
   ]
  },
  {
   "cell_type": "code",
   "execution_count": 104,
   "id": "7bf68bc9-07bc-4568-965b-b4154e24ff32",
   "metadata": {},
   "outputs": [
    {
     "data": {
      "text/plain": [
       "30"
      ]
     },
     "execution_count": 104,
     "metadata": {},
     "output_type": "execute_result"
    }
   ],
   "source": [
    "diccionario1['edad']"
   ]
  },
  {
   "cell_type": "markdown",
   "id": "30f302ac-da5d-42e4-a262-b4be38b41390",
   "metadata": {},
   "source": [
    "# Tipo de boolean"
   ]
  },
  {
   "cell_type": "code",
   "execution_count": 109,
   "id": "c79d0117-a60b-4f67-9f02-1c9b385e3763",
   "metadata": {},
   "outputs": [
    {
     "data": {
      "text/plain": [
       "True"
      ]
     },
     "execution_count": 109,
     "metadata": {},
     "output_type": "execute_result"
    }
   ],
   "source": [
    "5==5"
   ]
  },
  {
   "cell_type": "code",
   "execution_count": 111,
   "id": "a8d138bc-34d0-4795-a2d2-64caa89358c8",
   "metadata": {},
   "outputs": [
    {
     "data": {
      "text/plain": [
       "False"
      ]
     },
     "execution_count": 111,
     "metadata": {},
     "output_type": "execute_result"
    }
   ],
   "source": [
    "5==6"
   ]
  },
  {
   "cell_type": "code",
   "execution_count": 115,
   "id": "a41d126e-d752-4b13-9e8b-63653d746fac",
   "metadata": {},
   "outputs": [
    {
     "data": {
      "text/plain": [
       "True"
      ]
     },
     "execution_count": 115,
     "metadata": {},
     "output_type": "execute_result"
    }
   ],
   "source": [
    "resultado = (5==5)\n",
    "resultado"
   ]
  },
  {
   "cell_type": "code",
   "execution_count": 117,
   "id": "9ab05e2b-a0a5-43f7-adb7-09e21bc43436",
   "metadata": {},
   "outputs": [],
   "source": [
    "a = 5\n",
    "b = 6\n",
    "resultado = (a==b)"
   ]
  },
  {
   "cell_type": "code",
   "execution_count": 119,
   "id": "4bbf2755-9251-44d6-a01e-7e037be316c3",
   "metadata": {},
   "outputs": [
    {
     "data": {
      "text/plain": [
       "False"
      ]
     },
     "execution_count": 119,
     "metadata": {},
     "output_type": "execute_result"
    }
   ],
   "source": [
    "resultado"
   ]
  },
  {
   "cell_type": "markdown",
   "id": "f27bb0bc-92c9-4381-989b-d8436331d448",
   "metadata": {},
   "source": [
    "# Tuplas"
   ]
  },
  {
   "cell_type": "code",
   "execution_count": 139,
   "id": "87f0ed07-1262-444e-b401-6d4cdedd6ac2",
   "metadata": {},
   "outputs": [],
   "source": [
    "tupla = (1,2,3)"
   ]
  },
  {
   "cell_type": "code",
   "execution_count": 133,
   "id": "b143f97c-a1e0-42b8-bcb7-428c723a4e1f",
   "metadata": {},
   "outputs": [
    {
     "data": {
      "text/plain": [
       "1"
      ]
     },
     "execution_count": 133,
     "metadata": {},
     "output_type": "execute_result"
    }
   ],
   "source": [
    "tupla[0]"
   ]
  },
  {
   "cell_type": "code",
   "execution_count": 135,
   "id": "e1f302a0-e74a-4367-959b-f4c3faaf7ec7",
   "metadata": {},
   "outputs": [
    {
     "data": {
      "text/plain": [
       "3"
      ]
     },
     "execution_count": 135,
     "metadata": {},
     "output_type": "execute_result"
    }
   ],
   "source": [
    "tupla[-1]"
   ]
  },
  {
   "cell_type": "markdown",
   "id": "5ef79bbd-79f5-40f6-9771-2eab26462ce9",
   "metadata": {},
   "source": [
    "# Conjuntos"
   ]
  },
  {
   "cell_type": "code",
   "execution_count": 142,
   "id": "dadb2144-0f66-4747-b002-7d808c19254e",
   "metadata": {},
   "outputs": [],
   "source": [
    "conjunto = {1,2,3,4}"
   ]
  },
  {
   "cell_type": "code",
   "execution_count": 144,
   "id": "70c8e73f-4d7c-484a-8a4d-b492f030e831",
   "metadata": {},
   "outputs": [
    {
     "data": {
      "text/plain": [
       "{1, 2, 3, 4}"
      ]
     },
     "execution_count": 144,
     "metadata": {},
     "output_type": "execute_result"
    }
   ],
   "source": [
    "conjunto"
   ]
  },
  {
   "cell_type": "code",
   "execution_count": 150,
   "id": "dcd33b5f-048f-414f-8c03-d3705c1fc6fc",
   "metadata": {},
   "outputs": [],
   "source": [
    "conjunto2 = {1,2,3,1,4,6,6,7} # elimina dublicados"
   ]
  },
  {
   "cell_type": "code",
   "execution_count": 152,
   "id": "e048d433-cd89-4ba0-ba44-ec7921b6c798",
   "metadata": {},
   "outputs": [
    {
     "data": {
      "text/plain": [
       "{1, 2, 3, 4, 6, 7}"
      ]
     },
     "execution_count": 152,
     "metadata": {},
     "output_type": "execute_result"
    }
   ],
   "source": [
    "conjunto2"
   ]
  },
  {
   "cell_type": "code",
   "execution_count": 156,
   "id": "1f29afad-e2a8-4e10-8dd5-32c183785baf",
   "metadata": {},
   "outputs": [],
   "source": [
    "lista = [1,2,3,1,6,4,4]\n",
    "conjunto = set(lista)"
   ]
  },
  {
   "cell_type": "code",
   "execution_count": 158,
   "id": "e3a58db2-6694-4dfd-b216-e60432978eea",
   "metadata": {},
   "outputs": [
    {
     "data": {
      "text/plain": [
       "{1, 2, 3, 4, 6}"
      ]
     },
     "execution_count": 158,
     "metadata": {},
     "output_type": "execute_result"
    }
   ],
   "source": [
    "conjunto"
   ]
  },
  {
   "cell_type": "markdown",
   "id": "77138b10-d072-4d7c-804b-305be6ef3ccd",
   "metadata": {},
   "source": [
    "# Operadores condicionales "
   ]
  },
  {
   "cell_type": "code",
   "execution_count": 161,
   "id": "e0279502-7af5-4b8d-a2db-b3e02895d4c3",
   "metadata": {},
   "outputs": [
    {
     "data": {
      "text/plain": [
       "True"
      ]
     },
     "execution_count": 161,
     "metadata": {},
     "output_type": "execute_result"
    }
   ],
   "source": [
    "5==5"
   ]
  },
  {
   "cell_type": "code",
   "execution_count": 163,
   "id": "f636c905-8a63-47ee-b545-74861e210393",
   "metadata": {},
   "outputs": [
    {
     "data": {
      "text/plain": [
       "False"
      ]
     },
     "execution_count": 163,
     "metadata": {},
     "output_type": "execute_result"
    }
   ],
   "source": [
    "valor1 = 5\n",
    "valor2 =4\n",
    "valor1==valor2"
   ]
  },
  {
   "cell_type": "code",
   "execution_count": 165,
   "id": "0b8abd59-6375-475a-92c7-b397c9fae74c",
   "metadata": {},
   "outputs": [
    {
     "data": {
      "text/plain": [
       "True"
      ]
     },
     "execution_count": 165,
     "metadata": {},
     "output_type": "execute_result"
    }
   ],
   "source": [
    "3>2"
   ]
  },
  {
   "cell_type": "code",
   "execution_count": 167,
   "id": "8adb55cc-dcd3-41ce-b324-ec9f50fcb26d",
   "metadata": {},
   "outputs": [
    {
     "data": {
      "text/plain": [
       "True"
      ]
     },
     "execution_count": 167,
     "metadata": {},
     "output_type": "execute_result"
    }
   ],
   "source": [
    "2<3"
   ]
  },
  {
   "cell_type": "code",
   "execution_count": 169,
   "id": "c4998113-acc5-46a2-af0b-cfad1c08e896",
   "metadata": {},
   "outputs": [
    {
     "data": {
      "text/plain": [
       "True"
      ]
     },
     "execution_count": 169,
     "metadata": {},
     "output_type": "execute_result"
    }
   ],
   "source": [
    "3>=3"
   ]
  },
  {
   "cell_type": "code",
   "execution_count": 177,
   "id": "bc0acd20-b5bc-42b5-9768-9acf2d343413",
   "metadata": {},
   "outputs": [
    {
     "data": {
      "text/plain": [
       "True"
      ]
     },
     "execution_count": 177,
     "metadata": {},
     "output_type": "execute_result"
    }
   ],
   "source": [
    "valor1 = 5\n",
    "valor2 =4\n",
    "valor1!= valor2"
   ]
  },
  {
   "cell_type": "code",
   "execution_count": 179,
   "id": "bb6ea828-4c10-4954-840c-afa556f36392",
   "metadata": {},
   "outputs": [
    {
     "data": {
      "text/plain": [
       "True"
      ]
     },
     "execution_count": 179,
     "metadata": {},
     "output_type": "execute_result"
    }
   ],
   "source": [
    "(5<7) and (8>5)  # Tiene que cumplir condición"
   ]
  },
  {
   "cell_type": "code",
   "execution_count": 181,
   "id": "6c8cc942-d5f4-4df1-84a1-61f0a0a38810",
   "metadata": {},
   "outputs": [
    {
     "data": {
      "text/plain": [
       "False"
      ]
     },
     "execution_count": 181,
     "metadata": {},
     "output_type": "execute_result"
    }
   ],
   "source": [
    "(5<7) and (8<5)  # Tiene que cumplir condición\n"
   ]
  },
  {
   "cell_type": "code",
   "execution_count": 183,
   "id": "01d5b9b7-f123-4197-8e22-bc958a6f74b1",
   "metadata": {},
   "outputs": [
    {
     "data": {
      "text/plain": [
       "True"
      ]
     },
     "execution_count": 183,
     "metadata": {},
     "output_type": "execute_result"
    }
   ],
   "source": [
    "(5<7) or (8<5)  \n"
   ]
  },
  {
   "cell_type": "code",
   "execution_count": 185,
   "id": "9bb1ffd6-3331-46cd-a6b9-98bfe41c2f88",
   "metadata": {},
   "outputs": [
    {
     "data": {
      "text/plain": [
       "True"
      ]
     },
     "execution_count": 185,
     "metadata": {},
     "output_type": "execute_result"
    }
   ],
   "source": [
    "(5<7) and (8>5)  and (3<4)"
   ]
  },
  {
   "cell_type": "code",
   "execution_count": 187,
   "id": "0b244cc5-bb49-4c0e-8656-a5dbd64c0bf9",
   "metadata": {},
   "outputs": [
    {
     "data": {
      "text/plain": [
       "True"
      ]
     },
     "execution_count": 187,
     "metadata": {},
     "output_type": "execute_result"
    }
   ],
   "source": [
    "(5<7) and ((8>5)  or (3<4))"
   ]
  },
  {
   "cell_type": "markdown",
   "id": "b6e72880-b664-42b9-9c24-1ddb3b102cf1",
   "metadata": {},
   "source": [
    "# Operadores condicionales: if elif else"
   ]
  },
  {
   "cell_type": "code",
   "execution_count": 220,
   "id": "4ec7d1e6-b032-474e-98c0-d8d9078f38b6",
   "metadata": {},
   "outputs": [
    {
     "name": "stdout",
     "output_type": "stream",
     "text": [
      "a es igual a b\n"
     ]
    }
   ],
   "source": [
    "a = 5\n",
    "b = 5\n",
    "if(a==b):\n",
    "    print(\"a es igual a b\")"
   ]
  },
  {
   "cell_type": "code",
   "execution_count": 222,
   "id": "40bb9da4-177f-4b96-882e-77586d72f3b8",
   "metadata": {},
   "outputs": [
    {
     "name": "stdout",
     "output_type": "stream",
     "text": [
      "a no es igual a b\n"
     ]
    }
   ],
   "source": [
    "a = 5\n",
    "b = 6\n",
    "if(a==b):\n",
    "    print(\"a es igual a b\")\n",
    "else:\n",
    "    print(\"a no es igual a b\")"
   ]
  },
  {
   "cell_type": "code",
   "execution_count": 216,
   "id": "91b11619-863b-4785-a81e-24a33cd3d963",
   "metadata": {},
   "outputs": [
    {
     "name": "stdout",
     "output_type": "stream",
     "text": [
      "a es menor que b\n"
     ]
    }
   ],
   "source": [
    "a = 5\n",
    "b = 5\n",
    "if(a==b):\n",
    "    print(\"a es igual a b\")\n",
    "elif(a>b):\n",
    "    print(\"a es mayor que b\")\n",
    "elif(a<b):\n",
    "    print(\"a es menor que b\")\n",
    "else:\n",
    "    print(\"a no es igual a b\")"
   ]
  },
  {
   "cell_type": "code",
   "execution_count": 218,
   "id": "2667b115-3fd5-43ae-9f48-4c6389041b7d",
   "metadata": {},
   "outputs": [
    {
     "name": "stdout",
     "output_type": "stream",
     "text": [
      "a es menor que b\n"
     ]
    }
   ],
   "source": [
    "a = 5\n",
    "b = 7\n",
    "if(a==b):\n",
    "    print(\"a es igual a b\")\n",
    "elif(a>b):\n",
    "    print(\"a es mayor que b\")\n",
    "elif(a<b):\n",
    "    print(\"a es menor que b\")\n",
    "else:\n",
    "    print(\"a no es igual a b\")  # Va por orden para cumplir conición"
   ]
  },
  {
   "cell_type": "markdown",
   "id": "0de08c91-127a-4605-b48b-5b71b1dd0982",
   "metadata": {},
   "source": [
    "# Bucle fOR"
   ]
  },
  {
   "cell_type": "code",
   "execution_count": 6,
   "id": "2ea8d55c-40c7-423c-8ebb-a544f5237fda",
   "metadata": {},
   "outputs": [
    {
     "name": "stdout",
     "output_type": "stream",
     "text": [
      "1\n",
      "2\n",
      "3\n",
      "4\n",
      "5\n",
      "6\n"
     ]
    }
   ],
   "source": [
    "lista = [1,2,3,4,5,6]\n",
    "for elemento in lista:\n",
    "    print(elemento)"
   ]
  },
  {
   "cell_type": "code",
   "execution_count": 10,
   "id": "200126c2-13f1-4dd4-978f-e0132373ac27",
   "metadata": {},
   "outputs": [
    {
     "name": "stdout",
     "output_type": "stream",
     "text": [
      "5\n",
      "10\n",
      "15\n",
      "20\n",
      "25\n",
      "30\n"
     ]
    }
   ],
   "source": [
    "lista = [1,2,3,4,5,6]\n",
    "for elemento in lista:\n",
    "    valor = elemento*5\n",
    "    print(valor)"
   ]
  },
  {
   "cell_type": "markdown",
   "id": "b162a8a2-d5dd-41d3-bef8-6e261eecd0db",
   "metadata": {},
   "source": [
    "# Bucle while"
   ]
  },
  {
   "cell_type": "code",
   "execution_count": 15,
   "id": "c447b4b2-426d-45f5-b766-b40dbe47c55b",
   "metadata": {},
   "outputs": [
    {
     "name": "stdout",
     "output_type": "stream",
     "text": [
      "1\n",
      "2\n",
      "3\n",
      "4\n"
     ]
    }
   ],
   "source": [
    "numero = 1\n",
    "while numero<5:\n",
    "    print(numero)\n",
    "    numero = numero+1"
   ]
  },
  {
   "cell_type": "markdown",
   "id": "902c7766-8d3b-41ce-ac30-8f3699117830",
   "metadata": {},
   "source": [
    "# Función range() - generador de números"
   ]
  },
  {
   "cell_type": "code",
   "execution_count": 19,
   "id": "b61900de-2ca7-4752-81fb-4edb7b50f8ce",
   "metadata": {},
   "outputs": [
    {
     "data": {
      "text/plain": [
       "range(0, 5)"
      ]
     },
     "execution_count": 19,
     "metadata": {},
     "output_type": "execute_result"
    }
   ],
   "source": [
    "range(0,5)"
   ]
  },
  {
   "cell_type": "code",
   "execution_count": 21,
   "id": "2aa0a6a3-01aa-45bc-92c6-857b0a27ef1d",
   "metadata": {},
   "outputs": [
    {
     "data": {
      "text/plain": [
       "[0, 1, 2, 3, 4, 5, 6]"
      ]
     },
     "execution_count": 21,
     "metadata": {},
     "output_type": "execute_result"
    }
   ],
   "source": [
    "list(range(0,7))"
   ]
  },
  {
   "cell_type": "code",
   "execution_count": 23,
   "id": "77b1b502-09c9-4a91-a71b-5a455ab8aff8",
   "metadata": {},
   "outputs": [
    {
     "name": "stdout",
     "output_type": "stream",
     "text": [
      "0\n",
      "1\n",
      "2\n",
      "3\n",
      "4\n",
      "5\n",
      "6\n"
     ]
    }
   ],
   "source": [
    "for x in range(0,7):\n",
    "    print(x)"
   ]
  },
  {
   "cell_type": "code",
   "execution_count": 25,
   "id": "6d41f619-8a1c-4870-9418-2d2d3a75fb71",
   "metadata": {},
   "outputs": [
    {
     "name": "stdout",
     "output_type": "stream",
     "text": [
      "2\n",
      "3\n",
      "4\n",
      "5\n",
      "6\n"
     ]
    }
   ],
   "source": [
    "for x in range(2,7):\n",
    "    print(x)"
   ]
  },
  {
   "cell_type": "markdown",
   "id": "722d4e7f-d365-404b-9071-e6c4ba2be397",
   "metadata": {},
   "source": [
    "# Compreción de la lista - crrear una lista a partir de otra"
   ]
  },
  {
   "cell_type": "code",
   "execution_count": 38,
   "id": "b9dec2a7-f7df-4a66-abc2-07aaf899bcdd",
   "metadata": {},
   "outputs": [],
   "source": [
    "lista1 = [1,2,3,4,5]\n",
    "lista2 = []\n",
    "for numero in lista1:\n",
    "    valor = numero*2\n",
    "    lista2.append(valor)"
   ]
  },
  {
   "cell_type": "code",
   "execution_count": 42,
   "id": "0cc8dadb-479c-409d-a26b-3fe422605b89",
   "metadata": {},
   "outputs": [
    {
     "data": {
      "text/plain": [
       "[2, 4, 6, 8, 10]"
      ]
     },
     "execution_count": 42,
     "metadata": {},
     "output_type": "execute_result"
    }
   ],
   "source": [
    "lista2"
   ]
  },
  {
   "cell_type": "code",
   "execution_count": 48,
   "id": "58b931ab-a3cf-4a96-a7fd-136f1a8802f8",
   "metadata": {},
   "outputs": [],
   "source": [
    "lista3 = [numero*2 for numero in lista1] "
   ]
  },
  {
   "cell_type": "code",
   "execution_count": 50,
   "id": "5228a256-c673-4e6b-83f5-0b46390417da",
   "metadata": {},
   "outputs": [
    {
     "data": {
      "text/plain": [
       "[2, 4, 6, 8, 10]"
      ]
     },
     "execution_count": 50,
     "metadata": {},
     "output_type": "execute_result"
    }
   ],
   "source": [
    "lista3"
   ]
  },
  {
   "cell_type": "code",
   "execution_count": 52,
   "id": "5f150a53-d168-481d-9ee7-5c1f45a7d6bc",
   "metadata": {},
   "outputs": [],
   "source": [
    "lista3 = [numero*3 for numero in lista1] "
   ]
  },
  {
   "cell_type": "code",
   "execution_count": 54,
   "id": "ee54552e-81f4-45e9-a6cc-bb66eb5fc765",
   "metadata": {},
   "outputs": [
    {
     "data": {
      "text/plain": [
       "[3, 6, 9, 12, 15]"
      ]
     },
     "execution_count": 54,
     "metadata": {},
     "output_type": "execute_result"
    }
   ],
   "source": [
    "lista3"
   ]
  },
  {
   "cell_type": "markdown",
   "id": "ed62d751-04a5-44c7-9e0a-a7775bc3a3c6",
   "metadata": {},
   "source": [
    "# Funcciones"
   ]
  },
  {
   "cell_type": "code",
   "execution_count": 57,
   "id": "9abd0af7-2c0b-48ef-a62b-6228501b73f3",
   "metadata": {},
   "outputs": [],
   "source": [
    "def funcción():\n",
    "    print(\"Hola , buenos días\")"
   ]
  },
  {
   "cell_type": "code",
   "execution_count": 59,
   "id": "1d2154b0-ae39-49d9-95f5-ededb4900a15",
   "metadata": {},
   "outputs": [
    {
     "name": "stdout",
     "output_type": "stream",
     "text": [
      "Hola , buenos días\n"
     ]
    }
   ],
   "source": [
    "funcción()"
   ]
  },
  {
   "cell_type": "code",
   "execution_count": 103,
   "id": "5f79de99-3160-4d5c-af68-b670e9b82c25",
   "metadata": {},
   "outputs": [],
   "source": [
    "def saludar(nombre):\n",
    "    print(\"Hola, buenas días\" + nombre)"
   ]
  },
  {
   "cell_type": "code",
   "execution_count": 105,
   "id": "003ab80b-4fac-4943-b68c-d1339e2c5f4c",
   "metadata": {},
   "outputs": [
    {
     "name": "stdout",
     "output_type": "stream",
     "text": [
      "Hola, buenas díasAntonio\n"
     ]
    }
   ],
   "source": [
    "saludar(\"Antonio\")"
   ]
  },
  {
   "cell_type": "code",
   "execution_count": 107,
   "id": "4e96ea1a-3b28-441b-8b06-62a185643a63",
   "metadata": {},
   "outputs": [],
   "source": [
    "def saludar(nombre):\n",
    "    print(\"Hola, buenas días\" \" \" + nombre)"
   ]
  },
  {
   "cell_type": "code",
   "execution_count": 109,
   "id": "f4842448-7a73-4dd0-90a3-6a0672b1c999",
   "metadata": {},
   "outputs": [
    {
     "name": "stdout",
     "output_type": "stream",
     "text": [
      "Hola, buenas días Antonio\n"
     ]
    }
   ],
   "source": [
    " saludar(\"Antonio\")"
   ]
  },
  {
   "cell_type": "code",
   "execution_count": 111,
   "id": "01b35a96-4b17-4936-a778-b0e068286e8a",
   "metadata": {},
   "outputs": [],
   "source": [
    "def sumar(numero1, numero2):\n",
    "    resultado = numero1+ numero2\n",
    "    return resultado"
   ]
  },
  {
   "cell_type": "code",
   "execution_count": 113,
   "id": "b736355b-1789-43a8-9ddc-36038c952757",
   "metadata": {},
   "outputs": [
    {
     "data": {
      "text/plain": [
       "5"
      ]
     },
     "execution_count": 113,
     "metadata": {},
     "output_type": "execute_result"
    }
   ],
   "source": [
    "sumar(2,3)"
   ]
  },
  {
   "cell_type": "code",
   "execution_count": 115,
   "id": "46e92b70-9cf8-4b2d-ad75-73e47a63dc43",
   "metadata": {},
   "outputs": [],
   "source": [
    "def sumar(numero1, numero2):\n",
    "    \"\"\"\n",
    "    Esto es un comentario de la funcción sumar\n",
    "    Esta funcción suma los dos números pasados como parametros\n",
    "    \"\"\"\n",
    "    resultado = numero1+ numero2\n",
    "    return resultado"
   ]
  },
  {
   "cell_type": "code",
   "execution_count": 117,
   "id": "195106f3-1f95-4d39-9713-507ad1ebb25f",
   "metadata": {},
   "outputs": [
    {
     "data": {
      "text/plain": [
       "13"
      ]
     },
     "execution_count": 117,
     "metadata": {},
     "output_type": "execute_result"
    }
   ],
   "source": [
    "sumar(5,8)"
   ]
  },
  {
   "cell_type": "markdown",
   "id": "1d2ec61b-a514-4871-b4e3-3cc9c90fca8c",
   "metadata": {},
   "source": [
    "# Función map()"
   ]
  },
  {
   "cell_type": "code",
   "execution_count": 1,
   "id": "3800aefd-ab8f-486c-8df2-3d6665f2cc02",
   "metadata": {},
   "outputs": [],
   "source": [
    "def multiplicar(número):\n",
    "    return número * 2"
   ]
  },
  {
   "cell_type": "code",
   "execution_count": 3,
   "id": "2533b8df-3550-4319-906f-421f8a9f8036",
   "metadata": {},
   "outputs": [
    {
     "data": {
      "text/plain": [
       "10"
      ]
     },
     "execution_count": 3,
     "metadata": {},
     "output_type": "execute_result"
    }
   ],
   "source": [
    "multiplicar(5)"
   ]
  },
  {
   "cell_type": "code",
   "execution_count": 9,
   "id": "e24c846a-1314-41d6-aaf5-9748e7d417de",
   "metadata": {},
   "outputs": [
    {
     "data": {
      "text/plain": [
       "[2, 4, 6, 8, 10]"
      ]
     },
     "execution_count": 9,
     "metadata": {},
     "output_type": "execute_result"
    }
   ],
   "source": [
    "lista = [1,2,3,4,5]\n",
    "lista2 = list(map(multiplicar, lista))\n",
    "lista2"
   ]
  },
  {
   "cell_type": "code",
   "execution_count": 17,
   "id": "1bced9b4-65d9-4268-b250-cb5e48ad9a87",
   "metadata": {},
   "outputs": [],
   "source": [
    "def multiplicar(número):\n",
    "    return número * 5"
   ]
  },
  {
   "cell_type": "code",
   "execution_count": 19,
   "id": "6bfba30e-7a77-45cc-933b-06166d770e0e",
   "metadata": {},
   "outputs": [
    {
     "data": {
      "text/plain": [
       "25"
      ]
     },
     "execution_count": 19,
     "metadata": {},
     "output_type": "execute_result"
    }
   ],
   "source": [
    "multiplicar(5)"
   ]
  },
  {
   "cell_type": "code",
   "execution_count": 21,
   "id": "c8b7fcb4-4a6a-42f5-8a36-12d6e75dae4d",
   "metadata": {},
   "outputs": [
    {
     "data": {
      "text/plain": [
       "[5, 10, 15, 20, 25]"
      ]
     },
     "execution_count": 21,
     "metadata": {},
     "output_type": "execute_result"
    }
   ],
   "source": [
    "lista = [1,2,3,4,5]\n",
    "lista2 = list(map(multiplicar, lista))\n",
    "lista2"
   ]
  },
  {
   "cell_type": "markdown",
   "id": "bedd09aa-c450-4bf5-b19e-2c2fdd923f30",
   "metadata": {},
   "source": [
    "# Funcciónes lombda"
   ]
  },
  {
   "cell_type": "code",
   "execution_count": 34,
   "id": "94274db1-8729-45e4-a1d0-80989ac74eb0",
   "metadata": {},
   "outputs": [],
   "source": [
    "def multiplicar(número):\n",
    "    return número * 2"
   ]
  },
  {
   "cell_type": "code",
   "execution_count": 36,
   "id": "28e1b93d-f0a6-4719-80af-74a00ae457b3",
   "metadata": {},
   "outputs": [
    {
     "data": {
      "text/plain": [
       "10"
      ]
     },
     "execution_count": 36,
     "metadata": {},
     "output_type": "execute_result"
    }
   ],
   "source": [
    "multiplicar(5)"
   ]
  },
  {
   "cell_type": "code",
   "execution_count": 42,
   "id": "effafecf-1932-4cfe-b5c3-9f3bb09fe4b7",
   "metadata": {},
   "outputs": [],
   "source": [
    "lista1 = [1,2,3,4]\n",
    "lista2 = list(map(multiplicar, lista1))"
   ]
  },
  {
   "cell_type": "code",
   "execution_count": 44,
   "id": "578151f5-fef8-44e5-8636-f07db777995c",
   "metadata": {},
   "outputs": [
    {
     "data": {
      "text/plain": [
       "[2, 4, 6, 8]"
      ]
     },
     "execution_count": 44,
     "metadata": {},
     "output_type": "execute_result"
    }
   ],
   "source": [
    "lista2"
   ]
  },
  {
   "cell_type": "code",
   "execution_count": 52,
   "id": "437e5505-43bc-410f-9fb9-cf7a52ce0873",
   "metadata": {},
   "outputs": [],
   "source": [
    "lista1 = [1,2,3,4]\n",
    "lista3 = list(map(lambda número: número * 2, lista1))"
   ]
  },
  {
   "cell_type": "code",
   "execution_count": 54,
   "id": "74efaf2c-f09c-4dd3-8b6e-47cf484ba9b6",
   "metadata": {},
   "outputs": [
    {
     "data": {
      "text/plain": [
       "[2, 4, 6, 8]"
      ]
     },
     "execution_count": 54,
     "metadata": {},
     "output_type": "execute_result"
    }
   ],
   "source": [
    "lista3"
   ]
  },
  {
   "cell_type": "markdown",
   "id": "0b3b93e0-4fc5-43eb-b73c-75351055da3c",
   "metadata": {},
   "source": [
    "# Filtros"
   ]
  },
  {
   "cell_type": "code",
   "execution_count": 79,
   "id": "6fadd8b8-93dc-4b6d-b36f-9a80259802c6",
   "metadata": {},
   "outputs": [],
   "source": [
    "def pares(número):\n",
    "    if(número % 2 ==0):\n",
    "        return número"
   ]
  },
  {
   "cell_type": "code",
   "execution_count": 81,
   "id": "ca32fa39-cffc-43f3-a536-744422457442",
   "metadata": {},
   "outputs": [],
   "source": [
    "pares(5)"
   ]
  },
  {
   "cell_type": "code",
   "execution_count": 83,
   "id": "bae24434-d37c-4f59-be50-68781221c37e",
   "metadata": {},
   "outputs": [
    {
     "data": {
      "text/plain": [
       "4"
      ]
     },
     "execution_count": 83,
     "metadata": {},
     "output_type": "execute_result"
    }
   ],
   "source": [
    "pares(4)"
   ]
  },
  {
   "cell_type": "code",
   "execution_count": 95,
   "id": "be062e74-00d9-47cd-ac68-3f5e0ad0bcbd",
   "metadata": {},
   "outputs": [
    {
     "data": {
      "text/plain": [
       "[2, 4, 6]"
      ]
     },
     "execution_count": 95,
     "metadata": {},
     "output_type": "execute_result"
    }
   ],
   "source": [
    "lista1 = [1,2,3,4,5,6,7]\n",
    "lista_pares = list(filter(pares, lista1))\n",
    "\n",
    "lista_pares"
   ]
  },
  {
   "cell_type": "code",
   "execution_count": 91,
   "id": "ce0a952f-f5fe-4999-989f-570f387bfe4b",
   "metadata": {},
   "outputs": [
    {
     "name": "stdout",
     "output_type": "stream",
     "text": [
      "[2, 4, 6]\n"
     ]
    }
   ],
   "source": [
    "# Definir la función pares\n",
    "def pares(x):\n",
    "    return x % 2 == 0\n",
    "\n",
    "# Lista inicial\n",
    "lista1 = [1, 2, 3, 4, 5, 6, 7]\n",
    "\n",
    "# Filtrar los elementos pares de lista1\n",
    "lista_pares = list(filter(pares, lista1))\n",
    "\n",
    "print(lista_pares)\n"
   ]
  },
  {
   "cell_type": "code",
   "execution_count": 97,
   "id": "74cf6ad6-5813-44a5-bcd3-066b4c8ed2ba",
   "metadata": {},
   "outputs": [
    {
     "data": {
      "text/plain": [
       "[2, 4, 6]"
      ]
     },
     "execution_count": 97,
     "metadata": {},
     "output_type": "execute_result"
    }
   ],
   "source": [
    "lista1 = [1,2,3,4,5,6,7]\n",
    "lista_pares_lambda = list(filter(lambda número:número %2 == 0, lista1))\n",
    "lista_pares_lambda\n"
   ]
  },
  {
   "cell_type": "markdown",
   "id": "c8716695-f109-478f-8267-7095f7e66140",
   "metadata": {},
   "source": [
    "# Cadena de caracteres"
   ]
  },
  {
   "cell_type": "code",
   "execution_count": 100,
   "id": "634de08d-693c-440d-8ba7-559fbd914a31",
   "metadata": {},
   "outputs": [],
   "source": [
    "cadena = \"Hola, buenos días, me llamo Antonio\""
   ]
  },
  {
   "cell_type": "code",
   "execution_count": 102,
   "id": "669af2eb-e3be-4529-aada-4c85edf4e38a",
   "metadata": {},
   "outputs": [
    {
     "data": {
      "text/plain": [
       "'Hola, buenos días, me llamo Antonio'"
      ]
     },
     "execution_count": 102,
     "metadata": {},
     "output_type": "execute_result"
    }
   ],
   "source": [
    "cadena"
   ]
  },
  {
   "cell_type": "code",
   "execution_count": 104,
   "id": "a5537b6d-cd22-4a49-a762-bd0a41c8c73b",
   "metadata": {},
   "outputs": [
    {
     "data": {
      "text/plain": [
       "'HOLA, BUENOS DÍAS, ME LLAMO ANTONIO'"
      ]
     },
     "execution_count": 104,
     "metadata": {},
     "output_type": "execute_result"
    }
   ],
   "source": [
    "cadena.upper()"
   ]
  },
  {
   "cell_type": "code",
   "execution_count": 106,
   "id": "a367c564-0dd3-4175-b5c4-cc4803a71665",
   "metadata": {},
   "outputs": [
    {
     "data": {
      "text/plain": [
       "'hola, buenos días, me llamo antonio'"
      ]
     },
     "execution_count": 106,
     "metadata": {},
     "output_type": "execute_result"
    }
   ],
   "source": [
    "cadena.lower()"
   ]
  },
  {
   "cell_type": "code",
   "execution_count": 110,
   "id": "52fb8b77-9c17-4677-b975-586db9a66a31",
   "metadata": {},
   "outputs": [
    {
     "data": {
      "text/plain": [
       "['Hola,', 'buenos', 'días,', 'me', 'llamo', 'Antonio']"
      ]
     },
     "execution_count": 110,
     "metadata": {},
     "output_type": "execute_result"
    }
   ],
   "source": [
    "cadena.split()"
   ]
  },
  {
   "cell_type": "code",
   "execution_count": 112,
   "id": "1f4fecc9-c2fe-4071-8db2-28131bba0f93",
   "metadata": {},
   "outputs": [
    {
     "data": {
      "text/plain": [
       "['Hola', ' buenos días', ' me llamo Antonio']"
      ]
     },
     "execution_count": 112,
     "metadata": {},
     "output_type": "execute_result"
    }
   ],
   "source": [
    "cadena.split(\",\")"
   ]
  },
  {
   "cell_type": "code",
   "execution_count": 114,
   "id": "f8670d70-6e8f-491b-b211-7e1230a80135",
   "metadata": {},
   "outputs": [
    {
     "data": {
      "text/plain": [
       "'Hola'"
      ]
     },
     "execution_count": 114,
     "metadata": {},
     "output_type": "execute_result"
    }
   ],
   "source": [
    "cadena.split(\",\")[0]"
   ]
  },
  {
   "cell_type": "code",
   "execution_count": 116,
   "id": "8827c67e-4f23-48b4-97b7-3d4655296e17",
   "metadata": {},
   "outputs": [
    {
     "data": {
      "text/plain": [
       "' me llamo Antonio'"
      ]
     },
     "execution_count": 116,
     "metadata": {},
     "output_type": "execute_result"
    }
   ],
   "source": [
    "cadena.split(\",\")[-1]"
   ]
  },
  {
   "cell_type": "code",
   "execution_count": 118,
   "id": "0f45bef7-0980-43fc-adf9-f4ee18bb3e49",
   "metadata": {},
   "outputs": [
    {
     "data": {
      "text/plain": [
       "' me llamo Antonio'"
      ]
     },
     "execution_count": 118,
     "metadata": {},
     "output_type": "execute_result"
    }
   ],
   "source": [
    "cadena.split(\",\")[2]"
   ]
  },
  {
   "cell_type": "code",
   "execution_count": 124,
   "id": "76ddbf46-5566-463f-a137-1f089b4a7e8c",
   "metadata": {},
   "outputs": [],
   "source": [
    "cadena_mayusculas = cadena.upper()"
   ]
  },
  {
   "cell_type": "code",
   "execution_count": 126,
   "id": "b98d5b7c-7736-41f1-a60d-b843793a5aa9",
   "metadata": {},
   "outputs": [
    {
     "data": {
      "text/plain": [
       "'HOLA, BUENOS DÍAS, ME LLAMO ANTONIO'"
      ]
     },
     "execution_count": 126,
     "metadata": {},
     "output_type": "execute_result"
    }
   ],
   "source": [
    "cadena_mayusculas"
   ]
  },
  {
   "cell_type": "markdown",
   "id": "0914b488-7400-4ceb-b860-b8784a86647d",
   "metadata": {},
   "source": [
    "# Ejercicios"
   ]
  },
  {
   "cell_type": "markdown",
   "id": "155d7d22-1355-46f1-ba56-5036c16a4d1d",
   "metadata": {},
   "source": [
    "Ejercicio 1\n",
    "---"
   ]
  },
  {
   "cell_type": "code",
   "execution_count": 129,
   "id": "301e091f-bc9f-485d-ad2a-f61fe6b5d762",
   "metadata": {},
   "outputs": [],
   "source": [
    "# Dada la siguiente frase\n",
    "# frase = \" Hola, este es curso básico de Python\"\n",
    "# Divide la frase en palabras y cuenta el número palabras que contiene esa frase\n",
    "# Muestra el resultado mediante\"print\" de esta forma:\n",
    "# El número de palabras es....\n"
   ]
  },
  {
   "cell_type": "code",
   "execution_count": 151,
   "id": "84476185-3155-4e97-b5c6-9b94c5f44dbe",
   "metadata": {},
   "outputs": [],
   "source": [
    "frase = \"Hola este curso es un cuso básico Python\""
   ]
  },
  {
   "cell_type": "code",
   "execution_count": 153,
   "id": "94c69ebc-d85f-4d46-af4f-f0436da27f5b",
   "metadata": {},
   "outputs": [],
   "source": [
    "palabras = frase.split()"
   ]
  },
  {
   "cell_type": "code",
   "execution_count": 155,
   "id": "36f4aab2-171e-4941-86c1-838effa9ddaa",
   "metadata": {},
   "outputs": [
    {
     "data": {
      "text/plain": [
       "['Hola', 'este', 'curso', 'es', 'un', 'cuso', 'básico', 'Python']"
      ]
     },
     "execution_count": 155,
     "metadata": {},
     "output_type": "execute_result"
    }
   ],
   "source": [
    "palabras"
   ]
  },
  {
   "cell_type": "code",
   "execution_count": 157,
   "id": "050b51ca-7aad-4a04-9b8c-1a7229f6ad79",
   "metadata": {},
   "outputs": [],
   "source": [
    "número = 0\n",
    "for palabra in palabras:\n",
    "    número = número + 1"
   ]
  },
  {
   "cell_type": "code",
   "execution_count": 159,
   "id": "f2ce9f05-42ce-4fcd-980f-02b3803c20a0",
   "metadata": {},
   "outputs": [
    {
     "data": {
      "text/plain": [
       "8"
      ]
     },
     "execution_count": 159,
     "metadata": {},
     "output_type": "execute_result"
    }
   ],
   "source": [
    "número"
   ]
  },
  {
   "cell_type": "code",
   "execution_count": 161,
   "id": "56a2cab5-9fba-478b-aefc-10e5a3a95aa2",
   "metadata": {},
   "outputs": [
    {
     "name": "stdout",
     "output_type": "stream",
     "text": [
      "El número de palabras\n"
     ]
    }
   ],
   "source": [
    "print(\"El número de palabras\")"
   ]
  },
  {
   "cell_type": "code",
   "execution_count": 165,
   "id": "fb2fe884-d067-4921-bbdb-d5804221c0d0",
   "metadata": {},
   "outputs": [
    {
     "name": "stdout",
     "output_type": "stream",
     "text": [
      "El número de palabras es 8\n"
     ]
    }
   ],
   "source": [
    "print(\"El número de palabras es {}\".format(número))"
   ]
  },
  {
   "cell_type": "markdown",
   "id": "d3db54a4-9c86-42ce-afde-5ecfa6c609d3",
   "metadata": {},
   "source": [
    "Ejercicio 2\n",
    "---"
   ]
  },
  {
   "cell_type": "markdown",
   "id": "1295e671-70a7-410f-8aeb-c80dcc9d29d4",
   "metadata": {},
   "source": [
    " \n",
    " Dada la siguiente lista\n",
    " lista = [1,-1,4,-15,9,7,6,-3,2,-20]\n",
    " Crear una funcción \"positivo, que pasando como parametro un número, lo devuelve tal cual si es positivo, o no \n",
    " devuelve nada si el número es negativo\n",
    " Crear una nueva lista \"lista2\" , que mediante \"filter\", contenga solo los números positivos de la lista inicial.\n",
    " "
   ]
  },
  {
   "cell_type": "code",
   "execution_count": null,
   "id": "f5b81a3d-a056-4a11-a892-4ad538b633d7",
   "metadata": {},
   "outputs": [],
   "source": [
    "lista = [1, -1, 4, -15, 9, 7, 6, -3, 2, -20]"
   ]
  },
  {
   "cell_type": "code",
   "execution_count": 195,
   "id": "e3cc20b8-82a7-425f-b212-52ec1bd53345",
   "metadata": {},
   "outputs": [
    {
     "data": {
      "text/plain": [
       "[1, -1, 4, -15, 9, 7, 6, -3, 2, -20]"
      ]
     },
     "execution_count": 195,
     "metadata": {},
     "output_type": "execute_result"
    }
   ],
   "source": [
    "lista"
   ]
  },
  {
   "cell_type": "code",
   "execution_count": 209,
   "id": "1c1eb77f-cb93-4c6c-a9fc-81e4c3c344fe",
   "metadata": {},
   "outputs": [],
   "source": [
    "# Definir la función positivo\n",
    "def positivo(número):\n",
    "    if (número >=0):\n",
    "       return número "
   ]
  },
  {
   "cell_type": "code",
   "execution_count": 211,
   "id": "f6e3f736-f728-4489-88bb-4e402b8a613a",
   "metadata": {},
   "outputs": [],
   "source": [
    "positivo(-5)"
   ]
  },
  {
   "cell_type": "code",
   "execution_count": 213,
   "id": "80379e99-c0a1-4b42-ab24-193da66da778",
   "metadata": {},
   "outputs": [
    {
     "data": {
      "text/plain": [
       "6"
      ]
     },
     "execution_count": 213,
     "metadata": {},
     "output_type": "execute_result"
    }
   ],
   "source": [
    "positivo(6)"
   ]
  },
  {
   "cell_type": "code",
   "execution_count": 217,
   "id": "317215e3-6fad-4b48-b050-b30d5a227376",
   "metadata": {},
   "outputs": [
    {
     "data": {
      "text/plain": [
       "[1, 4, 9, 7, 6, 2]"
      ]
     },
     "execution_count": 217,
     "metadata": {},
     "output_type": "execute_result"
    }
   ],
   "source": [
    "# Definir la función positivo\n",
    "def positivo(número):\n",
    "    return número >= 0\n",
    "\n",
    "# Lista inicial\n",
    "lista = [1, -1, 4, -15, 9, 7, 6, -3, 2, -20]\n",
    "\n",
    "# Filtrar los elementos positivos de lista1\n",
    "lista2 = list(filter(positivo, lista))\n",
    "\n",
    "lista2\n"
   ]
  },
  {
   "cell_type": "markdown",
   "id": "62999089-36e2-40fb-8c9b-a40d09701d72",
   "metadata": {},
   "source": [
    "Ejercicio 3\n",
    "---"
   ]
  },
  {
   "cell_type": "markdown",
   "id": "97edefcf-e20b-40ad-b3cf-8b17c7e4d649",
   "metadata": {},
   "source": [
    "Dada la siguiente lista de palabras,\n",
    "lista = ['manzana', 'platano','melocotón','pera', 'manzana','pera', 'limón'. 'platano','naranja']\n",
    "crea una nueva lista \"lista_sin_dublicados\" eliminando las palabras repetidas."
   ]
  },
  {
   "cell_type": "code",
   "execution_count": 227,
   "id": "e77d22c2-3cc6-4d04-9dc3-00f36a2e9de3",
   "metadata": {},
   "outputs": [],
   "source": [
    " lista = ['manzana', 'platano','melocotón','pera', 'manzana','pera', 'limón', 'platano','naranja']"
   ]
  },
  {
   "cell_type": "code",
   "execution_count": 229,
   "id": "ab6a7fbe-2ee2-4c9b-a5c9-00c630b145ab",
   "metadata": {},
   "outputs": [
    {
     "data": {
      "text/plain": [
       "['manzana',\n",
       " 'platano',\n",
       " 'melocotón',\n",
       " 'pera',\n",
       " 'manzana',\n",
       " 'pera',\n",
       " 'limón',\n",
       " 'platano',\n",
       " 'naranja']"
      ]
     },
     "execution_count": 229,
     "metadata": {},
     "output_type": "execute_result"
    }
   ],
   "source": [
    "lista"
   ]
  },
  {
   "cell_type": "code",
   "execution_count": 223,
   "id": "abb49c3f-e037-4b45-bb04-442e8b905ac7",
   "metadata": {},
   "outputs": [],
   "source": [
    " lista = ['manzana', 'platano','melocotón','pera', 'manzana','pera', 'limón', 'platano','naranja']\n",
    "conjunto = set(lista)"
   ]
  },
  {
   "cell_type": "code",
   "execution_count": 225,
   "id": "e287e994-6a55-48b3-a71c-83f92fb24c97",
   "metadata": {},
   "outputs": [
    {
     "data": {
      "text/plain": [
       "{'limón', 'manzana', 'melocotón', 'naranja', 'pera', 'platano'}"
      ]
     },
     "execution_count": 225,
     "metadata": {},
     "output_type": "execute_result"
    }
   ],
   "source": [
    "conjunto"
   ]
  },
  {
   "cell_type": "code",
   "execution_count": 233,
   "id": "82410e53-ec6e-4c50-ba9b-faad82084f1c",
   "metadata": {},
   "outputs": [],
   "source": [
    "lista_sin_dublicados = []\n",
    "for elemento in conjunto: # hacemos un bucle\n",
    "    lista_sin_dublicados.append(elemento)"
   ]
  },
  {
   "cell_type": "code",
   "execution_count": 235,
   "id": "0374dfa2-53b7-4f03-9e0b-72c701fd4583",
   "metadata": {},
   "outputs": [
    {
     "data": {
      "text/plain": [
       "['platano', 'manzana', 'limón', 'pera', 'naranja', 'melocotón']"
      ]
     },
     "execution_count": 235,
     "metadata": {},
     "output_type": "execute_result"
    }
   ],
   "source": [
    "lista_sin_dublicados"
   ]
  },
  {
   "cell_type": "markdown",
   "id": "67172a0b-abfb-4c11-8b59-08f91d17ae55",
   "metadata": {},
   "source": [
    "Ejercicio 4\n",
    "---"
   ]
  },
  {
   "cell_type": "markdown",
   "id": "3f89749f-078a-49e4-bc26-a7215bdfe5ad",
   "metadata": {},
   "source": [
    "Crear una funcción \"dividir_entre_dos, que divide un número entre el número \"2\" y devuelve el resultado\n",
    "Dada la siguiente lista = [20,18,8,4,10,40,6]\n",
    "Crear una nueva lista \"lista2\" que mediante la funcción \"map\" aplique la funcción \"dividir_entre-dos\" a cada elemento."
   ]
  },
  {
   "cell_type": "code",
   "execution_count": 247,
   "id": "72a97be5-f91d-446d-9d36-2c08ce68e41a",
   "metadata": {},
   "outputs": [
    {
     "data": {
      "text/plain": [
       "[20, 18, 8, 4, 10, 40, 6]"
      ]
     },
     "execution_count": 247,
     "metadata": {},
     "output_type": "execute_result"
    }
   ],
   "source": [
    "lista = [20,18,8,4,10,40,6]\n",
    "lista"
   ]
  },
  {
   "cell_type": "code",
   "execution_count": 257,
   "id": "40d3fee5-e9d3-4a7a-bc41-418a5715067a",
   "metadata": {},
   "outputs": [],
   "source": [
    "def dividir_entre_dos(número):\n",
    "    resultado =  número / 2\n",
    "    return  resultado"
   ]
  },
  {
   "cell_type": "code",
   "execution_count": 259,
   "id": "c5587109-d0fb-4c3a-8eaf-f5d60dca335d",
   "metadata": {},
   "outputs": [
    {
     "data": {
      "text/plain": [
       "5.0"
      ]
     },
     "execution_count": 259,
     "metadata": {},
     "output_type": "execute_result"
    }
   ],
   "source": [
    "dividir_entre_dos(10)"
   ]
  },
  {
   "cell_type": "code",
   "execution_count": 261,
   "id": "64742552-450d-491d-b8b3-2c2fd9420de4",
   "metadata": {},
   "outputs": [
    {
     "data": {
      "text/plain": [
       "20.0"
      ]
     },
     "execution_count": 261,
     "metadata": {},
     "output_type": "execute_result"
    }
   ],
   "source": [
    "dividir_entre_dos(40)"
   ]
  },
  {
   "cell_type": "code",
   "execution_count": 265,
   "id": "61413d1f-c9a1-4c7f-a18a-f3c68593a097",
   "metadata": {},
   "outputs": [
    {
     "data": {
      "text/plain": [
       "[10.0, 9.0, 4.0, 2.0, 5.0, 20.0, 3.0]"
      ]
     },
     "execution_count": 265,
     "metadata": {},
     "output_type": "execute_result"
    }
   ],
   "source": [
    "lista = [20, 18, 8, 4, 10, 40, 6]\n",
    "lista2 = list(map(dividir, lista))\n",
    "lista2"
   ]
  },
  {
   "cell_type": "markdown",
   "id": "def589ed-0f34-437b-a9e0-c72f3415a230",
   "metadata": {},
   "source": [
    "Ejercicio 5\n",
    "---"
   ]
  },
  {
   "cell_type": "markdown",
   "id": "60ff531f-7d20-43b1-8df1-c822a357a63d",
   "metadata": {},
   "source": [
    "Ejercicio de codificación : Operaciones Matemáticas\n",
    "Crear una función que reciba 2 números como parámetros y que devuelva la suma, resta, multiplicación, división y resto de las operaciones entre ambos números\n",
    "\n",
    "def\n",
    "### Prueba la función con valores específicos\n",
    "a = 10\n",
    "b = 3\n",
    " \n",
    "resultado = operaciones_matematicas(a, b)\n",
    "print(\"Suma:\", resultado[0])\n",
    "print(\"Resta:\", resultado[1])\n",
    "print(\"Multiplicación:\", resultado[2])\n",
    "print(\"División:\", resultado[3])\n",
    "print(\"Residuo:\", resultado[4])\n"
   ]
  },
  {
   "cell_type": "code",
   "execution_count": 280,
   "id": "5a39f976-4e28-442c-ad55-b65cd0430ce8",
   "metadata": {},
   "outputs": [
    {
     "name": "stdout",
     "output_type": "stream",
     "text": [
      "Suma: 13\n",
      "Resta: 7\n",
      "Multiplicación: 30\n",
      "División: 3.3333333333333335\n",
      "Residuo: 1\n"
     ]
    }
   ],
   "source": [
    "def operaciones_matematicas(a, b):\n",
    "    suma = a + b\n",
    "    resta = a - b\n",
    "    multiplicacion = a * b\n",
    "    division = a / b\n",
    "    residuo = a % b\n",
    "    return suma, resta, multiplicacion, division, residuo\n",
    "\n",
    "# Prueba la función con valores específicos\n",
    "a = 10\n",
    "b = 3\n",
    "resultado = operaciones_matematicas(a, b)\n",
    "\n",
    "print(\"Suma:\", resultado[0])\n",
    "print(\"Resta:\", resultado[1])\n",
    "print(\"Multiplicación:\", resultado[2])\n",
    "print(\"División:\", resultado[3])\n",
    "print(\"Residuo:\", resultado[4])\n"
   ]
  },
  {
   "cell_type": "code",
   "execution_count": 267,
   "id": "5d68f58a-05d7-4560-a06e-137d3584bac6",
   "metadata": {},
   "outputs": [
    {
     "name": "stdout",
     "output_type": "stream",
     "text": [
      "13\n",
      "7\n",
      "30\n",
      "3.3333333333333335\n",
      "1\n"
     ]
    }
   ],
   "source": [
    "def sumar(número1, número2): # Otra manera\n",
    "    resultado = número1 + número2\n",
    "    return resultado\n",
    "a = 10\n",
    "b = 3\n",
    "def sumar(número1, número2):\n",
    "    resultado = operaciónes_matematicas(a,b)\n",
    "    return resultado\n",
    "a = 10\n",
    "b = 3\n",
    "print(a+b)\n",
    "print(a-b)\n",
    "print(a*b)\n",
    "print(a/b)\n",
    "print(a%b)\n"
   ]
  },
  {
   "cell_type": "markdown",
   "id": "f1442790-dc1c-4040-97cc-1ff0e61d65a7",
   "metadata": {},
   "source": [
    "Ejercicio 6\n",
    "---"
   ]
  },
  {
   "cell_type": "markdown",
   "id": "b87cda80-655a-4243-bc7b-bf596a9bfc54",
   "metadata": {},
   "source": [
    "Calcular la suma y promedio de una lista de números\n",
    "Desarrolla una función llamada 'calcular_suma_y_promedio' que tome como entrada una lista de números y calcule la suma de todos los números de la lista y el promedio de esos números.\n",
    "\n",
    "La función devolverá un diccionario con los resultados de la suma y el promedio\n",
    "\n"
   ]
  },
  {
   "cell_type": "code",
   "execution_count": 283,
   "id": "68ad439e-bb69-4fcc-90b6-5891f4be2913",
   "metadata": {},
   "outputs": [
    {
     "name": "stdout",
     "output_type": "stream",
     "text": [
      "Suma: 15\n",
      "Promedio: 3.0\n"
     ]
    }
   ],
   "source": [
    "def calcular_suma_y_promedio(lista_numeros):\n",
    "    suma = sum(lista_numeros)\n",
    "    if len(lista_numeros) > 0:\n",
    "        promedio = suma / len(lista_numeros)\n",
    "    else:\n",
    "        promedio = 0\n",
    "    return {\"suma\": suma, \"promedio\": promedio}\n",
    "\n",
    "# Pruebas\n",
    "numeros = [1, 2, 3, 4, 5]\n",
    "resultado = calcular_suma_y_promedio(numeros)\n",
    "print(\"Suma:\", resultado[\"suma\"])\n",
    "print(\"Promedio:\", resultado[\"promedio\"])\n",
    "\n"
   ]
  },
  {
   "cell_type": "markdown",
   "id": "9f5b0e04-6e29-4661-a96f-1901af4bfba5",
   "metadata": {},
   "source": [
    "Ejercicio 7\n",
    "---"
   ]
  },
  {
   "cell_type": "markdown",
   "id": "a1f9f951-4d49-495f-b0ec-d84203cdd93f",
   "metadata": {},
   "source": [
    "Frecuencia de elementos en una lista\n",
    "Crear una función denominada 'contar_frecuencia' que tome una lista de números y calcule las veces (frecuencia) que aparece cada número en la lista y devuelva los resultados en forma de diccionario, donde cada clave será cada número distinto de la lista y cada valor será el número de veces que aparece ese número en la lista.\n",
    "\n",
    "\n",
    "\n",
    "def contar_frecuencia(lista):\n",
    "\n",
    "\n",
    "\n",
    "### Ejemplo de uso\n",
    "elementos = [1, 2, 2, 3, 1, 2, 4, 5, 4]\n",
    "resultado = contar_frecuencia(elementos)\n",
    "print(resultado)\n",
    "\n",
    "\n",
    "{1: 2, 2: 3, 3: 1, 4: 2, 5: 1}"
   ]
  },
  {
   "cell_type": "code",
   "execution_count": 287,
   "id": "1e98bacc-7643-405b-b7ec-9d471083a0c8",
   "metadata": {},
   "outputs": [
    {
     "name": "stdout",
     "output_type": "stream",
     "text": [
      "{1: 2, 2: 3, 3: 1, 4: 2, 5: 1}\n"
     ]
    }
   ],
   "source": [
    "def contar_frecuencia(lista):\n",
    "    frecuencia = {}\n",
    "    for numero in lista:\n",
    "        if numero in frecuencia:\n",
    "            frecuencia[numero] += 1\n",
    "        else:\n",
    "            frecuencia[numero] = 1\n",
    "    return frecuencia\n",
    "\n",
    "# Ejemplo de uso\n",
    "elementos = [1, 2, 2, 3, 1, 2, 4, 5, 4]\n",
    "resultado = contar_frecuencia(elementos)\n",
    "print(resultado)\n"
   ]
  },
  {
   "cell_type": "markdown",
   "id": "791bce64-2b14-499b-bea0-c9af43120cd0",
   "metadata": {},
   "source": [
    "Ejercicio 8\n",
    "---"
   ]
  },
  {
   "cell_type": "markdown",
   "id": "f5059928-737b-4a71-b6bb-cfeaa936a7da",
   "metadata": {},
   "source": [
    "Aplicar una Función y Filtrar Elementos en una Lista\n",
    "La función recibirá como parámetros una lista de números y un valor_umbral y devolverá la lista de números cuyos cuadrados sean mayores que el valor_umbral, utilizando para ello las funciones lambda, map, filter y list.\n",
    "\n",
    "\n",
    "\n",
    "def aplicar_funcion_y_filtrar(lista, valor_maximo):\n",
    "\n",
    "\n",
    "\n",
    "### Ejemplo de uso\n",
    "numeros = [1, 2, 3, 4, 5]\n",
    "valor_umbral = 3\n",
    "resultado = aplicar_funcion_y_filtrar(numeros, valor_umbral)\n",
    "print(resultado)\n",
    "\n",
    "\n"
   ]
  },
  {
   "cell_type": "code",
   "execution_count": 290,
   "id": "72bd6928-3a15-4934-a04a-8c15f5602757",
   "metadata": {},
   "outputs": [
    {
     "name": "stdout",
     "output_type": "stream",
     "text": [
      "[4, 9, 16, 25]\n"
     ]
    }
   ],
   "source": [
    "def aplicar_funcion_y_filtrar(lista, valor_umbral):\n",
    "    # Calcular los cuadrados de los números y filtrar los que son mayores que el valor umbral\n",
    "    return list(filter(lambda x: x > valor_umbral, map(lambda x: x ** 2, lista)))\n",
    "\n",
    "# Ejemplo de uso\n",
    "numeros = [1, 2, 3, 4, 5]\n",
    "valor_umbral = 3\n",
    "resultado = aplicar_funcion_y_filtrar(numeros, valor_umbral)\n",
    "\n",
    "print(resultado)  \n"
   ]
  }
 ],
 "metadata": {
  "kernelspec": {
   "display_name": "Python 3 (ipykernel)",
   "language": "python",
   "name": "python3"
  },
  "language_info": {
   "codemirror_mode": {
    "name": "ipython",
    "version": 3
   },
   "file_extension": ".py",
   "mimetype": "text/x-python",
   "name": "python",
   "nbconvert_exporter": "python",
   "pygments_lexer": "ipython3",
   "version": "3.11.7"
  }
 },
 "nbformat": 4,
 "nbformat_minor": 5
}
